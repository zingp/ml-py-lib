{
 "cells": [
  {
   "cell_type": "code",
   "execution_count": 1,
   "metadata": {},
   "outputs": [],
   "source": [
    "import torch\n",
    "from torch import nn, optim\n",
    "from torch.utils.data import DataLoader\n",
    "import torchvision\n",
    "from torchvision import transforms\n",
    "import torchvision.datasets as datasets"
   ]
  },
  {
   "cell_type": "code",
   "execution_count": 2,
   "metadata": {},
   "outputs": [],
   "source": [
    "def accu(out, y):\n",
    "    _, pred = torch.max(out, 1)  # 最大概率，对应的类别\n",
    "    corr_num = pred.eq(y).sum()  # tensor 得取出结果\n",
    "    acc = corr_num.item() / y.shape[0]\n",
    "    return acc\n",
    "\n",
    "def train(model, device, train_loader, criterion, optimizer):\n",
    "    model.train()\n",
    "    train_loss = 0.0\n",
    "    train_acc = 0.0\n",
    "    for x, y in train_loader:\n",
    "        x = x.to(device)\n",
    "        y = y.to(device)\n",
    "        optimizer.zero_grad()\n",
    "        out = model(x)               # 各个分类的概率\n",
    "        loss = criterion(out, y)\n",
    "        train_loss += loss.item()\n",
    "        acc = accu(out, y)\n",
    "        train_acc += acc\n",
    "        loss.backward()\n",
    "        optimizer.step()\n",
    "    return train_loss / len(train_loader), train_acc / len(train_loader) \n",
    "\n",
    "def evaluate(model, device, test_loader, criterion):\n",
    "    model.eval()\n",
    "    test_loss = 0.0\n",
    "    test_acc = 0.0\n",
    "    with torch.no_grad():\n",
    "        for x, y in test_loader:\n",
    "            x = x.to(device)\n",
    "            y = y.to(device)\n",
    "            out = model(x) \n",
    "            loss = criterion(out, y)\n",
    "            test_loss += loss.item()\n",
    "            acc = accu(out, y)\n",
    "            test_acc += acc\n",
    "    return test_loss/len(test_loader), test_acc/len(test_loader)\n",
    "\n",
    "def modify_lr(optimizer, lr):\n",
    "    for param_group in optimizer.param_groups:\n",
    "        print(\"Before modify lr is:\", param_group[\"lr\"])\n",
    "        param_group[\"lr\"] = lr\n",
    "        print(\"After modify lr is:\", param_group[\"lr\"])"
   ]
  },
  {
   "cell_type": "code",
   "execution_count": 3,
   "metadata": {},
   "outputs": [],
   "source": [
    "class BasicConv2d(nn.Module):\n",
    "    def __init__(self, in_channels, out_channels, **kwargs):\n",
    "        super(BasicConv2d, self).__init__()\n",
    "        self.conv = nn.Conv2d(in_channels, out_channels, bias=False, **kwargs)\n",
    "        self.bn = nn.BatchNorm2d(out_channels, eps=0.001)\n",
    "        self.relu = nn.ReLU(inplace=True)\n",
    "\n",
    "    def forward(self, x):\n",
    "        x = self.conv(x)\n",
    "        x = self.bn(x)\n",
    "        x = self.relu(x)\n",
    "        return x\n",
    "\n",
    "\n",
    "class Inception(nn.Module):\n",
    "    def __init__(self, in_channel, n1_1, n3x3red, n3x3, n5x5red, n5x5, pool_plane):\n",
    "        super(Inception, self).__init__()\n",
    "        # first line\n",
    "        self.branch1x1 = BasicConv2d(in_channel, n1_1, kernel_size=1)\n",
    "\n",
    "        # second line\n",
    "        self.branch3x3 = nn.Sequential(\n",
    "            BasicConv2d(in_channel, n3x3red, kernel_size=1),\n",
    "            BasicConv2d(n3x3red, n3x3, kernel_size=3, padding=1)\n",
    "        )\n",
    "\n",
    "        # third line\n",
    "        self.branch5x5 = nn.Sequential(\n",
    "            BasicConv2d(in_channel, n5x5red, kernel_size=1),\n",
    "            BasicConv2d(n5x5red, n5x5, kernel_size=5, padding=2)\n",
    "        )\n",
    "\n",
    "        # fourth line\n",
    "        self.branch_pool = nn.Sequential(\n",
    "            nn.MaxPool2d(3, stride=1, padding=1),\n",
    "            BasicConv2d(in_channel, pool_plane, kernel_size=1)\n",
    "        )\n",
    "\n",
    "    def forward(self, x):\n",
    "        y1 = self.branch1x1(x)\n",
    "        y2 = self.branch3x3(x)\n",
    "        y3 = self.branch5x5(x)\n",
    "        y4 = self.branch_pool(x)\n",
    "        output = torch.cat([y1, y2, y3, y4], 1)\n",
    "        return output\n",
    "\n",
    "\n",
    "class GoogLeNet(nn.Module):\n",
    "    def __init__(self, num_classes=10):\n",
    "        super(GoogLeNet, self).__init__()\n",
    "\n",
    "        self.conv1 = BasicConv2d(3, 64, kernel_size=7, stride=2, padding=3)\n",
    "\n",
    "        self.max_pool1 = nn.MaxPool2d(3, stride=2)\n",
    "\n",
    "        self.conv2 = BasicConv2d(64, 192, kernel_size=3, stride=1, padding=1)\n",
    "\n",
    "        self.max_pool2 = nn.MaxPool2d(3, stride=2)\n",
    "\n",
    "        self.a3 = Inception(192, 64, 96, 128, 16, 32, 32)\n",
    "        self.b3 = Inception(256, 128, 128, 192, 32, 96, 64)\n",
    "\n",
    "        self.max_pool3 = nn.MaxPool2d(3, stride=2)\n",
    "\n",
    "        self.a4 = Inception(480, 192, 96, 208, 16, 48, 64)\n",
    "        self.b4 = Inception(512, 160, 112, 224, 24, 64, 64)\n",
    "        self.c4 = Inception(512, 128, 128, 256, 24, 64, 64)\n",
    "        self.d4 = Inception(512, 112, 144, 288, 32, 64, 64)\n",
    "        self.e4 = Inception(528, 256, 160, 320, 32, 128, 128)\n",
    "\n",
    "        self.max_pool4 = nn.MaxPool2d(3, stride=2)\n",
    "\n",
    "        self.a5 = Inception(832, 256, 160, 320, 32, 128, 128)\n",
    "        self.b5 = Inception(832, 384, 192, 384, 48, 128, 128)\n",
    "\n",
    "        self.avg_pool = nn.AvgPool2d(7)\n",
    "\n",
    "        self.dropout = nn.Dropout(0.4)\n",
    "\n",
    "        self.classifier = nn.Linear(1024, num_classes)\n",
    "\n",
    "    def forward(self, x):\n",
    "        x = self.conv1(x)\n",
    "        x = self.max_pool1(x)\n",
    "        x = self.conv2(x)\n",
    "        x = self.max_pool2(x)\n",
    "        x = self.a3(x)\n",
    "        x = self.b3(x)\n",
    "        x = self.max_pool3(x)\n",
    "        x = self.a4(x)\n",
    "        x = self.b4(x)\n",
    "        x = self.c4(x)\n",
    "        x = self.d4(x)\n",
    "        x = self.e4(x)\n",
    "        x = self.max_pool4(x)\n",
    "        x = self.a5(x)\n",
    "        x = self.b5(x)\n",
    "        x = self.avg_pool(x)\n",
    "        x = self.dropout(x)\n",
    "        x = x.view(x.size(0), -1)\n",
    "        x = self.classifier(x)\n",
    "        return x"
   ]
  },
  {
   "cell_type": "code",
   "execution_count": 4,
   "metadata": {},
   "outputs": [],
   "source": [
    "batch_size = 32\n",
    "epochs = 100"
   ]
  },
  {
   "cell_type": "code",
   "execution_count": 5,
   "metadata": {},
   "outputs": [],
   "source": [
    "data_trans = transforms.Compose([\n",
    "    transforms.RandomHorizontalFlip(),\n",
    "    transforms.RandomRotation(10),\n",
    "    transforms.RandomCrop(32,padding=3),\n",
    "    transforms.Resize(224),\n",
    "    transforms.ToTensor(),\n",
    "    transforms.Normalize((0.49139968, 0.48215827, 0.44653124), (0.24703233, 0.24348505, 0.26158768))#参数mean和std来自于训练集，但是transform本身会在训练和评测的时候都会使用\n",
    "])\n",
    "\n",
    "data_test = transforms.Compose([\n",
    "    transforms.Resize(224),\n",
    "    transforms.ToTensor(),\n",
    "    transforms.Normalize((0.49139968, 0.48215827, 0.44653124), (0.24703233, 0.24348505, 0.26158768))\n",
    "])"
   ]
  },
  {
   "cell_type": "code",
   "execution_count": 6,
   "metadata": {},
   "outputs": [
    {
     "name": "stdout",
     "output_type": "stream",
     "text": [
      "Files already downloaded and verified\n",
      "Files already downloaded and verified\n"
     ]
    }
   ],
   "source": [
    "train_data = datasets.CIFAR10('data', train=True, download=True, transform=data_trans)\n",
    "test_data = datasets.CIFAR10('data', train=False, download=True, transform=data_trans)"
   ]
  },
  {
   "cell_type": "code",
   "execution_count": 7,
   "metadata": {},
   "outputs": [],
   "source": [
    "n_train = int(len(train_data)*0.9)\n",
    "n_valid = len(train_data) - n_train\n",
    "train_datasets, valid_datasets = torch.utils.data.random_split(train_data, [n_train, n_valid])\n",
    "\n",
    "train_loader = DataLoader(train_datasets, batch_size=batch_size, shuffle=True)\n",
    "valid_loader = DataLoader(valid_datasets, batch_size=batch_size, shuffle=False)\n",
    "test_loader = DataLoader(test_data, batch_size=batch_size, shuffle=False)"
   ]
  },
  {
   "cell_type": "code",
   "execution_count": 8,
   "metadata": {},
   "outputs": [],
   "source": [
    "device = torch.device(\"cuda\" if torch.cuda.is_available() else \"cpu\")\n",
    "model = GoogLeNet(10)\n",
    "if torch.cuda.device_count() > 1:\n",
    "    model = nn.DataParallel(model)\n",
    "    model = model.to(device)\n",
    "else:\n",
    "    model = model.to(device)"
   ]
  },
  {
   "cell_type": "code",
   "execution_count": 9,
   "metadata": {},
   "outputs": [],
   "source": [
    "optimizer = optim.SGD(model.parameters(), lr=1e-1)\n",
    "criterion = nn.CrossEntropyLoss()"
   ]
  },
  {
   "cell_type": "code",
   "execution_count": 10,
   "metadata": {},
   "outputs": [
    {
     "name": "stdout",
     "output_type": "stream",
     "text": [
      "Epoch:1|Train Loss:1.6702552531404367|Train Acc:0.3937455579246624|Val Loss:1.5274906682360703|Val Acc:0.46078821656050956\n",
      "Epoch:2|Train Loss:1.1684414563699232|Train Acc:0.5947050461975835|Val Loss:1.1361543710824031|Val Acc:0.6011146496815286\n",
      "Epoch:3|Train Loss:0.9392321138154893|Train Acc:0.6795264747690121|Val Loss:0.8806839351821097|Val Acc:0.6932722929936306\n",
      "Epoch:4|Train Loss:0.8069233792041665|Train Acc:0.7270344705046198|Val Loss:0.8533581064385214|Val Acc:0.7151671974522293\n",
      "Epoch:5|Train Loss:0.7247118050948728|Train Acc:0.7534648187633263|Val Loss:0.6328939851492074|Val Acc:0.7878184713375797\n",
      "Epoch:6|Train Loss:0.6583590377029495|Train Acc:0.7781405472636815|Val Loss:0.6314234974657654|Val Acc:0.7878184713375797\n",
      "Epoch:7|Train Loss:0.6058666593399807|Train Acc:0.7950870646766169|Val Loss:0.655844840274495|Val Acc:0.7768710191082803\n",
      "Epoch:8|Train Loss:0.558272251410525|Train Acc:0.812322316986496|Val Loss:0.4692033740935052|Val Acc:0.839171974522293\n",
      "Epoch:9|Train Loss:0.5226705789502496|Train Acc:0.8245158137882018|Val Loss:0.558911644539256|Val Acc:0.8150875796178344\n",
      "Epoch:10|Train Loss:0.48822243359170236|Train Acc:0.8334221748400853|Val Loss:0.8491149529529984|Val Acc:0.7386544585987261\n",
      "Epoch:11|Train Loss:0.4582882706491593|Train Acc:0.8465929282160626|Val Loss:0.7181328547418497|Val Acc:0.7730891719745223\n",
      "Epoch:12|Train Loss:0.4302399444480525|Train Acc:0.85545486851457|Val Loss:0.5721161480352377|Val Acc:0.8083200636942676\n",
      "Epoch:13|Train Loss:0.40870630289954163|Train Acc:0.8618514570007108|Val Loss:0.43165333099236153|Val Acc:0.8568869426751592\n",
      "Epoch:14|Train Loss:0.3867606019552244|Train Acc:0.8698471926083866|Val Loss:0.511306059303557|Val Acc:0.8278264331210191\n",
      "Epoch:15|Train Loss:0.3675697176917784|Train Acc:0.8757773631840796|Val Loss:0.4674581751986674|Val Acc:0.8429538216560509\n",
      "Epoch:16|Train Loss:0.3439669485899601|Train Acc:0.8835954157782516|Val Loss:0.4786499791843876|Val Acc:0.8479299363057324\n",
      "Epoch:17|Train Loss:0.33048990620372987|Train Acc:0.8889481165600569|Val Loss:0.38534740733492906|Val Acc:0.8692277070063694\n",
      "Epoch:18|Train Loss:0.3161069229245186|Train Acc:0.8923240938166311|Val Loss:0.6389341969398936|Val Acc:0.7888136942675159\n",
      "Epoch:19|Train Loss:0.30587063161040673|Train Acc:0.8969438521677328|Val Loss:0.3643125245335755|Val Acc:0.8783837579617835\n",
      "Epoch:20|Train Loss:0.2894899231284412|Train Acc:0.9006085643212509|Val Loss:0.47062794650626033|Val Acc:0.8517117834394905\n",
      "Epoch:21|Train Loss:0.27642332918163554|Train Acc:0.9066497867803838|Val Loss:0.42158846500193237|Val Acc:0.8634554140127388\n",
      "Epoch:22|Train Loss:0.2620438125405484|Train Acc:0.9112695451314854|Val Loss:0.5455491110018105|Val Acc:0.8318073248407644\n",
      "Epoch:23|Train Loss:0.25550458094670403|Train Acc:0.9137571073205402|Val Loss:0.49079956028871474|Val Acc:0.8489251592356688\n",
      "Epoch:24|Train Loss:0.24357857138935182|Train Acc:0.9153784648187633|Val Loss:0.4878896700728471|Val Acc:0.8409633757961783\n",
      "Epoch:25|Train Loss:0.23635895700109877|Train Acc:0.9194873845060412|Val Loss:0.344443088836351|Val Acc:0.8875398089171974\n",
      "Epoch:26|Train Loss:0.22454633135361796|Train Acc:0.9241071428571429|Val Loss:0.4544473414303391|Val Acc:0.861265923566879\n",
      "Epoch:27|Train Loss:0.21166746333167327|Train Acc:0.9278162757640369|Val Loss:0.40599352776244946|Val Acc:0.8765923566878981\n",
      "Epoch:28|Train Loss:0.20666738120837677|Train Acc:0.9302372068230277|Val Loss:0.3735025442994324|Val Acc:0.8777866242038217\n",
      "Epoch:29|Train Loss:0.20125586158770065|Train Acc:0.9313921464108031|Val Loss:0.3901812731745137|Val Acc:0.8724124203821656\n",
      "Epoch:30|Train Loss:0.1897419340108927|Train Acc:0.9352789623312011|Val Loss:0.44748613997629494|Val Acc:0.8664410828025477\n",
      "Epoch:31|Train Loss:0.18215310541276145|Train Acc:0.9380108386638237|Val Loss:0.6743267734718931|Val Acc:0.8272292993630573\n",
      "Epoch:32|Train Loss:0.18106837507652407|Train Acc:0.9376998933901919|Val Loss:0.978830832205001|Val Acc:0.7597531847133758\n",
      "Epoch:33|Train Loss:0.16761991493377434|Train Acc:0.9426750177683013|Val Loss:0.385544229322558|Val Acc:0.8781847133757962\n",
      "Epoch:34|Train Loss:0.16331318883435814|Train Acc:0.9436300639658849|Val Loss:0.4219427514038268|Val Acc:0.8700238853503185\n",
      "Epoch:35|Train Loss:0.16019274623748167|Train Acc:0.945184790334044|Val Loss:0.4990194065935293|Val Acc:0.8564888535031847\n",
      "Epoch:36|Train Loss:0.15092037462476474|Train Acc:0.9477834044065387|Val Loss:0.602346085059415|Val Acc:0.8463375796178344\n",
      "Epoch:37|Train Loss:0.14692922789595528|Train Acc:0.9496268656716418|Val Loss:1.9934544212119594|Val Acc:0.67078025477707\n",
      "Epoch:38|Train Loss:0.1513897516124623|Train Acc:0.9496490760483298|Val Loss:1.1696613237356683|Val Acc:0.7275079617834395\n",
      "Epoch:39|Train Loss:0.14079633234935868|Train Acc:0.9517812722103767|Val Loss:0.6771609130179047|Val Acc:0.8180732484076433\n",
      "Epoch:40|Train Loss:0.13702261995712153|Train Acc:0.9522921108742004|Val Loss:0.4337264314578597|Val Acc:0.8730095541401274\n",
      "Epoch:41|Train Loss:0.13015422602558102|Train Acc:0.9554904051172708|Val Loss:0.36402041260983536|Val Acc:0.8927149681528662\n",
      "Epoch:42|Train Loss:0.12727790832117084|Train Acc:0.9560012437810945|Val Loss:0.552918565738353|Val Acc:0.8493232484076433\n",
      "Epoch:43|Train Loss:0.12223449669773051|Train Acc:0.9586886993603412|Val Loss:0.4189553335783588|Val Acc:0.8789808917197452\n",
      "Epoch:44|Train Loss:0.11590569263539928|Train Acc:0.9602656361051883|Val Loss:0.376942753174882|Val Acc:0.8835589171974523\n",
      "Epoch:45|Train Loss:0.1092587657320474|Train Acc:0.9626421464108031|Val Loss:0.39278550559927705|Val Acc:0.8799761146496815\n",
      "Epoch:46|Train Loss:0.10685726890092889|Train Acc:0.9631085643212509|Val Loss:0.5431748509976515|Val Acc:0.857484076433121\n",
      "Epoch:47|Train Loss:0.11572438239384053|Train Acc:0.960865316275764|Val Loss:0.36239180965408396|Val Acc:0.892515923566879\n",
      "Epoch:48|Train Loss:0.10385714015409128|Train Acc:0.9655294953802417|Val Loss:0.6380051576597675|Val Acc:0.8335987261146497\n",
      "Epoch:49|Train Loss:0.10236231051253018|Train Acc:0.9653740227434258|Val Loss:0.3227289822071221|Val Acc:0.9074442675159236\n",
      "Before modify lr is: 0.1\n",
      "After modify lr is: 0.01\n",
      "Epoch:50|Train Loss:0.0935747126632323|Train Acc:0.96863894811656|Val Loss:0.369321772911746|Val Acc:0.8947054140127388\n",
      "Epoch:51|Train Loss:0.06467614807956339|Train Acc:0.9786780383795309|Val Loss:0.2754813618720717|Val Acc:0.919984076433121\n",
      "Epoch:52|Train Loss:0.04921308420889752|Train Acc:0.9842750533049041|Val Loss:0.2693878335842661|Val Acc:0.92296974522293\n",
      "Epoch:53|Train Loss:0.04201049815172325|Train Acc:0.9867848258706468|Val Loss:0.27640576447081416|Val Acc:0.9195859872611465\n",
      "Epoch:54|Train Loss:0.03847024422972949|Train Acc:0.9880952380952381|Val Loss:0.2785493686415587|Val Acc:0.92296974522293\n",
      "Epoch:55|Train Loss:0.03765638216578037|Train Acc:0.98829513148543|Val Loss:0.2617401590297936|Val Acc:0.9215764331210191\n",
      "Epoch:56|Train Loss:0.036743136362438096|Train Acc:0.9887615493958778|Val Loss:0.27656270748680567|Val Acc:0.923765923566879\n",
      "Epoch:57|Train Loss:0.03446804155418868|Train Acc:0.9889170220326937|Val Loss:0.2723536269300303|Val Acc:0.9213773885350318\n",
      "Epoch:58|Train Loss:0.03216890408243791|Train Acc:0.9899386993603412|Val Loss:0.2810006428770958|Val Acc:0.9259554140127388\n",
      "Epoch:59|Train Loss:0.03168099118871899|Train Acc:0.9899609097370291|Val Loss:0.2884646545929514|Val Acc:0.9217754777070064\n",
      "Epoch:60|Train Loss:0.03228891559352922|Train Acc:0.9907160625444208|Val Loss:0.272003141178447|Val Acc:0.9269506369426752\n",
      "Epoch:61|Train Loss:0.02993219638641794|Train Acc:0.9911380597014925|Val Loss:0.30273328408314165|Val Acc:0.9219745222929936\n",
      "Epoch:62|Train Loss:0.03032680277864223|Train Acc:0.9907604832977968|Val Loss:0.2645634487745868|Val Acc:0.9247611464968153\n",
      "Epoch:63|Train Loss:0.029276996660334214|Train Acc:0.9914712153518124|Val Loss:0.2734017982414574|Val Acc:0.9253582802547771\n",
      "Epoch:64|Train Loss:0.027593718996561413|Train Acc:0.9913823738450604|Val Loss:0.2841470992299402|Val Acc:0.92296974522293\n",
      "Epoch:65|Train Loss:0.025468884511204076|Train Acc:0.9923818407960199|Val Loss:0.2808027334368912|Val Acc:0.9241640127388535\n",
      "Epoch:66|Train Loss:0.025999277962508064|Train Acc:0.9920264747690121|Val Loss:0.29294687708851636|Val Acc:0.9253582802547771\n",
      "Epoch:67|Train Loss:0.02525618737503918|Train Acc:0.992070895522388|Val Loss:0.2806673696276489|Val Acc:0.9243630573248408\n"
     ]
    },
    {
     "name": "stdout",
     "output_type": "stream",
     "text": [
      "Epoch:68|Train Loss:0.024063542379329794|Train Acc:0.9929815209665956|Val Loss:0.2844030125315782|Val Acc:0.9257563694267515\n",
      "Epoch:69|Train Loss:0.022064615922696047|Train Acc:0.9935145700071073|Val Loss:0.28310611378994716|Val Acc:0.9287420382165605\n",
      "Epoch:70|Train Loss:0.023809310077943104|Train Acc:0.9926261549395877|Val Loss:0.28734084683808553|Val Acc:0.9249601910828026\n",
      "Epoch:71|Train Loss:0.02319880597711711|Train Acc:0.9927149964463398|Val Loss:0.29216901981716703|Val Acc:0.923765923566879\n",
      "Epoch:72|Train Loss:0.02266960712871233|Train Acc:0.9926927860696517|Val Loss:0.2901731802115015|Val Acc:0.9223726114649682\n",
      "Epoch:73|Train Loss:0.0217942691222098|Train Acc:0.9932480454868514|Val Loss:0.30686724518135094|Val Acc:0.9197850318471338\n",
      "Epoch:74|Train Loss:0.02288214326985101|Train Acc:0.9933590973702914|Val Loss:0.30115630197676885|Val Acc:0.9221735668789809\n",
      "Epoch:75|Train Loss:0.02367630368462673|Train Acc:0.9933813077469794|Val Loss:0.27258458648137984|Val Acc:0.9235668789808917\n",
      "Epoch:76|Train Loss:0.020287164821214683|Train Acc:0.9937144633972992|Val Loss:0.2915354036506574|Val Acc:0.9233678343949044\n",
      "Epoch:77|Train Loss:0.020254113966256232|Train Acc:0.9937366737739872|Val Loss:0.2788306799284212|Val Acc:0.9273487261146497\n",
      "Epoch:78|Train Loss:0.019756176154835478|Train Acc:0.9937366737739872|Val Loss:0.2940749540260643|Val Acc:0.9255573248407644\n",
      "Epoch:79|Train Loss:0.019469415772952504|Train Acc:0.9944696162046909|Val Loss:0.31170798999488736|Val Acc:0.9255573248407644\n",
      "Before modify lr is: 0.01\n",
      "After modify lr is: 0.001\n",
      "Epoch:80|Train Loss:0.018643362478067794|Train Acc:0.994314143567875|Val Loss:0.29671419525791887|Val Acc:0.9225716560509554\n",
      "Epoch:81|Train Loss:0.01998994143596336|Train Acc:0.9936700426439232|Val Loss:0.2868308244142563|Val Acc:0.9271496815286624\n",
      "Epoch:82|Train Loss:0.017873799760628018|Train Acc:0.9946472992181947|Val Loss:0.2938838152179293|Val Acc:0.9253582802547771\n",
      "Epoch:83|Train Loss:0.01869099017420642|Train Acc:0.994247512437811|Val Loss:0.2723498767728259|Val Acc:0.9241640127388535\n",
      "Epoch:84|Train Loss:0.017796172050185972|Train Acc:0.9946695095948828|Val Loss:0.30291107211522994|Val Acc:0.9239649681528662\n",
      "Epoch:85|Train Loss:0.020328792141698825|Train Acc:0.9944474058280028|Val Loss:0.3003574160823397|Val Acc:0.9221735668789809\n",
      "Epoch:86|Train Loss:0.0185657802495282|Train Acc:0.9947583511016347|Val Loss:0.2785377784804174|Val Acc:0.9265525477707006\n",
      "Epoch:87|Train Loss:0.01819027858099873|Train Acc:0.9952691897654584|Val Loss:0.2777123435572454|Val Acc:0.9263535031847133\n",
      "Epoch:88|Train Loss:0.01799135266484821|Train Acc:0.9946917199715707|Val Loss:0.291204167304525|Val Acc:0.9251592356687898\n",
      "Epoch:89|Train Loss:0.018344867558833463|Train Acc:0.9944474058280028|Val Loss:0.2792030384965763|Val Acc:0.9267515923566879\n",
      "Epoch:90|Train Loss:0.018221044093476343|Train Acc:0.9946917199715707|Val Loss:0.3003521523657878|Val Acc:0.9251592356687898\n",
      "Epoch:91|Train Loss:0.018625407346657345|Train Acc:0.9944918265813788|Val Loss:0.28858540686452466|Val Acc:0.9251592356687898\n",
      "Epoch:92|Train Loss:0.018474731972942814|Train Acc:0.994069829424307|Val Loss:0.2980923016739499|Val Acc:0.9239649681528662\n",
      "Epoch:93|Train Loss:0.018213770420481824|Train Acc:0.9944474058280028|Val Loss:0.2861124726047941|Val Acc:0.9267515923566879\n",
      "Epoch:94|Train Loss:0.019433707268888763|Train Acc:0.9938921464108031|Val Loss:0.28436478203648974|Val Acc:0.9253582802547771\n",
      "Epoch:95|Train Loss:0.018702438920630407|Train Acc:0.9944918265813788|Val Loss:0.31339818618859455|Val Acc:0.9243630573248408\n",
      "Epoch:96|Train Loss:0.017945296644063052|Train Acc:0.9945362473347548|Val Loss:0.2773027964363432|Val Acc:0.9301353503184714\n",
      "Epoch:97|Train Loss:0.018477339019526296|Train Acc:0.9945584577114428|Val Loss:0.28804584454958604|Val Acc:0.9251592356687898\n",
      "Epoch:98|Train Loss:0.01809270239905762|Train Acc:0.9946695095948828|Val Loss:0.2984287919132573|Val Acc:0.9253582802547771\n",
      "Epoch:99|Train Loss:0.017416668307849|Train Acc:0.9944918265813788|Val Loss:0.2841596414993523|Val Acc:0.9289410828025477\n",
      "Epoch:100|Train Loss:0.018891807007467655|Train Acc:0.994025408670931|Val Loss:0.2984450158135147|Val Acc:0.9249601910828026\n"
     ]
    }
   ],
   "source": [
    "model_path = './models/googlenet-sifar10.pth'\n",
    "best_valid_loss = float(\"inf\")\n",
    "info = 'Epoch:{0}|Train Loss:{1}|Train Acc:{2}|Val Loss:{3}|Val Acc:{4}'\n",
    "for epoch in range(epochs):\n",
    "    train_loss, train_acc = train(model, device, train_loader, criterion, optimizer)\n",
    "    valid_loss, valid_acc = evaluate(model, device, valid_loader, criterion)\n",
    "    if valid_loss < best_valid_loss:\n",
    "        best_valid_loss = valid_loss\n",
    "        torch.save(model.state_dict(), model_path)\n",
    "    if (epoch+1) == 50:\n",
    "        modify_lr(optimizer, lr=1e-2)\n",
    "    if (epoch+1) == 80:\n",
    "        modify_lr(optimizer, lr=1e-3)\n",
    "    print(info.format(epoch+1, train_loss, train_acc, valid_loss, valid_acc))"
   ]
  },
  {
   "cell_type": "markdown",
   "metadata": {},
   "source": [
    "## 图片\n",
    "### inceptionv1参数表\n",
    "- ![image](http://images.cnblogs.com/cnblogs_com/zingp/1384487/o_inceptionv1.png)"
   ]
  },
  {
   "cell_type": "code",
   "execution_count": null,
   "metadata": {},
   "outputs": [],
   "source": []
  },
  {
   "cell_type": "code",
   "execution_count": 40,
   "metadata": {},
   "outputs": [],
   "source": [
    "import matplotlib.pyplot as plt\n",
    "import torch.nn.functional as F\n",
    "from sklearn.metrics import roc_curve, auc, precision_recall_curve, average_precision_score"
   ]
  },
  {
   "cell_type": "code",
   "execution_count": 46,
   "metadata": {},
   "outputs": [],
   "source": [
    "class ModelEval(object):\n",
    "    def __init__(self, model, device, iter_loader, criterion, num_classes):\n",
    "        self.model = model\n",
    "        self.device = device\n",
    "        self.iter_loader = iter_loader\n",
    "        self.criterion =  criterion\n",
    "        self.num_classes = num_classes\n",
    "        self.prediction = []\n",
    "        self.groundtruth = []\n",
    "        self.gt_one_hot = []\n",
    "        self.predscore = []\n",
    "        self.fpr = dict()\n",
    "        self.tpr = dict()\n",
    "        self.roc_auc = dict()\n",
    "    \n",
    "    def evaluate(self):\n",
    "        self.model.eval()\n",
    "        epoch_loss = 0.0\n",
    "        epoch_acc = 0.0\n",
    "        iter_len = len(self.iter_loader)\n",
    "        with torch.no_grad():\n",
    "            for x, y in self.iter_loader:\n",
    "                x = x.to(self.device)\n",
    "                y = y.to(self.device)\n",
    "                out = self.model(x) \n",
    "                self.prediction.append(out)\n",
    "                self.groundtruth.append(y)\n",
    "                loss = self.criterion(out, y)\n",
    "                epoch_loss += loss.item()\n",
    "                acc = accu(out, y)\n",
    "                epoch_acc += acc\n",
    "        return epoch_loss/iter_len, epoch_acc/iter_len\n",
    "    \n",
    "    def get_loss_acc(self):\n",
    "        return self.evaluate()\n",
    "            \n",
    "    def gt_and_predscore(self):\n",
    "        if len(self.prediction) == 0:\n",
    "            _, _ = self.evaluate()\n",
    "        pred = torch.cat(self.prediction).cpu().numpy()   \n",
    "        gt = torch.cat(self.groundtruth).cpu().numpy()\n",
    "        # np.eye()就是拉成one_hot形式， groundtruth的onehot化\n",
    "        self.gt_one_hot = np.eye(self.num_classes)[gt.reshape(-1)]   \n",
    "        # softmax比叙事tensor格式\n",
    "        self.predscore = F.softmax(torch.cat(self.prediction).cpu(), dim=1).cpu().numpy()\n",
    "        \n",
    "    def plt_roc(self):\n",
    "        fpr = dict()\n",
    "        tpr = dict()\n",
    "        roc_auc = dict()\n",
    "        if len(self.gt_one_hot) == 0:\n",
    "            self.gt_and_predscore()\n",
    "        \n",
    "        fpr['micro'], tpr['micro'], _ = roc_curve(self.gt_one_hot.ravel(), self.predscore.ravel())\n",
    "        roc_auc['micro'] = auc(fpr['micro'], tpr['micro'])\n",
    "\n",
    "        for i in range(self.num_classes):\n",
    "            fpr[i], tpr[i], _ = roc_curve(self.gt_one_hot[:, i], self.predscore[:,i])\n",
    "            roc_auc[i] = auc(fpr[i], tpr[i])\n",
    "        for i in range(self.num_classes):\n",
    "            plt.plot(fpr[i], tpr[i], lw=2, label='ROC class %d AUC %0.2f'%(i, roc_auc[i]))\n",
    "        \n",
    "        plt.plot(fpr['micro'], tpr['micro'], lw=5, linestyle=\":\", label='ROC Micro AUC %0.2f'%(roc_auc['micro']))\n",
    "        plt.legend()\n",
    "        \n",
    "    def plt_pr(self):\n",
    "        prc = dict()\n",
    "        rcl = dict()\n",
    "        ap = dict()\n",
    "        if len(self.gt_one_hot) == 0:\n",
    "            self.gt_and_predscore()\n",
    "        prc['micro'], rcl['micro'], _ = precision_recall_curve(self.gt_one_hot.ravel(), self.predscore.ravel())\n",
    "        ap['micro'] = average_precision_score(self.gt_one_hot.ravel(), self.predscore.ravel(), average='micro')\n",
    "        for i in range(self.num_classes):\n",
    "            prc[i], rcl[i], _ = precision_recall_curve(self.gt_one_hot[:,i], self.predscore[:,i])\n",
    "            ap[i] = average_precision_score(self.gt_one_hot[:,i], self.predscore[:,i])\n",
    "        for i in range(self.num_classes):\n",
    "            plt.plot(rcl[i], prc[i], lw=2, label='PR class %d Area %0.2f'%(i,ap[i]))\n",
    "        plt.plot(prc['micro'],rcl['micro'],lw=5,linestyle=\":\",label='PR Micro Area %0.2f'%(ap['micro']))\n",
    "        plt.legend()  "
   ]
  },
  {
   "cell_type": "code",
   "execution_count": 47,
   "metadata": {},
   "outputs": [],
   "source": [
    "obj = ModelEval(model, device, test_loader, criterion, num_classes=10)"
   ]
  },
  {
   "cell_type": "code",
   "execution_count": 48,
   "metadata": {},
   "outputs": [
    {
     "data": {
      "text/plain": [
       "(0.319135738066591, 0.9189297124600639)"
      ]
     },
     "execution_count": 48,
     "metadata": {},
     "output_type": "execute_result"
    }
   ],
   "source": [
    "obj.get_loss_acc()"
   ]
  },
  {
   "cell_type": "code",
   "execution_count": 49,
   "metadata": {},
   "outputs": [
    {
     "data": {
      "image/png": "[encoded data removed]",
      "text/plain": [
       "<Figure size 432x288 with 1 Axes>"
      ]
     },
     "metadata": {
      "needs_background": "light"
     },
     "output_type": "display_data"
    }
   ],
   "source": [
    "obj.plt_roc()"
   ]
  },
  {
   "cell_type": "code",
   "execution_count": 50,
   "metadata": {},
   "outputs": [
    {
     "data": {
      "image/png": "[encoded data removed]",
      "text/plain": [
       "<Figure size 432x288 with 1 Axes>"
      ]
     },
     "metadata": {
      "needs_background": "light"
     },
     "output_type": "display_data"
    }
   ],
   "source": [
    "obj.plt_pr()"
   ]
  },
  {
   "cell_type": "code",
   "execution_count": 52,
   "metadata": {},
   "outputs": [
    {
     "name": "stderr",
     "output_type": "stream",
     "text": [
      "/root/anaconda3/lib/python3.6/site-packages/torch/serialization.py:251: UserWarning: Couldn't retrieve source code for container of type GoogLeNet. It won't be checked for correctness upon loading.\n",
      "  \"type \" + obj.__name__ + \". It won't be checked \"\n",
      "/root/anaconda3/lib/python3.6/site-packages/torch/serialization.py:251: UserWarning: Couldn't retrieve source code for container of type BasicConv2d. It won't be checked for correctness upon loading.\n",
      "  \"type \" + obj.__name__ + \". It won't be checked \"\n",
      "/root/anaconda3/lib/python3.6/site-packages/torch/serialization.py:251: UserWarning: Couldn't retrieve source code for container of type Inception. It won't be checked for correctness upon loading.\n",
      "  \"type \" + obj.__name__ + \". It won't be checked \"\n"
     ]
    }
   ],
   "source": [
    "torch.save(model, model_path)"
   ]
  },
  {
   "cell_type": "code",
   "execution_count": 53,
   "metadata": {},
   "outputs": [
    {
     "ename": "AttributeError",
     "evalue": "'DataParallel' object has no attribute '__name__'",
     "output_type": "error",
     "traceback": [
      "\u001b[0;31m---------------------------------------------------------------------------\u001b[0m",
      "\u001b[0;31mAttributeError\u001b[0m                            Traceback (most recent call last)",
      "\u001b[0;32m<ipython-input-53-f72825e9990d>\u001b[0m in \u001b[0;36m<module>\u001b[0;34m\u001b[0m\n\u001b[0;32m----> 1\u001b[0;31m \u001b[0mmodel\u001b[0m\u001b[0;34m.\u001b[0m\u001b[0m__name__\u001b[0m\u001b[0;34m\u001b[0m\u001b[0;34m\u001b[0m\u001b[0m\n\u001b[0m",
      "\u001b[0;32m~/anaconda3/lib/python3.6/site-packages/torch/nn/modules/module.py\u001b[0m in \u001b[0;36m__getattr__\u001b[0;34m(self, name)\u001b[0m\n\u001b[1;32m    533\u001b[0m                 \u001b[0;32mreturn\u001b[0m \u001b[0mmodules\u001b[0m\u001b[0;34m[\u001b[0m\u001b[0mname\u001b[0m\u001b[0;34m]\u001b[0m\u001b[0;34m\u001b[0m\u001b[0;34m\u001b[0m\u001b[0m\n\u001b[1;32m    534\u001b[0m         raise AttributeError(\"'{}' object has no attribute '{}'\".format(\n\u001b[0;32m--> 535\u001b[0;31m             type(self).__name__, name))\n\u001b[0m\u001b[1;32m    536\u001b[0m \u001b[0;34m\u001b[0m\u001b[0m\n\u001b[1;32m    537\u001b[0m     \u001b[0;32mdef\u001b[0m \u001b[0m__setattr__\u001b[0m\u001b[0;34m(\u001b[0m\u001b[0mself\u001b[0m\u001b[0;34m,\u001b[0m \u001b[0mname\u001b[0m\u001b[0;34m,\u001b[0m \u001b[0mvalue\u001b[0m\u001b[0;34m)\u001b[0m\u001b[0;34m:\u001b[0m\u001b[0;34m\u001b[0m\u001b[0;34m\u001b[0m\u001b[0m\n",
      "\u001b[0;31mAttributeError\u001b[0m: 'DataParallel' object has no attribute '__name__'"
     ]
    }
   ],
   "source": []
  },
  {
   "cell_type": "code",
   "execution_count": null,
   "metadata": {},
   "outputs": [],
   "source": []
  }
 ],
 "metadata": {
  "kernelspec": {
   "display_name": "Python 3",
   "language": "python",
   "name": "python3"
  },
  "language_info": {
   "codemirror_mode": {
    "name": "ipython",
    "version": 3
   },
   "file_extension": ".py",
   "mimetype": "text/x-python",
   "name": "python",
   "nbconvert_exporter": "python",
   "pygments_lexer": "ipython3",
   "version": "3.6.8"
  }
 },
 "nbformat": 4,
 "nbformat_minor": 2
}
