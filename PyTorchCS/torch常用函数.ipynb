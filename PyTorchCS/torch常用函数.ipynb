{
 "cells": [
  {
   "cell_type": "code",
   "execution_count": 1,
   "metadata": {},
   "outputs": [],
   "source": [
    "import torch\n",
    "import torch.nn as nn"
   ]
  },
  {
   "cell_type": "code",
   "execution_count": 2,
   "metadata": {},
   "outputs": [],
   "source": [
    "# torch.squeeze #删掉 Tensor 中大小为 1 的维度，作用类似于 numpy 中的 flatten()\n",
    "# torch.unsqueeze 与 squeeze 进行相反的操作，在参数指定的维度添加一个大小为 1 的维度。\n",
    "# torch.bmm 对同一个 batch 里的两个矩阵求 dot product。 \n",
    "# torch.gather：根据指定的 dimension 以及 index，从一个 tensor 里取出相应位置的值。\n",
    "# torch.mul(a, b)是矩阵a和b对应位相乘，a和b的维度必须相等，比如a的维度是(1, 2)，b的维度是(1, 2)，返回的仍是(1, 2)的矩阵\n",
    "# torch.mm(a, b)是矩阵a和b矩阵相乘，比如a的维度是(1, 2)，b的维度是(2, 3)，返回的就是(1, 3)的矩阵\n",
    "# torch.cat\n",
    "# torch.ne"
   ]
  },
  {
   "cell_type": "code",
   "execution_count": 6,
   "metadata": {},
   "outputs": [
    {
     "data": {
      "text/plain": [
       "tensor([[[0.7718, 0.3268, 0.6563, 0.6734],\n",
       "         [0.0300, 0.1208, 0.4878, 0.3113],\n",
       "         [0.0475, 0.8181, 0.2984, 0.2245]],\n",
       "\n",
       "        [[0.4115, 0.2112, 0.9286, 0.1050],\n",
       "         [0.5111, 0.8850, 0.4168, 0.8963],\n",
       "         [0.8428, 0.1368, 0.0164, 0.0590]]])"
      ]
     },
     "execution_count": 6,
     "metadata": {},
     "output_type": "execute_result"
    }
   ],
   "source": [
    "x = torch.rand(2,3,4)\n",
    "x"
   ]
  },
  {
   "cell_type": "code",
   "execution_count": 9,
   "metadata": {},
   "outputs": [
    {
     "data": {
      "text/plain": [
       "tensor([[1.1833, 0.5380, 1.5849, 0.7784],\n",
       "        [0.5411, 1.0058, 0.9046, 1.2076],\n",
       "        [0.8904, 0.9550, 0.3148, 0.2835]])"
      ]
     },
     "execution_count": 9,
     "metadata": {},
     "output_type": "execute_result"
    }
   ],
   "source": [
    "x.sum(dim=0)"
   ]
  },
  {
   "cell_type": "code",
   "execution_count": 6,
   "metadata": {},
   "outputs": [],
   "source": [
    "l = (2, 3)"
   ]
  },
  {
   "cell_type": "code",
   "execution_count": 7,
   "metadata": {},
   "outputs": [],
   "source": [
    "inp = torch.rand(8, 2)"
   ]
  },
  {
   "cell_type": "code",
   "execution_count": 8,
   "metadata": {},
   "outputs": [
    {
     "data": {
      "text/plain": [
       "tensor([[0.8449, 0.6102],\n",
       "        [0.9377, 0.8641],\n",
       "        [0.6881, 0.4788],\n",
       "        [0.9713, 0.9298],\n",
       "        [0.5647, 0.5123],\n",
       "        [0.7810, 0.6936],\n",
       "        [0.3875, 0.2114],\n",
       "        [0.4120, 0.6362]])"
      ]
     },
     "execution_count": 8,
     "metadata": {},
     "output_type": "execute_result"
    }
   ],
   "source": [
    "inp"
   ]
  },
  {
   "cell_type": "code",
   "execution_count": 9,
   "metadata": {},
   "outputs": [
    {
     "data": {
      "text/plain": [
       "Parameter containing:\n",
       "tensor([[-0.6362, -0.7021],\n",
       "        [-0.4267, -0.6269],\n",
       "        [ 0.3059, -0.3417]], requires_grad=True)"
      ]
     },
     "execution_count": 9,
     "metadata": {},
     "output_type": "execute_result"
    }
   ],
   "source": [
    "l.weight"
   ]
  },
  {
   "cell_type": "code",
   "execution_count": 10,
   "metadata": {},
   "outputs": [
    {
     "data": {
      "text/plain": [
       "Parameter containing:\n",
       "tensor([-0.2412,  0.6470,  0.1694], requires_grad=True)"
      ]
     },
     "execution_count": 10,
     "metadata": {},
     "output_type": "execute_result"
    }
   ],
   "source": [
    "l.bias"
   ]
  },
  {
   "cell_type": "code",
   "execution_count": 11,
   "metadata": {},
   "outputs": [],
   "source": [
    "y = l(inp)"
   ]
  },
  {
   "cell_type": "code",
   "execution_count": 12,
   "metadata": {},
   "outputs": [
    {
     "data": {
      "text/plain": [
       "tensor([[-1.2071, -0.0961,  0.2194],\n",
       "        [-1.4445, -0.2949,  0.1610],\n",
       "        [-1.0151,  0.0532,  0.2163],\n",
       "        [-1.5120, -0.3504,  0.1489],\n",
       "        [-0.9601,  0.0849,  0.1671],\n",
       "        [-1.2251, -0.1211,  0.1713],\n",
       "        [-0.6361,  0.3491,  0.2157],\n",
       "        [-0.9500,  0.0723,  0.0781]], grad_fn=<AddmmBackward>)"
      ]
     },
     "execution_count": 12,
     "metadata": {},
     "output_type": "execute_result"
    }
   ],
   "source": [
    "y"
   ]
  },
  {
   "cell_type": "code",
   "execution_count": 28,
   "metadata": {},
   "outputs": [
    {
     "data": {
      "text/plain": [
       "tensor([[-0.9659, -0.7430,  0.0500],\n",
       "        [-1.2033, -0.9418, -0.0083],\n",
       "        [-0.7739, -0.5938,  0.0469],\n",
       "        [-1.2708, -0.9973, -0.0205],\n",
       "        [-0.7189, -0.5621, -0.0023],\n",
       "        [-0.9839, -0.7681,  0.0020],\n",
       "        [-0.3950, -0.2979,  0.0463],\n",
       "        [-0.7088, -0.5746, -0.0913]], grad_fn=<MmBackward>)"
      ]
     },
     "execution_count": 28,
     "metadata": {},
     "output_type": "execute_result"
    }
   ],
   "source": [
    "torch.mm(inp, l.weight.t()) "
   ]
  },
  {
   "cell_type": "code",
   "execution_count": 27,
   "metadata": {},
   "outputs": [
    {
     "data": {
      "text/plain": [
       "torch.Size([2])"
      ]
     },
     "execution_count": 27,
     "metadata": {},
     "output_type": "execute_result"
    }
   ],
   "source": [
    "inp[0].size()"
   ]
  },
  {
   "cell_type": "code",
   "execution_count": 29,
   "metadata": {},
   "outputs": [],
   "source": [
    "a = torch.tensor([[0.8449, 0.6102]])"
   ]
  },
  {
   "cell_type": "code",
   "execution_count": 30,
   "metadata": {},
   "outputs": [
    {
     "data": {
      "text/plain": [
       "torch.Size([1, 2])"
      ]
     },
     "execution_count": 30,
     "metadata": {},
     "output_type": "execute_result"
    }
   ],
   "source": [
    "a.size()"
   ]
  },
  {
   "cell_type": "code",
   "execution_count": 35,
   "metadata": {},
   "outputs": [],
   "source": [
    "b = l.weight.t()"
   ]
  },
  {
   "cell_type": "code",
   "execution_count": 38,
   "metadata": {},
   "outputs": [
    {
     "data": {
      "text/plain": [
       "torch.Size([2, 3])"
      ]
     },
     "execution_count": 38,
     "metadata": {},
     "output_type": "execute_result"
    }
   ],
   "source": [
    "b.size()"
   ]
  },
  {
   "cell_type": "code",
   "execution_count": 41,
   "metadata": {},
   "outputs": [
    {
     "data": {
      "text/plain": [
       "tensor([[-1.2071, -0.0961,  0.2194]], grad_fn=<AddBackward0>)"
      ]
     },
     "execution_count": 41,
     "metadata": {},
     "output_type": "execute_result"
    }
   ],
   "source": [
    "torch.mm(a, b) + l.bias"
   ]
  },
  {
   "cell_type": "code",
   "execution_count": 42,
   "metadata": {},
   "outputs": [
    {
     "data": {
      "text/plain": [
       "tensor([[-0.6362, -0.4267,  0.3059],\n",
       "        [-0.7021, -0.6269, -0.3417]], grad_fn=<TBackward>)"
      ]
     },
     "execution_count": 42,
     "metadata": {},
     "output_type": "execute_result"
    }
   ],
   "source": [
    "b"
   ]
  },
  {
   "cell_type": "code",
   "execution_count": 43,
   "metadata": {},
   "outputs": [
    {
     "data": {
      "text/plain": [
       "tensor([0.8449, 0.6102])"
      ]
     },
     "execution_count": 43,
     "metadata": {},
     "output_type": "execute_result"
    }
   ],
   "source": [
    "inp[0]"
   ]
  },
  {
   "cell_type": "code",
   "execution_count": 45,
   "metadata": {},
   "outputs": [
    {
     "data": {
      "text/plain": [
       "tensor(-1.2071, grad_fn=<AddBackward0>)"
      ]
     },
     "execution_count": 45,
     "metadata": {},
     "output_type": "execute_result"
    }
   ],
   "source": [
    "inp[0][0] * b[0][0] + inp[0][1]*b[1][0] + l.bias[0]"
   ]
  },
  {
   "cell_type": "code",
   "execution_count": 47,
   "metadata": {},
   "outputs": [
    {
     "data": {
      "text/plain": [
       "tensor([[-1.2071, -0.0961,  0.2194],\n",
       "        [-1.4445, -0.2949,  0.1610],\n",
       "        [-1.0151,  0.0532,  0.2163],\n",
       "        [-1.5120, -0.3504,  0.1489],\n",
       "        [-0.9601,  0.0849,  0.1671],\n",
       "        [-1.2251, -0.1211,  0.1713],\n",
       "        [-0.6361,  0.3491,  0.2157],\n",
       "        [-0.9500,  0.0723,  0.0781]], grad_fn=<AddBackward0>)"
      ]
     },
     "execution_count": 47,
     "metadata": {},
     "output_type": "execute_result"
    }
   ],
   "source": [
    "torch.mm(inp, b) + l.bias"
   ]
  },
  {
   "cell_type": "code",
   "execution_count": null,
   "metadata": {},
   "outputs": [],
   "source": [
    "\n"
   ]
  }
 ],
 "metadata": {
  "kernelspec": {
   "display_name": "Python 3",
   "language": "python",
   "name": "python3"
  },
  "language_info": {
   "codemirror_mode": {
    "name": "ipython",
    "version": 3
   },
   "file_extension": ".py",
   "mimetype": "text/x-python",
   "name": "python",
   "nbconvert_exporter": "python",
   "pygments_lexer": "ipython3",
   "version": "3.6.9"
  }
 },
 "nbformat": 4,
 "nbformat_minor": 4
}
