{
 "cells": [
  {
   "cell_type": "markdown",
   "metadata": {},
   "source": [
    "# 普通线性回归"
   ]
  },
  {
   "cell_type": "code",
   "execution_count": 1,
   "metadata": {},
   "outputs": [],
   "source": [
    "import numpy as np\n",
    "import torch\n",
    "from torch import nn\n",
    "from torch import optim\n",
    "import matplotlib.pyplot as plt\n",
    "%matplotlib inline"
   ]
  },
  {
   "cell_type": "code",
   "execution_count": 2,
   "metadata": {},
   "outputs": [],
   "source": [
    "np.random.seed(2019)"
   ]
  },
  {
   "cell_type": "markdown",
   "metadata": {},
   "source": [
    "## 1 准备数据"
   ]
  },
  {
   "cell_type": "code",
   "execution_count": 3,
   "metadata": {},
   "outputs": [],
   "source": [
    "x_train = np.linspace(-5, 5, 20)"
   ]
  },
  {
   "cell_type": "code",
   "execution_count": 4,
   "metadata": {},
   "outputs": [
    {
     "data": {
      "text/plain": [
       "array([-5.        , -4.47368421, -3.94736842, -3.42105263, -2.89473684,\n",
       "       -2.36842105, -1.84210526, -1.31578947, -0.78947368, -0.26315789,\n",
       "        0.26315789,  0.78947368,  1.31578947,  1.84210526,  2.36842105,\n",
       "        2.89473684,  3.42105263,  3.94736842,  4.47368421,  5.        ])"
      ]
     },
     "execution_count": 4,
     "metadata": {},
     "output_type": "execute_result"
    }
   ],
   "source": [
    "x_train"
   ]
  },
  {
   "cell_type": "code",
   "execution_count": 5,
   "metadata": {},
   "outputs": [
    {
     "data": {
      "text/plain": [
       "array([-10.21767896,  -8.12591307,  -6.41345903,  -5.51024122,\n",
       "        -6.15133906,  -4.05123327,  -3.1104491 ,  -2.34385128,\n",
       "        -1.81458163,   0.42717445,  -1.16330951,   1.23400466,\n",
       "         2.64848384,   3.169227  ,   4.9813514 ,   5.60016108,\n",
       "         9.51427768,   8.35953933,   9.79329887,   9.49645842])"
      ]
     },
     "execution_count": 5,
     "metadata": {},
     "output_type": "execute_result"
    }
   ],
   "source": [
    "y_rand = [np.random.normal(-1, 1, None) for i in range(20)]\n",
    "y_train = 2*x_train + 1 + y_rand\n",
    "y_train"
   ]
  },
  {
   "cell_type": "code",
   "execution_count": 6,
   "metadata": {},
   "outputs": [
    {
     "data": {
      "text/plain": [
       "[<matplotlib.lines.Line2D at 0x7f4ca0b68f98>]"
      ]
     },
     "execution_count": 6,
     "metadata": {},
     "output_type": "execute_result"
    },
    {
     "data": {
      "image/png": "[encoded data removed]",
      "text/plain": [
       "<Figure size 432x288 with 1 Axes>"
      ]
     },
     "metadata": {
      "needs_background": "light"
     },
     "output_type": "display_data"
    }
   ],
   "source": [
    "plt.plot(x_train, y_train, 'ro')"
   ]
  },
  {
   "cell_type": "code",
   "execution_count": 7,
   "metadata": {},
   "outputs": [],
   "source": [
    "X_train = x_train.reshape(20, 1)\n",
    "y_train = y_train.reshape(20, 1)"
   ]
  },
  {
   "cell_type": "markdown",
   "metadata": {},
   "source": [
    "## 2 定义模型"
   ]
  },
  {
   "cell_type": "code",
   "execution_count": 8,
   "metadata": {},
   "outputs": [],
   "source": [
    "class LinearRegression(nn.Module):\n",
    "    \n",
    "    def __init__(self):\n",
    "        super(LinearRegression, self).__init__()\n",
    "        self.linear = nn.Linear(1, 1)\n",
    "    \n",
    "    def forward(self, x):\n",
    "        out = self.linear(x) \n",
    "        return out"
   ]
  },
  {
   "cell_type": "code",
   "execution_count": 9,
   "metadata": {},
   "outputs": [],
   "source": [
    "if torch.cuda.is_available():\n",
    "    model = LinearRegression().cuda()\n",
    "else:\n",
    "    model = LinearRegression()"
   ]
  },
  {
   "cell_type": "code",
   "execution_count": 10,
   "metadata": {},
   "outputs": [],
   "source": [
    "criterion = nn.MSELoss()\n",
    "optimizer = optim.SGD(model.parameters(), lr=1e-3)"
   ]
  },
  {
   "cell_type": "code",
   "execution_count": 11,
   "metadata": {},
   "outputs": [],
   "source": [
    "X_train = torch.from_numpy(X_train)\n",
    "y_train = torch.from_numpy(y_train)"
   ]
  },
  {
   "cell_type": "code",
   "execution_count": 12,
   "metadata": {},
   "outputs": [
    {
     "name": "stdout",
     "output_type": "stream",
     "text": [
      "Epoch 20/1000 , loss: 26.363525390625\n",
      "Epoch 40/1000 , loss: 12.960250854492188\n",
      "Epoch 60/1000 , loss: 6.588842868804932\n",
      "Epoch 80/1000 , loss: 3.5600197315216064\n",
      "Epoch 100/1000 , loss: 2.120089054107666\n",
      "Epoch 120/1000 , loss: 1.4354509115219116\n",
      "Epoch 140/1000 , loss: 1.1098501682281494\n",
      "Epoch 160/1000 , loss: 0.9549287557601929\n",
      "Epoch 180/1000 , loss: 0.8811509013175964\n",
      "Epoch 200/1000 , loss: 0.8459539413452148\n",
      "Epoch 220/1000 , loss: 0.8291061520576477\n",
      "Epoch 240/1000 , loss: 0.8209899067878723\n",
      "Epoch 260/1000 , loss: 0.8170320391654968\n",
      "Epoch 280/1000 , loss: 0.8150588870048523\n",
      "Epoch 300/1000 , loss: 0.8140360116958618\n",
      "Epoch 320/1000 , loss: 0.8134711980819702\n",
      "Epoch 340/1000 , loss: 0.8131306767463684\n",
      "Epoch 360/1000 , loss: 0.8129018545150757\n",
      "Epoch 380/1000 , loss: 0.8127315640449524\n",
      "Epoch 400/1000 , loss: 0.8125936388969421\n",
      "Epoch 420/1000 , loss: 0.8124758005142212\n",
      "Epoch 440/1000 , loss: 0.8123709559440613\n",
      "Epoch 460/1000 , loss: 0.8122765421867371\n",
      "Epoch 480/1000 , loss: 0.8121903538703918\n",
      "Epoch 500/1000 , loss: 0.8121112585067749\n",
      "Epoch 520/1000 , loss: 0.8120383024215698\n",
      "Epoch 540/1000 , loss: 0.8119713068008423\n",
      "Epoch 560/1000 , loss: 0.8119094967842102\n",
      "Epoch 580/1000 , loss: 0.8118522763252258\n",
      "Epoch 600/1000 , loss: 0.8117997050285339\n",
      "Epoch 620/1000 , loss: 0.8117511868476868\n",
      "Epoch 640/1000 , loss: 0.8117061853408813\n",
      "Epoch 660/1000 , loss: 0.8116647601127625\n",
      "Epoch 680/1000 , loss: 0.8116266131401062\n",
      "Epoch 700/1000 , loss: 0.8115913271903992\n",
      "Epoch 720/1000 , loss: 0.8115586042404175\n",
      "Epoch 740/1000 , loss: 0.8115286827087402\n",
      "Epoch 760/1000 , loss: 0.8115009069442749\n",
      "Epoch 780/1000 , loss: 0.8114751577377319\n",
      "Epoch 800/1000 , loss: 0.81145179271698\n",
      "Epoch 820/1000 , loss: 0.8114299774169922\n",
      "Epoch 840/1000 , loss: 0.8114097714424133\n",
      "Epoch 860/1000 , loss: 0.8113910555839539\n",
      "Epoch 880/1000 , loss: 0.8113740086555481\n",
      "Epoch 900/1000 , loss: 0.8113580942153931\n",
      "Epoch 920/1000 , loss: 0.8113435506820679\n",
      "Epoch 940/1000 , loss: 0.8113300204277039\n",
      "Epoch 960/1000 , loss: 0.8113174438476562\n",
      "Epoch 980/1000 , loss: 0.8113059997558594\n",
      "Epoch 1000/1000 , loss: 0.8112955093383789\n"
     ]
    }
   ],
   "source": [
    "epochs = 1000\n",
    "for epoch in range(epochs):\n",
    "    inputs = X_train.float().cuda()\n",
    "    target = y_train.float().cuda()\n",
    "    out = model(inputs)\n",
    "    loss = criterion(out, target)\n",
    "    optimizer.zero_grad()\n",
    "    loss.backward()\n",
    "    optimizer.step()\n",
    "    \n",
    "    if (epoch+1) % 20 == 0:\n",
    "        print(\"Epoch {}/{} , loss: {}\".format(epoch+1, epochs, loss.data.cpu().numpy()))"
   ]
  },
  {
   "cell_type": "code",
   "execution_count": 13,
   "metadata": {},
   "outputs": [
    {
     "data": {
      "text/plain": [
       "OrderedDict([('linear.weight', tensor([[1.9759]], device='cuda:0')),\n",
       "             ('linear.bias', tensor([0.3274], device='cuda:0'))])"
      ]
     },
     "execution_count": 13,
     "metadata": {},
     "output_type": "execute_result"
    }
   ],
   "source": [
    "model.state_dict()"
   ]
  },
  {
   "cell_type": "code",
   "execution_count": 14,
   "metadata": {},
   "outputs": [],
   "source": [
    "model.eval()\n",
    "predict = model(X_train.float().cuda())"
   ]
  },
  {
   "cell_type": "code",
   "execution_count": 15,
   "metadata": {},
   "outputs": [],
   "source": [
    "predict = predict.data.cpu().numpy()"
   ]
  },
  {
   "cell_type": "code",
   "execution_count": 16,
   "metadata": {},
   "outputs": [],
   "source": [
    "X = X_train.float().numpy()"
   ]
  },
  {
   "cell_type": "code",
   "execution_count": 17,
   "metadata": {},
   "outputs": [
    {
     "data": {
      "text/plain": [
       "[<matplotlib.lines.Line2D at 0x7f4ca0ad3048>]"
      ]
     },
     "execution_count": 17,
     "metadata": {},
     "output_type": "execute_result"
    },
    {
     "data": {
      "image/png": "[encoded data removed]",
      "text/plain": [
       "<Figure size 432x288 with 1 Axes>"
      ]
     },
     "metadata": {
      "needs_background": "light"
     },
     "output_type": "display_data"
    }
   ],
   "source": [
    "plt.plot(X, y_train.float().numpy(), 'ro')\n",
    "plt.plot(X, predict, label='Fit Line')"
   ]
  },
  {
   "cell_type": "code",
   "execution_count": null,
   "metadata": {},
   "outputs": [],
   "source": []
  }
 ],
 "metadata": {
  "kernelspec": {
   "display_name": "Python 3",
   "language": "python",
   "name": "python3"
  },
  "language_info": {
   "codemirror_mode": {
    "name": "ipython",
    "version": 3
   },
   "file_extension": ".py",
   "mimetype": "text/x-python",
   "name": "python",
   "nbconvert_exporter": "python",
   "pygments_lexer": "ipython3",
   "version": "3.6.8"
  }
 },
 "nbformat": 4,
 "nbformat_minor": 2
}
