{
 "cells": [
  {
   "cell_type": "code",
   "execution_count": 21,
   "metadata": {},
   "outputs": [],
   "source": [
    "import numpy as np\n",
    "import torch\n",
    "from torch import nn\n",
    "import torchvision\n",
    "from torch.autograd import Variable\n",
    "import matplotlib.pyplot as plt\n",
    "%matplotlib inline"
   ]
  },
  {
   "cell_type": "code",
   "execution_count": 11,
   "metadata": {},
   "outputs": [],
   "source": [
    "np.random.seed(2019)"
   ]
  },
  {
   "cell_type": "code",
   "execution_count": 2,
   "metadata": {},
   "outputs": [],
   "source": [
    "x_train = np.linspace(-5, 5, 10)"
   ]
  },
  {
   "cell_type": "code",
   "execution_count": 4,
   "metadata": {},
   "outputs": [
    {
     "data": {
      "text/plain": [
       "array([-5.        , -3.88888889, -2.77777778, -1.66666667, -0.55555556,\n",
       "        0.55555556,  1.66666667,  2.77777778,  3.88888889,  5.        ])"
      ]
     },
     "execution_count": 4,
     "metadata": {},
     "output_type": "execute_result"
    }
   ],
   "source": [
    "x_train"
   ]
  },
  {
   "cell_type": "code",
   "execution_count": 5,
   "metadata": {},
   "outputs": [
    {
     "data": {
      "text/plain": [
       "array([-9.        , -6.77777778, -4.55555556, -2.33333333, -0.11111111,\n",
       "        2.11111111,  4.33333333,  6.55555556,  8.77777778, 11.        ])"
      ]
     },
     "execution_count": 5,
     "metadata": {},
     "output_type": "execute_result"
    }
   ],
   "source": [
    "y_train = 2*x_train + 1\n",
    "y_train"
   ]
  },
  {
   "cell_type": "code",
   "execution_count": 18,
   "metadata": {},
   "outputs": [],
   "source": [
    "y_rand = [np.random.normal(-1, 1, None) for i in range(10)]"
   ]
  },
  {
   "cell_type": "code",
   "execution_count": 19,
   "metadata": {},
   "outputs": [
    {
     "data": {
      "text/plain": [
       "array([-10.3490515 ,  -8.21420117,  -5.90206375,  -0.8742802 ,\n",
       "        -1.00244479,   1.33922443,   2.80653687,   3.24740737,\n",
       "         7.17027505,   6.30341222])"
      ]
     },
     "execution_count": 19,
     "metadata": {},
     "output_type": "execute_result"
    }
   ],
   "source": [
    "y_train = y_train + y_rand\n",
    "y_train"
   ]
  },
  {
   "cell_type": "code",
   "execution_count": 20,
   "metadata": {},
   "outputs": [
    {
     "data": {
      "text/plain": [
       "[<matplotlib.lines.Line2D at 0x7f8a7f999080>]"
      ]
     },
     "execution_count": 20,
     "metadata": {},
     "output_type": "execute_result"
    },
    {
     "data": {
      "image/png": "[encoded data removed]",
      "text/plain": [
       "<Figure size 432x288 with 1 Axes>"
      ]
     },
     "metadata": {
      "needs_background": "light"
     },
     "output_type": "display_data"
    }
   ],
   "source": [
    "plt.plot(x_train, y_train, 'k.')"
   ]
  },
  {
   "cell_type": "code",
   "execution_count": 24,
   "metadata": {},
   "outputs": [],
   "source": [
    "X_train = x_train.reshape(10, 1)"
   ]
  },
  {
   "cell_type": "code",
   "execution_count": 25,
   "metadata": {},
   "outputs": [
    {
     "data": {
      "text/plain": [
       "array([[-5.        ],\n",
       "       [-3.88888889],\n",
       "       [-2.77777778],\n",
       "       [-1.66666667],\n",
       "       [-0.55555556],\n",
       "       [ 0.55555556],\n",
       "       [ 1.66666667],\n",
       "       [ 2.77777778],\n",
       "       [ 3.88888889],\n",
       "       [ 5.        ]])"
      ]
     },
     "execution_count": 25,
     "metadata": {},
     "output_type": "execute_result"
    }
   ],
   "source": [
    "X_train"
   ]
  },
  {
   "cell_type": "code",
   "execution_count": 27,
   "metadata": {},
   "outputs": [
    {
     "name": "stdout",
     "output_type": "stream",
     "text": [
      "[[-10.3490515 ]\n",
      " [ -8.21420117]\n",
      " [ -5.90206375]\n",
      " [ -0.8742802 ]\n",
      " [ -1.00244479]\n",
      " [  1.33922443]\n",
      " [  2.80653687]\n",
      " [  3.24740737]\n",
      " [  7.17027505]\n",
      " [  6.30341222]]\n"
     ]
    }
   ],
   "source": [
    "y_train = y_train.reshape(10, 1)\n",
    "print(y_train)"
   ]
  },
  {
   "cell_type": "markdown",
   "metadata": {},
   "source": [
    "## 定义模型"
   ]
  },
  {
   "cell_type": "code",
   "execution_count": 22,
   "metadata": {},
   "outputs": [],
   "source": [
    "class LinearRegression(nn.Module):\n",
    "    \n",
    "    def __init__(self):\n",
    "        super(LinearRegression, self).__init__()\n",
    "        self.linear = nn.Linear(1, 1)\n",
    "    \n",
    "    def forward(self, x):\n",
    "        out = self.linear(x) \n",
    "        return out"
   ]
  },
  {
   "cell_type": "code",
   "execution_count": 28,
   "metadata": {},
   "outputs": [],
   "source": [
    "if torch.cuda.is_available():\n",
    "    model = LinearRegression().cuda()\n",
    "else:\n",
    "    model = LinearRegression()"
   ]
  },
  {
   "cell_type": "code",
   "execution_count": 29,
   "metadata": {},
   "outputs": [],
   "source": [
    "from torch import optim"
   ]
  },
  {
   "cell_type": "code",
   "execution_count": 30,
   "metadata": {},
   "outputs": [],
   "source": [
    "criterion = nn.MSELoss()\n",
    "optimizer = optim.SGD(model.parameters(), lr=1e-3)"
   ]
  },
  {
   "cell_type": "code",
   "execution_count": 31,
   "metadata": {},
   "outputs": [],
   "source": [
    "X_train = torch.from_numpy(X_train)\n",
    "y_train = torch.from_numpy(y_train)"
   ]
  },
  {
   "cell_type": "code",
   "execution_count": 45,
   "metadata": {},
   "outputs": [
    {
     "name": "stdout",
     "output_type": "stream",
     "text": [
      "Epoch 20/1000 , loss: 1.5668097734451294\n",
      "Epoch 40/1000 , loss: 1.5664174556732178\n",
      "Epoch 60/1000 , loss: 1.5660549402236938\n",
      "Epoch 80/1000 , loss: 1.565720558166504\n",
      "Epoch 100/1000 , loss: 1.5654118061065674\n",
      "Epoch 120/1000 , loss: 1.5651267766952515\n",
      "Epoch 140/1000 , loss: 1.564864158630371\n",
      "Epoch 160/1000 , loss: 1.5646212100982666\n",
      "Epoch 180/1000 , loss: 1.5643969774246216\n",
      "Epoch 200/1000 , loss: 1.56419038772583\n",
      "Epoch 220/1000 , loss: 1.5639992952346802\n",
      "Epoch 240/1000 , loss: 1.5638229846954346\n",
      "Epoch 260/1000 , loss: 1.5636603832244873\n",
      "Epoch 280/1000 , loss: 1.5635101795196533\n",
      "Epoch 300/1000 , loss: 1.5633716583251953\n",
      "Epoch 320/1000 , loss: 1.5632436275482178\n",
      "Epoch 340/1000 , loss: 1.5631256103515625\n",
      "Epoch 360/1000 , loss: 1.5630168914794922\n",
      "Epoch 380/1000 , loss: 1.5629160404205322\n",
      "Epoch 400/1000 , loss: 1.5628230571746826\n",
      "Epoch 420/1000 , loss: 1.5627374649047852\n",
      "Epoch 440/1000 , loss: 1.562658429145813\n",
      "Epoch 460/1000 , loss: 1.5625852346420288\n",
      "Epoch 480/1000 , loss: 1.562517762184143\n",
      "Epoch 500/1000 , loss: 1.562455654144287\n",
      "Epoch 520/1000 , loss: 1.5623981952667236\n",
      "Epoch 540/1000 , loss: 1.5623453855514526\n",
      "Epoch 560/1000 , loss: 1.5622961521148682\n",
      "Epoch 580/1000 , loss: 1.562251091003418\n",
      "Epoch 600/1000 , loss: 1.5622093677520752\n",
      "Epoch 620/1000 , loss: 1.562171220779419\n",
      "Epoch 640/1000 , loss: 1.5621353387832642\n",
      "Epoch 660/1000 , loss: 1.5621027946472168\n",
      "Epoch 680/1000 , loss: 1.5620723962783813\n",
      "Epoch 700/1000 , loss: 1.562044382095337\n",
      "Epoch 720/1000 , loss: 1.5620189905166626\n",
      "Epoch 740/1000 , loss: 1.561995029449463\n",
      "Epoch 760/1000 , loss: 1.5619728565216064\n",
      "Epoch 780/1000 , loss: 1.561952829360962\n",
      "Epoch 800/1000 , loss: 1.5619337558746338\n",
      "Epoch 820/1000 , loss: 1.5619163513183594\n",
      "Epoch 840/1000 , loss: 1.5619007349014282\n",
      "Epoch 860/1000 , loss: 1.5618858337402344\n",
      "Epoch 880/1000 , loss: 1.5618722438812256\n",
      "Epoch 900/1000 , loss: 1.5618598461151123\n",
      "Epoch 920/1000 , loss: 1.5618484020233154\n",
      "Epoch 940/1000 , loss: 1.5618377923965454\n",
      "Epoch 960/1000 , loss: 1.5618277788162231\n",
      "Epoch 980/1000 , loss: 1.5618187189102173\n",
      "Epoch 1000/1000 , loss: 1.5618101358413696\n"
     ]
    }
   ],
   "source": [
    "epochs = 1000\n",
    "for epoch in range(epochs):\n",
    "    inputs = X_train.float().cuda()\n",
    "    target = y_train.float().cuda()\n",
    "    out = model(inputs)\n",
    "    loss = criterion(out, target)\n",
    "    optimizer.zero_grad()\n",
    "    loss.backward()\n",
    "    optimizer.step()\n",
    "    \n",
    "    if (epoch+1) % 20 == 0:\n",
    "        print(\"Epoch {}/{} , loss: {}\".format(epoch+1, epochs, loss.data.cpu().numpy()))"
   ]
  },
  {
   "cell_type": "code",
   "execution_count": 46,
   "metadata": {},
   "outputs": [
    {
     "data": {
      "text/plain": [
       "OrderedDict([('linear.weight', tensor([[1.7274]], device='cuda:0')),\n",
       "             ('linear.bias', tensor([-0.5375], device='cuda:0'))])"
      ]
     },
     "execution_count": 46,
     "metadata": {},
     "output_type": "execute_result"
    }
   ],
   "source": [
    "model.state_dict()"
   ]
  },
  {
   "cell_type": "code",
   "execution_count": 48,
   "metadata": {},
   "outputs": [],
   "source": [
    "model.eval()\n",
    "predict = model(X_train.float().cuda())"
   ]
  },
  {
   "cell_type": "code",
   "execution_count": 51,
   "metadata": {},
   "outputs": [],
   "source": [
    "predict = predict.data.cpu().numpy()"
   ]
  },
  {
   "cell_type": "code",
   "execution_count": 52,
   "metadata": {},
   "outputs": [],
   "source": [
    "X = X_train.float().numpy()"
   ]
  },
  {
   "cell_type": "code",
   "execution_count": 53,
   "metadata": {},
   "outputs": [
    {
     "data": {
      "text/plain": [
       "[<matplotlib.lines.Line2D at 0x7f8a77001f98>]"
      ]
     },
     "execution_count": 53,
     "metadata": {},
     "output_type": "execute_result"
    },
    {
     "data": {
      "image/png": "[encoded data removed]",
      "text/plain": [
       "<Figure size 432x288 with 1 Axes>"
      ]
     },
     "metadata": {
      "needs_background": "light"
     },
     "output_type": "display_data"
    }
   ],
   "source": [
    "plt.plot(X, y_train.float().numpy(), 'ro')\n",
    "plt.plot(X, predict, label='Fit Line')"
   ]
  },
  {
   "cell_type": "code",
   "execution_count": 54,
   "metadata": {},
   "outputs": [],
   "source": [
    "?nn.Linear"
   ]
  },
  {
   "cell_type": "code",
   "execution_count": null,
   "metadata": {},
   "outputs": [],
   "source": []
  }
 ],
 "metadata": {
  "kernelspec": {
   "display_name": "Python 3",
   "language": "python",
   "name": "python3"
  },
  "language_info": {
   "codemirror_mode": {
    "name": "ipython",
    "version": 3
   },
   "file_extension": ".py",
   "mimetype": "text/x-python",
   "name": "python",
   "nbconvert_exporter": "python",
   "pygments_lexer": "ipython3",
   "version": "3.6.8"
  }
 },
 "nbformat": 4,
 "nbformat_minor": 2
}
