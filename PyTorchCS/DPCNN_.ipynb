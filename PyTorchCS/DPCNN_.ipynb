{
 "cells": [
  {
   "cell_type": "code",
   "execution_count": 1,
   "metadata": {},
   "outputs": [],
   "source": [
    "import os\n",
    "import torch\n",
    "import numpy as np\n",
    "import torch.nn as nn\n",
    "import torch.nn.functional as F"
   ]
  },
  {
   "cell_type": "code",
   "execution_count": 4,
   "metadata": {},
   "outputs": [],
   "source": [
    "n_vocab = 6785\n",
    "n_embed = 300\n",
    "n_filters = 250\n",
    "n_classes = 2"
   ]
  },
  {
   "cell_type": "code",
   "execution_count": 5,
   "metadata": {},
   "outputs": [],
   "source": [
    "class Model(nn.Module):\n",
    "    '''Deep Pyramid Convolutional Neural Networks for Text Categorization'''\n",
    "    def __init__(self, n_vocab, n_embed, n_filters, n_classes):\n",
    "        super(Model, self).__init__()\n",
    "        \n",
    "        self.embedding = nn.Embedding(n_vocab, n_embed, padding_idx=n_vocab - 1)\n",
    "        self.conv_region = nn.Conv2d(1, n_filters, (3, n_embed), stride=1)\n",
    "        self.conv = nn.Conv2d(n_filters, n_filters, (3, 1), stride=1)\n",
    "        self.max_pool = nn.MaxPool2d(kernel_size=(3, 1), stride=2)\n",
    "        self.padding1 = nn.ZeroPad2d((0, 0, 1, 1))  # top bottom\n",
    "        self.padding2 = nn.ZeroPad2d((0, 0, 0, 1))  # bottom\n",
    "        self.relu = nn.ReLU()\n",
    "        self.fc = nn.Linear(n_filters, n_classes)\n",
    "\n",
    "    def forward(self, x):\n",
    "        x = x[0]\n",
    "        x = self.embedding(x)\n",
    "        x = x.unsqueeze(1)         # [batch_size, 250, seq_len, 1]\n",
    "        # x = self.conv_region(x)  # [batch_size, 250, seq_len-3+1, 1]\n",
    "        px = self.conv_region(x)\n",
    "        x = self.padding1(px)\n",
    "        \n",
    "        # x = self.padding1(x)     # [batch_size, 250, seq_len, 1]\n",
    "        x = self.relu(x)\n",
    "        x = self.conv(x)           # [batch_size, 250, seq_len-3+1, 1]\n",
    "        x = self.padding1(x)       # [batch_size, 250, seq_len, 1]\n",
    "        x = self.relu(x)\n",
    "        x = self.conv(x)           # [batch_size, 250, seq_len-3+1, 1]\n",
    "        print(\"0----\", x.size())\n",
    "        x = x + px\n",
    "        while x.size()[2] >= 2:\n",
    "            x = self._block(x)\n",
    "            print(x.size())\n",
    "        print(\"1----\", x.size())\n",
    "        x = x.squeeze()          # [batch_size, n_filters(250)]\n",
    "        print(\"2----\", x.size())\n",
    "        x = self.fc(x)\n",
    "        print(\"3----\", x.size())\n",
    "        return x\n",
    "\n",
    "    def _block(self, x):\n",
    "        x = self.padding2(x)\n",
    "        px = self.max_pool(x)\n",
    "\n",
    "        x = self.padding1(px)\n",
    "        x = F.relu(x)\n",
    "        x = self.conv(x)\n",
    "\n",
    "        x = self.padding1(x)\n",
    "        x = F.relu(x)\n",
    "        x = self.conv(x)\n",
    "\n",
    "        x = x + px\n",
    "        return x"
   ]
  },
  {
   "cell_type": "code",
   "execution_count": 8,
   "metadata": {},
   "outputs": [],
   "source": [
    "model = Model(n_vocab, n_embed, n_filters, n_classes)"
   ]
  },
  {
   "cell_type": "code",
   "execution_count": 53,
   "metadata": {},
   "outputs": [
    {
     "data": {
      "text/plain": [
       "Model(\n",
       "  (embedding): Embedding(6785, 300, padding_idx=6784)\n",
       "  (conv_region): Conv2d(1, 250, kernel_size=(3, 300), stride=(1, 1))\n",
       "  (conv): Conv2d(250, 250, kernel_size=(3, 1), stride=(1, 1))\n",
       "  (max_pool): MaxPool2d(kernel_size=(3, 1), stride=2, padding=0, dilation=1, ceil_mode=False)\n",
       "  (padding1): ZeroPad2d(padding=(0, 0, 1, 1), value=0.0)\n",
       "  (padding2): ZeroPad2d(padding=(0, 0, 0, 1), value=0.0)\n",
       "  (relu): ReLU()\n",
       "  (fc): Linear(in_features=250, out_features=2, bias=True)\n",
       ")"
      ]
     },
     "execution_count": 53,
     "metadata": {},
     "output_type": "execute_result"
    }
   ],
   "source": [
    "model"
   ]
  },
  {
   "cell_type": "code",
   "execution_count": 9,
   "metadata": {},
   "outputs": [],
   "source": [
    "#(x, seq_len), y\n",
    "# x = torch.LongTensor([_[0] for _ in datas]).to(self.device)\n",
    "# y = torch.LongTensor([_[1] for _ in datas]).to(self.device)\n",
    "# # pad前的长度(超过pad_size的设为pad_size)\n",
    "# seq_len = torch.LongTensor([_[2] for _ in datas]).to(self.device)\n",
    "# return (x, seq_len), y\n",
    "pad_size = 1500"
   ]
  },
  {
   "cell_type": "code",
   "execution_count": 10,
   "metadata": {},
   "outputs": [],
   "source": [
    "data = []\n",
    "for i in range(128):\n",
    "    x = torch.randint(0, n_vocab, (pad_size,))\n",
    "    y = 1\n",
    "    seq_len = pad_size\n",
    "    data.append((x, y, seq_len))"
   ]
  },
  {
   "cell_type": "code",
   "execution_count": 11,
   "metadata": {},
   "outputs": [],
   "source": [
    "x = torch.LongTensor([_[0].numpy() for _ in data])\n",
    "y = torch.LongTensor([_[1] for _ in data])\n",
    "seq_len = torch.LongTensor([_[2] for _ in data])\n",
    "batch = (x, seq_len), y"
   ]
  },
  {
   "cell_type": "code",
   "execution_count": 12,
   "metadata": {},
   "outputs": [],
   "source": [
    "new_data = (x, seq_len), y"
   ]
  },
  {
   "cell_type": "code",
   "execution_count": 13,
   "metadata": {},
   "outputs": [
    {
     "data": {
      "text/plain": [
       "((tensor([[1342, 5905, 6174,  ..., 2263, 6426,   36],\n",
       "          [1689, 2948, 3520,  ...,  765, 3479, 2672],\n",
       "          [2407, 2731, 4173,  ..., 2783, 1293, 2736],\n",
       "          ...,\n",
       "          [4387, 2260, 4780,  ..., 4688, 1345, 5652],\n",
       "          [4265, 4354, 3805,  ...,  691,  548, 4485],\n",
       "          [ 349, 3493, 2917,  ..., 2648, 3049, 4463]]),\n",
       "  tensor([1500, 1500, 1500, 1500, 1500, 1500, 1500, 1500, 1500, 1500, 1500, 1500,\n",
       "          1500, 1500, 1500, 1500, 1500, 1500, 1500, 1500, 1500, 1500, 1500, 1500,\n",
       "          1500, 1500, 1500, 1500, 1500, 1500, 1500, 1500, 1500, 1500, 1500, 1500,\n",
       "          1500, 1500, 1500, 1500, 1500, 1500, 1500, 1500, 1500, 1500, 1500, 1500,\n",
       "          1500, 1500, 1500, 1500, 1500, 1500, 1500, 1500, 1500, 1500, 1500, 1500,\n",
       "          1500, 1500, 1500, 1500, 1500, 1500, 1500, 1500, 1500, 1500, 1500, 1500,\n",
       "          1500, 1500, 1500, 1500, 1500, 1500, 1500, 1500, 1500, 1500, 1500, 1500,\n",
       "          1500, 1500, 1500, 1500, 1500, 1500, 1500, 1500, 1500, 1500, 1500, 1500,\n",
       "          1500, 1500, 1500, 1500, 1500, 1500, 1500, 1500, 1500, 1500, 1500, 1500,\n",
       "          1500, 1500, 1500, 1500, 1500, 1500, 1500, 1500, 1500, 1500, 1500, 1500,\n",
       "          1500, 1500, 1500, 1500, 1500, 1500, 1500, 1500])),\n",
       " tensor([1, 1, 1, 1, 1, 1, 1, 1, 1, 1, 1, 1, 1, 1, 1, 1, 1, 1, 1, 1, 1, 1, 1, 1,\n",
       "         1, 1, 1, 1, 1, 1, 1, 1, 1, 1, 1, 1, 1, 1, 1, 1, 1, 1, 1, 1, 1, 1, 1, 1,\n",
       "         1, 1, 1, 1, 1, 1, 1, 1, 1, 1, 1, 1, 1, 1, 1, 1, 1, 1, 1, 1, 1, 1, 1, 1,\n",
       "         1, 1, 1, 1, 1, 1, 1, 1, 1, 1, 1, 1, 1, 1, 1, 1, 1, 1, 1, 1, 1, 1, 1, 1,\n",
       "         1, 1, 1, 1, 1, 1, 1, 1, 1, 1, 1, 1, 1, 1, 1, 1, 1, 1, 1, 1, 1, 1, 1, 1,\n",
       "         1, 1, 1, 1, 1, 1, 1, 1]))"
      ]
     },
     "execution_count": 13,
     "metadata": {},
     "output_type": "execute_result"
    }
   ],
   "source": [
    "new_data"
   ]
  },
  {
   "cell_type": "code",
   "execution_count": 14,
   "metadata": {},
   "outputs": [
    {
     "name": "stdout",
     "output_type": "stream",
     "text": [
      "0---- torch.Size([128, 250, 1498, 1])\n",
      "torch.Size([128, 250, 749, 1])\n",
      "torch.Size([128, 250, 374, 1])\n",
      "torch.Size([128, 250, 187, 1])\n",
      "torch.Size([128, 250, 93, 1])\n",
      "torch.Size([128, 250, 46, 1])\n",
      "torch.Size([128, 250, 23, 1])\n",
      "torch.Size([128, 250, 11, 1])\n",
      "torch.Size([128, 250, 5, 1])\n",
      "torch.Size([128, 250, 2, 1])\n",
      "torch.Size([128, 250, 1, 1])\n",
      "1---- torch.Size([128, 250, 1, 1])\n",
      "2---- torch.Size([128, 250])\n",
      "3---- torch.Size([128, 2])\n"
     ]
    },
    {
     "data": {
      "text/plain": [
       "tensor([[ 5.3281, -2.7777],\n",
       "        [ 5.2320, -2.7090],\n",
       "        [ 5.5482, -2.8612],\n",
       "        [ 5.2416, -2.9560],\n",
       "        [ 5.2208, -2.7343],\n",
       "        [ 5.1564, -2.5890],\n",
       "        [ 5.5329, -2.5668],\n",
       "        [ 5.4914, -2.9305],\n",
       "        [ 5.5914, -2.8574],\n",
       "        [ 5.2369, -3.0728],\n",
       "        [ 5.3913, -2.6860],\n",
       "        [ 5.2165, -2.7530],\n",
       "        [ 5.5572, -2.8770],\n",
       "        [ 5.5072, -2.7613],\n",
       "        [ 5.1080, -2.7080],\n",
       "        [ 5.2611, -2.9025],\n",
       "        [ 5.4379, -2.7826],\n",
       "        [ 5.4010, -2.9060],\n",
       "        [ 5.3196, -2.6693],\n",
       "        [ 5.3759, -2.8829],\n",
       "        [ 5.3201, -2.7791],\n",
       "        [ 5.3501, -2.6059],\n",
       "        [ 5.5397, -2.7856],\n",
       "        [ 5.2804, -2.9361],\n",
       "        [ 4.9957, -2.9699],\n",
       "        [ 5.1779, -2.9610],\n",
       "        [ 5.5346, -2.7787],\n",
       "        [ 5.6908, -3.2362],\n",
       "        [ 5.2998, -2.7599],\n",
       "        [ 5.6938, -2.8833],\n",
       "        [ 5.3362, -2.8757],\n",
       "        [ 4.9441, -2.7104],\n",
       "        [ 5.3675, -3.0572],\n",
       "        [ 5.1318, -2.8221],\n",
       "        [ 5.4408, -2.9012],\n",
       "        [ 5.6716, -2.6940],\n",
       "        [ 5.2635, -2.6240],\n",
       "        [ 5.4348, -2.7455],\n",
       "        [ 5.2952, -3.0954],\n",
       "        [ 5.5045, -3.0069],\n",
       "        [ 5.3321, -2.9368],\n",
       "        [ 5.1828, -3.0932],\n",
       "        [ 5.3089, -2.9528],\n",
       "        [ 5.3526, -2.8592],\n",
       "        [ 5.4681, -2.8140],\n",
       "        [ 5.3278, -2.8750],\n",
       "        [ 5.4825, -2.6999],\n",
       "        [ 5.6001, -2.8861],\n",
       "        [ 5.3178, -2.7608],\n",
       "        [ 5.4260, -2.5901],\n",
       "        [ 5.1595, -3.0107],\n",
       "        [ 5.1577, -2.8365],\n",
       "        [ 5.1403, -2.8602],\n",
       "        [ 5.2906, -2.9718],\n",
       "        [ 5.2771, -2.8513],\n",
       "        [ 5.4231, -2.6663],\n",
       "        [ 5.2846, -2.8569],\n",
       "        [ 5.2921, -2.7527],\n",
       "        [ 5.2082, -2.9376],\n",
       "        [ 5.3699, -2.8232],\n",
       "        [ 5.4724, -2.7485],\n",
       "        [ 5.3646, -2.6645],\n",
       "        [ 5.4893, -2.6989],\n",
       "        [ 5.4187, -3.0229],\n",
       "        [ 5.1982, -2.9161],\n",
       "        [ 5.5086, -2.8236],\n",
       "        [ 5.4920, -2.8334],\n",
       "        [ 5.3170, -2.6747],\n",
       "        [ 5.1555, -2.8109],\n",
       "        [ 5.1475, -2.8568],\n",
       "        [ 5.3512, -2.8903],\n",
       "        [ 5.2046, -3.0156],\n",
       "        [ 5.3035, -2.9804],\n",
       "        [ 5.2511, -2.8818],\n",
       "        [ 5.3433, -2.8998],\n",
       "        [ 5.3378, -2.9172],\n",
       "        [ 5.3880, -3.0351],\n",
       "        [ 5.2315, -2.8150],\n",
       "        [ 5.5721, -2.7051],\n",
       "        [ 5.4093, -2.5964],\n",
       "        [ 5.3224, -3.0600],\n",
       "        [ 5.5175, -2.8141],\n",
       "        [ 5.7381, -2.6286],\n",
       "        [ 5.0529, -2.6816],\n",
       "        [ 5.2908, -2.7490],\n",
       "        [ 5.6195, -2.7298],\n",
       "        [ 5.2850, -2.9708],\n",
       "        [ 5.4257, -2.7123],\n",
       "        [ 5.3789, -2.7680],\n",
       "        [ 5.1941, -2.8735],\n",
       "        [ 5.2142, -2.8275],\n",
       "        [ 5.2809, -2.7153],\n",
       "        [ 5.3405, -2.8500],\n",
       "        [ 5.5975, -2.5142],\n",
       "        [ 5.2281, -2.9699],\n",
       "        [ 5.1832, -2.8339],\n",
       "        [ 5.2800, -2.7756],\n",
       "        [ 5.5209, -2.8264],\n",
       "        [ 5.4397, -2.7956],\n",
       "        [ 5.4144, -2.9523],\n",
       "        [ 5.3888, -2.4733],\n",
       "        [ 5.1955, -2.8379],\n",
       "        [ 5.5157, -2.7947],\n",
       "        [ 5.3765, -2.8621],\n",
       "        [ 5.4219, -2.6374],\n",
       "        [ 5.1318, -2.8203],\n",
       "        [ 5.2776, -2.7970],\n",
       "        [ 5.2433, -2.8827],\n",
       "        [ 5.4322, -2.7399],\n",
       "        [ 5.2524, -3.0512],\n",
       "        [ 5.1573, -2.9864],\n",
       "        [ 5.0755, -2.7423],\n",
       "        [ 5.3418, -3.1216],\n",
       "        [ 5.1261, -2.7623],\n",
       "        [ 5.4498, -2.8049],\n",
       "        [ 5.2661, -2.7105],\n",
       "        [ 5.2524, -3.0426],\n",
       "        [ 5.5005, -2.6829],\n",
       "        [ 5.5126, -2.5471],\n",
       "        [ 5.3068, -2.9270],\n",
       "        [ 5.3709, -2.7541],\n",
       "        [ 5.1651, -2.7636],\n",
       "        [ 5.2847, -3.0233],\n",
       "        [ 4.9085, -3.0516],\n",
       "        [ 5.3891, -3.1873],\n",
       "        [ 5.1669, -2.7848],\n",
       "        [ 5.2328, -2.9523],\n",
       "        [ 5.5596, -2.8521]], grad_fn=<AddmmBackward>)"
      ]
     },
     "execution_count": 14,
     "metadata": {},
     "output_type": "execute_result"
    }
   ],
   "source": [
    "model(new_data[0])\n",
    "# 1---- torch.Size([128, 250, 2, 1])\n",
    "# 2---- torch.Size([128, 250, 2])\n",
    "## 正常\n",
    "# 1---- torch.Size([128, 250, 1, 1])\n",
    "# 2---- torch.Size([128, 250])\n",
    "# 3---- torch.Size([128, 2])"
   ]
  },
  {
   "cell_type": "code",
   "execution_count": 15,
   "metadata": {},
   "outputs": [
    {
     "data": {
      "text/plain": [
       "torch.Size([128, 1500])"
      ]
     },
     "execution_count": 15,
     "metadata": {},
     "output_type": "execute_result"
    }
   ],
   "source": [
    "new_data[0][0].size()"
   ]
  },
  {
   "cell_type": "code",
   "execution_count": 16,
   "metadata": {},
   "outputs": [
    {
     "data": {
      "text/plain": [
       "ZeroPad2d(padding=(0, 0, 1, 1), value=0.0)"
      ]
     },
     "execution_count": 16,
     "metadata": {},
     "output_type": "execute_result"
    }
   ],
   "source": [
    "nn.ZeroPad2d((0, 0, 1, 1))"
   ]
  },
  {
   "cell_type": "code",
   "execution_count": 17,
   "metadata": {},
   "outputs": [],
   "source": [
    "embedding = nn.Embedding(n_vocab, n_embed, padding_idx=n_vocab - 1)"
   ]
  },
  {
   "cell_type": "code",
   "execution_count": 18,
   "metadata": {},
   "outputs": [],
   "source": [
    "x = new_data[0][0]"
   ]
  },
  {
   "cell_type": "code",
   "execution_count": 19,
   "metadata": {},
   "outputs": [
    {
     "data": {
      "text/plain": [
       "torch.Size([128, 1500])"
      ]
     },
     "execution_count": 19,
     "metadata": {},
     "output_type": "execute_result"
    }
   ],
   "source": [
    "x.size()"
   ]
  },
  {
   "cell_type": "code",
   "execution_count": 20,
   "metadata": {},
   "outputs": [
    {
     "data": {
      "text/plain": [
       "torch.Size([128, 1500, 300])"
      ]
     },
     "execution_count": 20,
     "metadata": {},
     "output_type": "execute_result"
    }
   ],
   "source": [
    "x = embedding(x)\n",
    "x.size()"
   ]
  },
  {
   "cell_type": "code",
   "execution_count": 22,
   "metadata": {},
   "outputs": [],
   "source": [
    "region_conv = nn.Conv2d(1, n_filters, (3, n_embed), stride=1)"
   ]
  },
  {
   "cell_type": "code",
   "execution_count": 23,
   "metadata": {},
   "outputs": [
    {
     "data": {
      "text/plain": [
       "torch.Size([128, 1, 1500, 300])"
      ]
     },
     "execution_count": 23,
     "metadata": {},
     "output_type": "execute_result"
    }
   ],
   "source": [
    "x = x.unsqueeze(1)\n",
    "x.size()"
   ]
  },
  {
   "cell_type": "code",
   "execution_count": 24,
   "metadata": {},
   "outputs": [
    {
     "data": {
      "text/plain": [
       "torch.Size([128, 250, 1498, 1])"
      ]
     },
     "execution_count": 24,
     "metadata": {},
     "output_type": "execute_result"
    }
   ],
   "source": [
    "x = region_conv(x)\n",
    "x.size()"
   ]
  },
  {
   "cell_type": "code",
   "execution_count": 25,
   "metadata": {},
   "outputs": [],
   "source": [
    "padding1 = nn.ZeroPad2d((0, 0, 1, 1))"
   ]
  },
  {
   "cell_type": "code",
   "execution_count": 26,
   "metadata": {},
   "outputs": [
    {
     "data": {
      "text/plain": [
       "torch.Size([128, 250, 1500, 1])"
      ]
     },
     "execution_count": 26,
     "metadata": {},
     "output_type": "execute_result"
    }
   ],
   "source": [
    "x = padding1(x)\n",
    "x.size()"
   ]
  },
  {
   "cell_type": "code",
   "execution_count": 27,
   "metadata": {},
   "outputs": [],
   "source": [
    "conv = nn.Conv2d(n_filters, n_filters, (3, 1), stride=1)"
   ]
  },
  {
   "cell_type": "code",
   "execution_count": 28,
   "metadata": {},
   "outputs": [],
   "source": [
    "relu = nn.ReLU()"
   ]
  },
  {
   "cell_type": "code",
   "execution_count": 29,
   "metadata": {},
   "outputs": [
    {
     "name": "stdout",
     "output_type": "stream",
     "text": [
      "torch.Size([128, 250, 1500, 1])\n",
      "torch.Size([128, 250, 1498, 1])\n"
     ]
    }
   ],
   "source": [
    "x = relu(x)\n",
    "print(x.size())\n",
    "x = conv(x)\n",
    "print(x.size())"
   ]
  },
  {
   "cell_type": "code",
   "execution_count": 30,
   "metadata": {},
   "outputs": [
    {
     "name": "stdout",
     "output_type": "stream",
     "text": [
      "torch.Size([128, 250, 1500, 1])\n",
      "torch.Size([128, 250, 1500, 1])\n",
      "torch.Size([128, 250, 1498, 1])\n"
     ]
    }
   ],
   "source": [
    "x = padding1(x)\n",
    "print(x.size())\n",
    "x = relu(x)\n",
    "print(x.size())\n",
    "x = conv(x)\n",
    "print(x.size())"
   ]
  },
  {
   "cell_type": "code",
   "execution_count": 31,
   "metadata": {},
   "outputs": [],
   "source": [
    "padding2 = nn.ZeroPad2d((0, 0, 0, 1))"
   ]
  },
  {
   "cell_type": "code",
   "execution_count": 32,
   "metadata": {},
   "outputs": [],
   "source": [
    "maxpool = nn.MaxPool2d(kernel_size=(3, 1), stride=2)"
   ]
  },
  {
   "cell_type": "code",
   "execution_count": 33,
   "metadata": {},
   "outputs": [],
   "source": [
    "x = padding2(x)"
   ]
  },
  {
   "cell_type": "code",
   "execution_count": 34,
   "metadata": {},
   "outputs": [
    {
     "name": "stdout",
     "output_type": "stream",
     "text": [
      "torch.Size([128, 250, 1499, 1])\n"
     ]
    }
   ],
   "source": [
    "print(x.size())"
   ]
  },
  {
   "cell_type": "code",
   "execution_count": 35,
   "metadata": {},
   "outputs": [
    {
     "name": "stdout",
     "output_type": "stream",
     "text": [
      "torch.Size([128, 250, 749, 1])\n"
     ]
    }
   ],
   "source": [
    "px = maxpool(x)\n",
    "print(px.size())"
   ]
  },
  {
   "cell_type": "code",
   "execution_count": 36,
   "metadata": {},
   "outputs": [
    {
     "name": "stdout",
     "output_type": "stream",
     "text": [
      "torch.Size([128, 250, 751, 1])\n",
      "torch.Size([128, 250, 751, 1])\n",
      "torch.Size([128, 250, 749, 1])\n"
     ]
    }
   ],
   "source": [
    "x = padding1(px)\n",
    "print(x.size())\n",
    "x = relu(x)\n",
    "print(x.size())\n",
    "x = conv(x)\n",
    "print(x.size())"
   ]
  },
  {
   "cell_type": "code",
   "execution_count": 37,
   "metadata": {},
   "outputs": [
    {
     "name": "stdout",
     "output_type": "stream",
     "text": [
      "torch.Size([128, 250, 751, 1])\n",
      "torch.Size([128, 250, 751, 1])\n",
      "torch.Size([128, 250, 749, 1])\n"
     ]
    }
   ],
   "source": [
    "x = padding1(x)\n",
    "print(x.size())\n",
    "x = relu(x)\n",
    "print(x.size())\n",
    "x = conv(x)\n",
    "print(x.size())"
   ]
  },
  {
   "cell_type": "code",
   "execution_count": 38,
   "metadata": {},
   "outputs": [
    {
     "data": {
      "text/plain": [
       "torch.Size([128, 250, 749, 1])"
      ]
     },
     "execution_count": 38,
     "metadata": {},
     "output_type": "execute_result"
    }
   ],
   "source": [
    "x = x + px\n",
    "x.size()"
   ]
  },
  {
   "cell_type": "code",
   "execution_count": null,
   "metadata": {},
   "outputs": [],
   "source": []
  }
 ],
 "metadata": {
  "kernelspec": {
   "display_name": "Python 3",
   "language": "python",
   "name": "python3"
  },
  "language_info": {
   "codemirror_mode": {
    "name": "ipython",
    "version": 3
   },
   "file_extension": ".py",
   "mimetype": "text/x-python",
   "name": "python",
   "nbconvert_exporter": "python",
   "pygments_lexer": "ipython3",
   "version": "3.6.10"
  }
 },
 "nbformat": 4,
 "nbformat_minor": 4
}
