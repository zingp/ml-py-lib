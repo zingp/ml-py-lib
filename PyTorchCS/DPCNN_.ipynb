{
 "cells": [
  {
   "cell_type": "code",
   "execution_count": 1,
   "metadata": {},
   "outputs": [],
   "source": [
    "import os\n",
    "import torch\n",
    "import numpy as np\n",
    "import torch.nn as nn\n",
    "import torch.nn.functional as F"
   ]
  },
  {
   "cell_type": "code",
   "execution_count": 2,
   "metadata": {},
   "outputs": [],
   "source": [
    "n_vocab = 6785\n",
    "n_embed = 300\n",
    "n_filters = 250\n",
    "n_classes = 2"
   ]
  },
  {
   "cell_type": "code",
   "execution_count": 3,
   "metadata": {},
   "outputs": [
    {
     "data": {
      "text/plain": [
       "device(type='cuda')"
      ]
     },
     "execution_count": 3,
     "metadata": {},
     "output_type": "execute_result"
    }
   ],
   "source": [
    "device = torch.device(\"cuda\")\n",
    "device"
   ]
  },
  {
   "cell_type": "code",
   "execution_count": 4,
   "metadata": {},
   "outputs": [],
   "source": [
    "class Model(nn.Module):\n",
    "    '''Deep Pyramid Convolutional Neural Networks for Text Categorization'''\n",
    "    def __init__(self, n_vocab, n_embed, n_filters, n_classes):\n",
    "        super(Model, self).__init__()\n",
    "        \n",
    "        self.embedding = nn.Embedding(n_vocab, n_embed, padding_idx=n_vocab - 1)\n",
    "        self.conv_region = nn.Conv2d(1, n_filters, (3, n_embed), stride=1)\n",
    "        \n",
    "        self.conv = nn.Conv2d(n_filters, n_filters, (3, 1), stride=1)\n",
    "        self.max_pool = nn.MaxPool2d(kernel_size=(3, 1), stride=2)\n",
    "        self.padding1 = nn.ZeroPad2d((0, 0, 1, 1))  # top bottom\n",
    "        self.padding2 = nn.ZeroPad2d((0, 0, 0, 1))  # bottom\n",
    "        self.relu = nn.ReLU()\n",
    "        self.dropout = nn.Dropout(0.2)\n",
    "        self.fc = nn.Linear(n_filters, n_classes)\n",
    "\n",
    "    def forward(self, x):\n",
    "        print(x[0].size())\n",
    "        x = x[0]\n",
    "        x = self.embedding(x)\n",
    "        x = x.unsqueeze(1)         # [batch_size, 250, seq_len, 1]\n",
    "        # x = self.conv_region(x)  # [batch_size, 250, seq_len-3+1, 1]\n",
    "        px = self.conv_region(x)\n",
    "        print(\"px:\", px.size())\n",
    "#         px = self.dropout(px)\n",
    "#         print(\"px:\", px.size())\n",
    "        x = self.padding1(px)\n",
    "        \n",
    "        # x = self.padding1(x)     # [batch_size, 250, seq_len, 1]\n",
    "        x = self.relu(x)\n",
    "        x = self.conv(x)           # [batch_size, 250, seq_len-3+1, 1]\n",
    "        x = self.padding1(x)       # [batch_size, 250, seq_len, 1]\n",
    "        x = self.relu(x)\n",
    "        x = self.conv(x)           # [batch_size, 250, seq_len-3+1, 1]\n",
    "        print(\"0----\", x.size())\n",
    "        x = x + px\n",
    "#         for _ in range(4):\n",
    "        while x.size()[2] >= 2:\n",
    "            x = self._block(x)\n",
    "            print(x.size())\n",
    "        print(\"1----\", x.size())\n",
    "        x = x.squeeze()          # [batch_size, n_filters(250)]\n",
    "        print(\"2----\", x.size())\n",
    "        x = self.dropout(x)\n",
    "        x = self.fc(x)\n",
    "        print(\"3----\", x.size())\n",
    "        return x\n",
    "\n",
    "    def _block(self, x):\n",
    "        x = self.padding2(x)\n",
    "        px = self.max_pool(x)\n",
    "\n",
    "        x = self.padding1(px)\n",
    "        x = F.relu(x)\n",
    "        x = self.conv(x)\n",
    "\n",
    "        x = self.padding1(x)\n",
    "        x = F.relu(x)\n",
    "        x = self.conv(x)\n",
    "\n",
    "        x = x + px\n",
    "        return x"
   ]
  },
  {
   "cell_type": "code",
   "execution_count": 5,
   "metadata": {},
   "outputs": [],
   "source": [
    "model = Model(n_vocab, n_embed, n_filters, n_classes)"
   ]
  },
  {
   "cell_type": "code",
   "execution_count": 6,
   "metadata": {},
   "outputs": [
    {
     "data": {
      "text/plain": [
       "Model(\n",
       "  (embedding): Embedding(6785, 300, padding_idx=6784)\n",
       "  (conv_region): Conv2d(1, 250, kernel_size=(3, 300), stride=(1, 1))\n",
       "  (conv): Conv2d(250, 250, kernel_size=(3, 1), stride=(1, 1))\n",
       "  (max_pool): MaxPool2d(kernel_size=(3, 1), stride=2, padding=0, dilation=1, ceil_mode=False)\n",
       "  (padding1): ZeroPad2d(padding=(0, 0, 1, 1), value=0.0)\n",
       "  (padding2): ZeroPad2d(padding=(0, 0, 0, 1), value=0.0)\n",
       "  (relu): ReLU()\n",
       "  (dropout): Dropout(p=0.2)\n",
       "  (fc): Linear(in_features=250, out_features=2, bias=True)\n",
       ")"
      ]
     },
     "execution_count": 6,
     "metadata": {},
     "output_type": "execute_result"
    }
   ],
   "source": [
    "model.to(device)"
   ]
  },
  {
   "cell_type": "code",
   "execution_count": 7,
   "metadata": {},
   "outputs": [],
   "source": [
    "#(x, seq_len), y\n",
    "# x = torch.LongTensor([_[0] for _ in datas]).to(self.device)\n",
    "# y = torch.LongTensor([_[1] for _ in datas]).to(self.device)\n",
    "# # pad前的长度(超过pad_size的设为pad_size)\n",
    "# seq_len = torch.LongTensor([_[2] for _ in datas]).to(self.device)\n",
    "# return (x, seq_len), y\n",
    "pad_size = 1500"
   ]
  },
  {
   "cell_type": "code",
   "execution_count": 8,
   "metadata": {},
   "outputs": [],
   "source": [
    "data = []\n",
    "for i in range(128):\n",
    "    x = torch.randint(0, n_vocab, (pad_size,))\n",
    "    y = 1\n",
    "    seq_len = pad_size\n",
    "    data.append((x, y, seq_len))"
   ]
  },
  {
   "cell_type": "code",
   "execution_count": 9,
   "metadata": {},
   "outputs": [],
   "source": [
    "x = torch.LongTensor([_[0].numpy() for _ in data]).to(device)\n",
    "y = torch.LongTensor([_[1] for _ in data]).to(device)\n",
    "seq_len = torch.LongTensor([_[2] for _ in data]).to(device)\n",
    "# batch = (x, seq_len), y"
   ]
  },
  {
   "cell_type": "code",
   "execution_count": 10,
   "metadata": {},
   "outputs": [],
   "source": [
    "new_data = (x, seq_len), y"
   ]
  },
  {
   "cell_type": "code",
   "execution_count": 11,
   "metadata": {},
   "outputs": [
    {
     "data": {
      "text/plain": [
       "((tensor([[4735, 2316, 5815,  ..., 5861, 1957, 6676],\n",
       "          [ 338, 3356, 4412,  ..., 2147, 6649, 3719],\n",
       "          [5932, 1601, 2034,  ..., 2308,  289, 4426],\n",
       "          ...,\n",
       "          [1819, 2558, 4822,  ..., 4615, 2433, 5891],\n",
       "          [2806,  269, 4575,  ...,  725, 1531, 4668],\n",
       "          [3651, 3460,  480,  ..., 6723, 2548,  534]], device='cuda:0'),\n",
       "  tensor([1500, 1500, 1500, 1500, 1500, 1500, 1500, 1500, 1500, 1500, 1500, 1500,\n",
       "          1500, 1500, 1500, 1500, 1500, 1500, 1500, 1500, 1500, 1500, 1500, 1500,\n",
       "          1500, 1500, 1500, 1500, 1500, 1500, 1500, 1500, 1500, 1500, 1500, 1500,\n",
       "          1500, 1500, 1500, 1500, 1500, 1500, 1500, 1500, 1500, 1500, 1500, 1500,\n",
       "          1500, 1500, 1500, 1500, 1500, 1500, 1500, 1500, 1500, 1500, 1500, 1500,\n",
       "          1500, 1500, 1500, 1500, 1500, 1500, 1500, 1500, 1500, 1500, 1500, 1500,\n",
       "          1500, 1500, 1500, 1500, 1500, 1500, 1500, 1500, 1500, 1500, 1500, 1500,\n",
       "          1500, 1500, 1500, 1500, 1500, 1500, 1500, 1500, 1500, 1500, 1500, 1500,\n",
       "          1500, 1500, 1500, 1500, 1500, 1500, 1500, 1500, 1500, 1500, 1500, 1500,\n",
       "          1500, 1500, 1500, 1500, 1500, 1500, 1500, 1500, 1500, 1500, 1500, 1500,\n",
       "          1500, 1500, 1500, 1500, 1500, 1500, 1500, 1500], device='cuda:0')),\n",
       " tensor([1, 1, 1, 1, 1, 1, 1, 1, 1, 1, 1, 1, 1, 1, 1, 1, 1, 1, 1, 1, 1, 1, 1, 1,\n",
       "         1, 1, 1, 1, 1, 1, 1, 1, 1, 1, 1, 1, 1, 1, 1, 1, 1, 1, 1, 1, 1, 1, 1, 1,\n",
       "         1, 1, 1, 1, 1, 1, 1, 1, 1, 1, 1, 1, 1, 1, 1, 1, 1, 1, 1, 1, 1, 1, 1, 1,\n",
       "         1, 1, 1, 1, 1, 1, 1, 1, 1, 1, 1, 1, 1, 1, 1, 1, 1, 1, 1, 1, 1, 1, 1, 1,\n",
       "         1, 1, 1, 1, 1, 1, 1, 1, 1, 1, 1, 1, 1, 1, 1, 1, 1, 1, 1, 1, 1, 1, 1, 1,\n",
       "         1, 1, 1, 1, 1, 1, 1, 1], device='cuda:0'))"
      ]
     },
     "execution_count": 11,
     "metadata": {},
     "output_type": "execute_result"
    }
   ],
   "source": [
    "new_data"
   ]
  },
  {
   "cell_type": "code",
   "execution_count": 12,
   "metadata": {},
   "outputs": [
    {
     "data": {
      "text/plain": [
       "torch.Size([128, 1500])"
      ]
     },
     "execution_count": 12,
     "metadata": {},
     "output_type": "execute_result"
    }
   ],
   "source": [
    "new_data[0][0].size()"
   ]
  },
  {
   "cell_type": "code",
   "execution_count": 13,
   "metadata": {},
   "outputs": [
    {
     "name": "stdout",
     "output_type": "stream",
     "text": [
      "torch.Size([128, 1500])\n",
      "px: torch.Size([128, 250, 1498, 1])\n",
      "px: torch.Size([128, 250, 1498, 1])\n",
      "0---- torch.Size([128, 250, 1498, 1])\n",
      "torch.Size([128, 250, 749, 1])\n",
      "torch.Size([128, 250, 374, 1])\n",
      "torch.Size([128, 250, 187, 1])\n",
      "torch.Size([128, 250, 93, 1])\n",
      "torch.Size([128, 250, 46, 1])\n",
      "torch.Size([128, 250, 23, 1])\n",
      "torch.Size([128, 250, 11, 1])\n",
      "torch.Size([128, 250, 5, 1])\n",
      "torch.Size([128, 250, 2, 1])\n",
      "torch.Size([128, 250, 1, 1])\n",
      "1---- torch.Size([128, 250, 1, 1])\n",
      "2---- torch.Size([128, 250])\n",
      "3---- torch.Size([128, 2])\n"
     ]
    },
    {
     "data": {
      "text/plain": [
       "tensor([[-1.9882,  1.3456],\n",
       "        [-1.6952,  7.4155],\n",
       "        [ 0.9635,  4.5713],\n",
       "        [-2.8678,  6.6539],\n",
       "        [ 2.9253,  2.9582],\n",
       "        [ 0.6886,  7.5188],\n",
       "        [-1.8106,  7.1478],\n",
       "        [ 1.2834,  6.5948],\n",
       "        [-2.6055,  3.4480],\n",
       "        [-1.3335,  5.8247],\n",
       "        [-0.3499,  6.3552],\n",
       "        [-1.8354,  4.9861],\n",
       "        [-0.9082,  4.3563],\n",
       "        [ 0.0739,  5.2568],\n",
       "        [-0.7252,  5.6073],\n",
       "        [ 0.6507,  7.0877],\n",
       "        [-0.4518,  5.6180],\n",
       "        [-2.7945,  4.0830],\n",
       "        [-0.6449,  6.3809],\n",
       "        [-2.2850,  4.4531],\n",
       "        [-1.4923,  7.1569],\n",
       "        [-0.2675,  4.9332],\n",
       "        [ 1.2943,  5.1248],\n",
       "        [-0.0620,  5.9816],\n",
       "        [ 1.0221,  2.5349],\n",
       "        [ 0.2962,  6.2708],\n",
       "        [ 1.8221,  7.6633],\n",
       "        [ 2.6781,  6.2605],\n",
       "        [-0.3710,  5.9253],\n",
       "        [-1.2596,  6.6335],\n",
       "        [ 0.2712,  7.3309],\n",
       "        [ 1.1502,  7.3616],\n",
       "        [ 3.7757,  4.9064],\n",
       "        [ 0.6839,  6.3405],\n",
       "        [-0.5159,  8.9584],\n",
       "        [-1.0605,  6.2195],\n",
       "        [ 0.2497,  5.6088],\n",
       "        [-1.2371,  3.9890],\n",
       "        [ 3.1564,  4.8524],\n",
       "        [-0.2449,  5.3315],\n",
       "        [-1.8452,  7.4242],\n",
       "        [ 2.6064,  2.2638],\n",
       "        [ 0.5512,  7.4725],\n",
       "        [-0.8119,  3.3853],\n",
       "        [ 0.8829,  4.5159],\n",
       "        [-1.1249,  4.9822],\n",
       "        [-1.2039,  3.1250],\n",
       "        [-1.7905,  6.9063],\n",
       "        [-0.1286,  6.6252],\n",
       "        [-1.7826,  8.5370],\n",
       "        [ 2.7290,  5.4092],\n",
       "        [-1.2540,  5.7514],\n",
       "        [-1.3104,  6.4698],\n",
       "        [ 2.0121,  4.3905],\n",
       "        [-1.9595,  7.6131],\n",
       "        [ 0.5325,  9.4888],\n",
       "        [-1.1226,  5.3836],\n",
       "        [ 0.6109,  6.4240],\n",
       "        [-0.1292,  5.0603],\n",
       "        [-1.9645,  6.2968],\n",
       "        [-0.1645,  6.2951],\n",
       "        [ 0.5265,  5.7888],\n",
       "        [-0.2653,  4.4347],\n",
       "        [-0.9802,  3.8248],\n",
       "        [-2.9386,  4.3318],\n",
       "        [ 3.4465,  6.6861],\n",
       "        [-1.2095,  7.2056],\n",
       "        [-0.4764,  3.3890],\n",
       "        [ 0.4793,  7.0379],\n",
       "        [ 0.1566,  3.5666],\n",
       "        [-2.0392,  3.4003],\n",
       "        [-0.9896,  7.8302],\n",
       "        [-1.7287,  6.4613],\n",
       "        [ 2.4553,  5.7218],\n",
       "        [-0.4051,  9.3500],\n",
       "        [-0.7566,  4.8477],\n",
       "        [ 1.1458,  9.5383],\n",
       "        [-0.5760,  6.0499],\n",
       "        [-0.8653,  6.8358],\n",
       "        [ 2.7581, 10.0336],\n",
       "        [ 0.2785,  5.9400],\n",
       "        [ 0.0118,  4.2817],\n",
       "        [-0.7916,  5.8821],\n",
       "        [-1.5167,  4.6530],\n",
       "        [ 2.6311,  6.0107],\n",
       "        [-1.3655,  7.7606],\n",
       "        [-1.2449,  8.0151],\n",
       "        [-0.4450,  6.3553],\n",
       "        [ 0.2555,  4.0701],\n",
       "        [-0.7766,  8.0961],\n",
       "        [ 2.0088,  6.8585],\n",
       "        [ 0.8369,  6.4550],\n",
       "        [-0.2052,  4.0524],\n",
       "        [-0.0729,  4.1991],\n",
       "        [ 1.2044,  4.7622],\n",
       "        [-2.3338,  4.7991],\n",
       "        [ 1.0149,  5.2177],\n",
       "        [-1.2335,  6.5946],\n",
       "        [-0.4183,  4.0212],\n",
       "        [-1.2518,  7.4178],\n",
       "        [ 1.3737,  8.7611],\n",
       "        [ 2.3768,  5.9205],\n",
       "        [ 1.4598,  3.9373],\n",
       "        [ 2.0192,  5.0424],\n",
       "        [ 2.1522,  7.2742],\n",
       "        [ 0.3199,  7.8856],\n",
       "        [-1.3344,  7.0513],\n",
       "        [-3.0447,  7.2676],\n",
       "        [ 1.6577,  6.4874],\n",
       "        [ 0.8608,  3.7099],\n",
       "        [ 1.0161,  7.2340],\n",
       "        [-0.5309,  5.5289],\n",
       "        [-0.3396,  5.0027],\n",
       "        [-0.6039,  7.8728],\n",
       "        [-1.3331,  7.0120],\n",
       "        [-1.1093, 10.1462],\n",
       "        [ 2.0217,  7.9335],\n",
       "        [ 0.3275,  6.7496],\n",
       "        [-0.2844,  3.8832],\n",
       "        [-1.0062,  6.1378],\n",
       "        [-1.0787,  8.8160],\n",
       "        [ 1.3001,  6.1878],\n",
       "        [ 2.0140,  5.0875],\n",
       "        [ 2.0163,  3.6044],\n",
       "        [ 1.0478,  5.9614],\n",
       "        [ 1.4635,  8.5564],\n",
       "        [-2.1665,  2.1251],\n",
       "        [ 0.1041,  5.1628]], device='cuda:0', grad_fn=<AddmmBackward>)"
      ]
     },
     "execution_count": 13,
     "metadata": {},
     "output_type": "execute_result"
    }
   ],
   "source": [
    "model(new_data[0])\n",
    "# 1---- torch.Size([128, 250, 2, 1])\n",
    "# 2---- torch.Size([128, 250, 2])\n",
    "## 正常\n",
    "# 1---- torch.Size([128, 250, 1, 1])\n",
    "# 2---- torch.Size([128, 250])\n",
    "# 3---- torch.Size([128, 2])"
   ]
  },
  {
   "cell_type": "code",
   "execution_count": 1,
   "metadata": {},
   "outputs": [
    {
     "ename": "NameError",
     "evalue": "name 'new_data' is not defined",
     "output_type": "error",
     "traceback": [
      "\u001b[0;31m---------------------------------------------------------------------------\u001b[0m",
      "\u001b[0;31mNameError\u001b[0m                                 Traceback (most recent call last)",
      "\u001b[0;32m<ipython-input-1-fe5835e6f0f2>\u001b[0m in \u001b[0;36m<module>\u001b[0;34m\u001b[0m\n\u001b[0;32m----> 1\u001b[0;31m \u001b[0mnew_data\u001b[0m\u001b[0;34m[\u001b[0m\u001b[0;36m0\u001b[0m\u001b[0;34m]\u001b[0m\u001b[0;34m[\u001b[0m\u001b[0;36m0\u001b[0m\u001b[0;34m]\u001b[0m\u001b[0;34m.\u001b[0m\u001b[0msize\u001b[0m\u001b[0;34m(\u001b[0m\u001b[0;34m)\u001b[0m\u001b[0;34m\u001b[0m\u001b[0;34m\u001b[0m\u001b[0m\n\u001b[0m",
      "\u001b[0;31mNameError\u001b[0m: name 'new_data' is not defined"
     ]
    }
   ],
   "source": [
    "new_data[0][0].size()"
   ]
  },
  {
   "cell_type": "code",
   "execution_count": 16,
   "metadata": {},
   "outputs": [
    {
     "data": {
      "text/plain": [
       "ZeroPad2d(padding=(0, 0, 1, 1), value=0.0)"
      ]
     },
     "execution_count": 16,
     "metadata": {},
     "output_type": "execute_result"
    }
   ],
   "source": [
    "nn.ZeroPad2d((0, 0, 1, 1))"
   ]
  },
  {
   "cell_type": "code",
   "execution_count": 17,
   "metadata": {},
   "outputs": [],
   "source": [
    "embedding = nn.Embedding(n_vocab, n_embed, padding_idx=n_vocab - 1)"
   ]
  },
  {
   "cell_type": "code",
   "execution_count": 18,
   "metadata": {},
   "outputs": [],
   "source": [
    "x = new_data[0][0]"
   ]
  },
  {
   "cell_type": "code",
   "execution_count": 19,
   "metadata": {},
   "outputs": [
    {
     "data": {
      "text/plain": [
       "torch.Size([128, 1500])"
      ]
     },
     "execution_count": 19,
     "metadata": {},
     "output_type": "execute_result"
    }
   ],
   "source": [
    "x.size()"
   ]
  },
  {
   "cell_type": "code",
   "execution_count": 20,
   "metadata": {},
   "outputs": [
    {
     "data": {
      "text/plain": [
       "torch.Size([128, 1500, 300])"
      ]
     },
     "execution_count": 20,
     "metadata": {},
     "output_type": "execute_result"
    }
   ],
   "source": [
    "x = embedding(x)\n",
    "x.size()"
   ]
  },
  {
   "cell_type": "code",
   "execution_count": 22,
   "metadata": {},
   "outputs": [],
   "source": [
    "region_conv = nn.Conv2d(1, n_filters, (3, n_embed), stride=1)"
   ]
  },
  {
   "cell_type": "code",
   "execution_count": 23,
   "metadata": {},
   "outputs": [
    {
     "data": {
      "text/plain": [
       "torch.Size([128, 1, 1500, 300])"
      ]
     },
     "execution_count": 23,
     "metadata": {},
     "output_type": "execute_result"
    }
   ],
   "source": [
    "x = x.unsqueeze(1)\n",
    "x.size()"
   ]
  },
  {
   "cell_type": "code",
   "execution_count": 24,
   "metadata": {},
   "outputs": [
    {
     "data": {
      "text/plain": [
       "torch.Size([128, 250, 1498, 1])"
      ]
     },
     "execution_count": 24,
     "metadata": {},
     "output_type": "execute_result"
    }
   ],
   "source": [
    "x = region_conv(x)\n",
    "x.size()"
   ]
  },
  {
   "cell_type": "code",
   "execution_count": 25,
   "metadata": {},
   "outputs": [],
   "source": [
    "padding1 = nn.ZeroPad2d((0, 0, 1, 1))"
   ]
  },
  {
   "cell_type": "code",
   "execution_count": 26,
   "metadata": {},
   "outputs": [
    {
     "data": {
      "text/plain": [
       "torch.Size([128, 250, 1500, 1])"
      ]
     },
     "execution_count": 26,
     "metadata": {},
     "output_type": "execute_result"
    }
   ],
   "source": [
    "x = padding1(x)\n",
    "x.size()"
   ]
  },
  {
   "cell_type": "code",
   "execution_count": 27,
   "metadata": {},
   "outputs": [],
   "source": [
    "conv = nn.Conv2d(n_filters, n_filters, (3, 1), stride=1)"
   ]
  },
  {
   "cell_type": "code",
   "execution_count": 28,
   "metadata": {},
   "outputs": [],
   "source": [
    "relu = nn.ReLU()"
   ]
  },
  {
   "cell_type": "code",
   "execution_count": 29,
   "metadata": {},
   "outputs": [
    {
     "name": "stdout",
     "output_type": "stream",
     "text": [
      "torch.Size([128, 250, 1500, 1])\n",
      "torch.Size([128, 250, 1498, 1])\n"
     ]
    }
   ],
   "source": [
    "x = relu(x)\n",
    "print(x.size())\n",
    "x = conv(x)\n",
    "print(x.size())"
   ]
  },
  {
   "cell_type": "code",
   "execution_count": 30,
   "metadata": {},
   "outputs": [
    {
     "name": "stdout",
     "output_type": "stream",
     "text": [
      "torch.Size([128, 250, 1500, 1])\n",
      "torch.Size([128, 250, 1500, 1])\n",
      "torch.Size([128, 250, 1498, 1])\n"
     ]
    }
   ],
   "source": [
    "x = padding1(x)\n",
    "print(x.size())\n",
    "x = relu(x)\n",
    "print(x.size())\n",
    "x = conv(x)\n",
    "print(x.size())"
   ]
  },
  {
   "cell_type": "code",
   "execution_count": 31,
   "metadata": {},
   "outputs": [],
   "source": [
    "padding2 = nn.ZeroPad2d((0, 0, 0, 1))"
   ]
  },
  {
   "cell_type": "code",
   "execution_count": 32,
   "metadata": {},
   "outputs": [],
   "source": [
    "maxpool = nn.MaxPool2d(kernel_size=(3, 1), stride=2)"
   ]
  },
  {
   "cell_type": "code",
   "execution_count": 33,
   "metadata": {},
   "outputs": [],
   "source": [
    "x = padding2(x)"
   ]
  },
  {
   "cell_type": "code",
   "execution_count": 34,
   "metadata": {},
   "outputs": [
    {
     "name": "stdout",
     "output_type": "stream",
     "text": [
      "torch.Size([128, 250, 1499, 1])\n"
     ]
    }
   ],
   "source": [
    "print(x.size())"
   ]
  },
  {
   "cell_type": "code",
   "execution_count": 35,
   "metadata": {},
   "outputs": [
    {
     "name": "stdout",
     "output_type": "stream",
     "text": [
      "torch.Size([128, 250, 749, 1])\n"
     ]
    }
   ],
   "source": [
    "px = maxpool(x)\n",
    "print(px.size())"
   ]
  },
  {
   "cell_type": "code",
   "execution_count": 36,
   "metadata": {},
   "outputs": [
    {
     "name": "stdout",
     "output_type": "stream",
     "text": [
      "torch.Size([128, 250, 751, 1])\n",
      "torch.Size([128, 250, 751, 1])\n",
      "torch.Size([128, 250, 749, 1])\n"
     ]
    }
   ],
   "source": [
    "x = padding1(px)\n",
    "print(x.size())\n",
    "x = relu(x)\n",
    "print(x.size())\n",
    "x = conv(x)\n",
    "print(x.size())"
   ]
  },
  {
   "cell_type": "code",
   "execution_count": 37,
   "metadata": {},
   "outputs": [
    {
     "name": "stdout",
     "output_type": "stream",
     "text": [
      "torch.Size([128, 250, 751, 1])\n",
      "torch.Size([128, 250, 751, 1])\n",
      "torch.Size([128, 250, 749, 1])\n"
     ]
    }
   ],
   "source": [
    "x = padding1(x)\n",
    "print(x.size())\n",
    "x = relu(x)\n",
    "print(x.size())\n",
    "x = conv(x)\n",
    "print(x.size())"
   ]
  },
  {
   "cell_type": "code",
   "execution_count": 38,
   "metadata": {},
   "outputs": [
    {
     "data": {
      "text/plain": [
       "torch.Size([128, 250, 749, 1])"
      ]
     },
     "execution_count": 38,
     "metadata": {},
     "output_type": "execute_result"
    }
   ],
   "source": [
    "x = x + px\n",
    "x.size()"
   ]
  },
  {
   "cell_type": "code",
   "execution_count": 48,
   "metadata": {},
   "outputs": [
    {
     "data": {
      "text/plain": [
       "torch.Size([20, 16, 32, 32])"
      ]
     },
     "execution_count": 48,
     "metadata": {},
     "output_type": "execute_result"
    }
   ],
   "source": [
    "m = nn.Dropout2d(p=0.2)\n",
    "input = torch.randn(20, 16, 32, 32)\n",
    "output = m(input)\n",
    "output.size()"
   ]
  },
  {
   "cell_type": "code",
   "execution_count": 49,
   "metadata": {},
   "outputs": [
    {
     "data": {
      "text/plain": [
       "torch.Size([20, 16])"
      ]
     },
     "execution_count": 49,
     "metadata": {},
     "output_type": "execute_result"
    }
   ],
   "source": [
    "m = nn.Dropout(p=0.2)\n",
    "input = torch.randn(20, 16)\n",
    "output = m(input)\n",
    "output.size()"
   ]
  },
  {
   "cell_type": "code",
   "execution_count": null,
   "metadata": {},
   "outputs": [],
   "source": []
  }
 ],
 "metadata": {
  "kernelspec": {
   "display_name": "Python 3",
   "language": "python",
   "name": "python3"
  },
  "language_info": {
   "codemirror_mode": {
    "name": "ipython",
    "version": 3
   },
   "file_extension": ".py",
   "mimetype": "text/x-python",
   "name": "python",
   "nbconvert_exporter": "python",
   "pygments_lexer": "ipython3",
   "version": "3.6.9"
  }
 },
 "nbformat": 4,
 "nbformat_minor": 4
}
