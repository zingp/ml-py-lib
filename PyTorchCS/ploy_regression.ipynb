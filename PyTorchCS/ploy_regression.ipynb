{
 "cells": [
  {
   "cell_type": "markdown",
   "metadata": {},
   "source": [
    "#  多项式回归"
   ]
  },
  {
   "cell_type": "code",
   "execution_count": 1,
   "metadata": {},
   "outputs": [],
   "source": [
    "import numpy as np\n",
    "import torch\n",
    "from torch import optim\n",
    "from torch import nn\n",
    "import torchvision\n",
    "import matplotlib.pyplot as plt\n",
    "%matplotlib inline"
   ]
  },
  {
   "cell_type": "code",
   "execution_count": 2,
   "metadata": {},
   "outputs": [],
   "source": [
    "np.random.seed(2019)"
   ]
  },
  {
   "cell_type": "markdown",
   "metadata": {},
   "source": [
    "## 1 定义真实的函数\n",
    "- $y = 0.9 + 0.5x+3x^2+2.4x^3$"
   ]
  },
  {
   "cell_type": "code",
   "execution_count": 3,
   "metadata": {},
   "outputs": [],
   "source": [
    "W = torch.FloatTensor([0.5, 3, 2.4]).unsqueeze(1)\n",
    "b = torch.FloatTensor([0.9])"
   ]
  },
  {
   "cell_type": "code",
   "execution_count": 4,
   "metadata": {},
   "outputs": [],
   "source": [
    "def f(x):\n",
    "    return x.mm(W) + b[0]"
   ]
  },
  {
   "cell_type": "markdown",
   "metadata": {},
   "source": [
    "## 2 生成训练数据"
   ]
  },
  {
   "cell_type": "code",
   "execution_count": 5,
   "metadata": {},
   "outputs": [],
   "source": [
    "# 需要把[[x1], [x2], ...] 变成[[x1, x1^2, x1^3], [x2, x2^2, x2^3], ...]\n",
    "def make_features(x):\n",
    "    x = x.unsqueeze(1)\n",
    "    return torch.cat([x**i for i in range(1, 4)], 1)\n",
    "\n",
    "def get_batch(batch_size=32):\n",
    "    rand_x = torch.randn(batch_size)\n",
    "    x = make_features(rand_x)\n",
    "    y = f(x)\n",
    "    if torch.cuda.is_available():\n",
    "        return x.cuda(), y.cuda()\n",
    "    else:\n",
    "        return x, y"
   ]
  },
  {
   "cell_type": "code",
   "execution_count": 6,
   "metadata": {},
   "outputs": [],
   "source": [
    "X_train, y_train = get_batch()"
   ]
  },
  {
   "cell_type": "code",
   "execution_count": 7,
   "metadata": {},
   "outputs": [
    {
     "data": {
      "text/plain": [
       "torch.Size([32, 3])"
      ]
     },
     "execution_count": 7,
     "metadata": {},
     "output_type": "execute_result"
    }
   ],
   "source": [
    "X_train.shape"
   ]
  },
  {
   "cell_type": "code",
   "execution_count": 8,
   "metadata": {},
   "outputs": [
    {
     "data": {
      "text/plain": [
       "torch.Size([32, 1])"
      ]
     },
     "execution_count": 8,
     "metadata": {},
     "output_type": "execute_result"
    }
   ],
   "source": [
    "y_train.shape"
   ]
  },
  {
   "cell_type": "markdown",
   "metadata": {},
   "source": [
    "## 3 定义模型"
   ]
  },
  {
   "cell_type": "code",
   "execution_count": 9,
   "metadata": {},
   "outputs": [],
   "source": [
    "class PloyRegression(nn.Module):\n",
    "    def __init__(self):\n",
    "        super(PloyRegression, self).__init__()\n",
    "        self.ploy = nn.Linear(3, 1)\n",
    "    \n",
    "    def forward(self, x):\n",
    "        out = self.ploy(x)\n",
    "        return out"
   ]
  },
  {
   "cell_type": "markdown",
   "metadata": {},
   "source": [
    "## 4 训练"
   ]
  },
  {
   "cell_type": "code",
   "execution_count": 10,
   "metadata": {},
   "outputs": [],
   "source": [
    "if torch.cuda.is_available():\n",
    "    model = PloyRegression().cuda()\n",
    "else:\n",
    "    model = PloyRegression()"
   ]
  },
  {
   "cell_type": "code",
   "execution_count": 11,
   "metadata": {},
   "outputs": [],
   "source": [
    "criterion = nn.MSELoss()\n",
    "optimizer = optim.SGD(model.parameters(), lr=1e-3)"
   ]
  },
  {
   "cell_type": "code",
   "execution_count": 12,
   "metadata": {},
   "outputs": [],
   "source": [
    "def train(model, X_train, y_train, criterion, optimizer):\n",
    "    epoch = 0\n",
    "    while True:\n",
    "        inputs = X_train.cuda()\n",
    "        target = y_train.cuda()\n",
    "        out = model(inputs)\n",
    "        \n",
    "        loss = criterion(out, target)\n",
    "        curr_loss = loss.data.cpu().numpy()\n",
    "        optimizer.zero_grad()\n",
    "        loss.backward()\n",
    "        optimizer.step()\n",
    "        if (epoch+1) % 100 == 0:\n",
    "            print(\"Epoch {} Loss: {:0.6}\".format(epoch+1, curr_loss))\n",
    "        if curr_loss <= 1e-3:\n",
    "            print(\"Epoch {} Loss: {:0.6}\".format(epoch+1, curr_loss))\n",
    "            break\n",
    "        epoch += 1"
   ]
  },
  {
   "cell_type": "code",
   "execution_count": 13,
   "metadata": {},
   "outputs": [
    {
     "name": "stdout",
     "output_type": "stream",
     "text": [
      "Epoch 100 Loss: 11.8712\n",
      "Epoch 200 Loss: 4.47083\n",
      "Epoch 300 Loss: 2.06913\n",
      "Epoch 400 Loss: 1.10911\n",
      "Epoch 500 Loss: 0.667184\n",
      "Epoch 600 Loss: 0.443656\n",
      "Epoch 700 Loss: 0.321121\n",
      "Epoch 800 Loss: 0.248029\n",
      "Epoch 900 Loss: 0.200376\n",
      "Epoch 1000 Loss: 0.166604\n",
      "Epoch 1100 Loss: 0.14099\n",
      "Epoch 1200 Loss: 0.120593\n",
      "Epoch 1300 Loss: 0.103822\n",
      "Epoch 1400 Loss: 0.0897593\n",
      "Epoch 1500 Loss: 0.0778256\n",
      "Epoch 1600 Loss: 0.0676253\n",
      "Epoch 1700 Loss: 0.0588686\n",
      "Epoch 1800 Loss: 0.0513292\n",
      "Epoch 1900 Loss: 0.044824\n",
      "Epoch 2000 Loss: 0.0392021\n",
      "Epoch 2100 Loss: 0.0343369\n",
      "Epoch 2200 Loss: 0.0301213\n",
      "Epoch 2300 Loss: 0.0264635\n",
      "Epoch 2400 Loss: 0.0232861\n",
      "Epoch 2500 Loss: 0.0205222\n",
      "Epoch 2600 Loss: 0.0181148\n",
      "Epoch 2700 Loss: 0.0160152\n",
      "Epoch 2800 Loss: 0.0141815\n",
      "Epoch 2900 Loss: 0.0125776\n",
      "Epoch 3000 Loss: 0.0111728\n",
      "Epoch 3100 Loss: 0.00994048\n",
      "Epoch 3200 Loss: 0.00885785\n",
      "Epoch 3300 Loss: 0.00790524\n",
      "Epoch 3400 Loss: 0.00706582\n",
      "Epoch 3500 Loss: 0.0063249\n",
      "Epoch 3600 Loss: 0.00566984\n",
      "Epoch 3700 Loss: 0.00508985\n",
      "Epoch 3800 Loss: 0.00457547\n",
      "Epoch 3900 Loss: 0.00411856\n",
      "Epoch 4000 Loss: 0.00371209\n",
      "Epoch 4100 Loss: 0.0033499\n",
      "Epoch 4200 Loss: 0.00302669\n",
      "Epoch 4300 Loss: 0.0027378\n",
      "Epoch 4400 Loss: 0.00247921\n",
      "Epoch 4500 Loss: 0.00224742\n",
      "Epoch 4600 Loss: 0.00203934\n",
      "Epoch 4700 Loss: 0.00185233\n",
      "Epoch 4800 Loss: 0.00168397\n",
      "Epoch 4900 Loss: 0.00153223\n",
      "Epoch 5000 Loss: 0.00139531\n",
      "Epoch 5100 Loss: 0.00127163\n",
      "Epoch 5200 Loss: 0.00115975\n",
      "Epoch 5300 Loss: 0.0010584\n",
      "Epoch 5363 Loss: 0.000999524\n"
     ]
    }
   ],
   "source": [
    "train(model, X_train, y_train, criterion, optimizer)"
   ]
  },
  {
   "cell_type": "markdown",
   "metadata": {},
   "source": [
    "## 5 测试"
   ]
  },
  {
   "cell_type": "code",
   "execution_count": 14,
   "metadata": {},
   "outputs": [
    {
     "data": {
      "text/plain": [
       "[<matplotlib.lines.Line2D at 0x7f321cb02a58>]"
      ]
     },
     "execution_count": 14,
     "metadata": {},
     "output_type": "execute_result"
    },
    {
     "data": {
      "image/png": "[encoded data removed]",
      "text/plain": [
       "<Figure size 432x288 with 1 Axes>"
      ]
     },
     "metadata": {
      "needs_background": "light"
     },
     "output_type": "display_data"
    }
   ],
   "source": [
    "model.eval()\n",
    "\n",
    "x = torch.FloatTensor(np.sort(np.linspace(-8, 8, 32)))\n",
    "x_ = make_features(x)\n",
    "y = f(x_)\n",
    "\n",
    "pred = model(x_.cuda())\n",
    "\n",
    "plt.plot(x.numpy(), y.numpy(), 'ro')\n",
    "plt.plot(x.numpy(), pred.data.cpu().numpy())"
   ]
  },
  {
   "cell_type": "code",
   "execution_count": 15,
   "metadata": {},
   "outputs": [
    {
     "data": {
      "text/plain": [
       "OrderedDict([('ploy.weight',\n",
       "              tensor([[0.5618, 2.9932, 2.3763]], device='cuda:0')),\n",
       "             ('ploy.bias', tensor([0.9135], device='cuda:0'))])"
      ]
     },
     "execution_count": 15,
     "metadata": {},
     "output_type": "execute_result"
    }
   ],
   "source": [
    "# 模型参数\n",
    "model.state_dict()"
   ]
  },
  {
   "cell_type": "markdown",
   "metadata": {},
   "source": [
    "##  总结\n",
    "- torch定义的模型传入的训练数据默认FloatTensor\n",
    "- 多项式回归的时候同一个x, 最高次如果是n，则需要把一个样本变成n列。$[[x_1], [x_2], ...] -->[[x_1, x_1^2, x_1^3], [x_2, x_2^2, x_2^3], ...]$\n",
    "- x.squeeze(0)  # squeeze中的参数0、1分别代表第一、第二维度，squeeze(0)表示如果第一维度值为1，则去掉，否则不变。故a的维度(1,3),可去掉1成(3),但不可去掉3。\n",
    "\n",
    "```python\n",
    "a = torch.FloatTensor([[1.1, 2.2, 3.3]])\n",
    "print(a.shape)   '''torch.Size([1, 3])'''\n",
    "\n",
    "x = a.squeeze(0)\n",
    "print(x.shape)   '''torch.Size([3])''' \n",
    "\n",
    "a = torch.randn(5)\n",
    "print(a.shape)   '''torch.Size([5])'''\n",
    "\n",
    "x = a.unsqueeze(1)\n",
    "print(x.shape)   '''torch.Size([5, 1])'''\n",
    "```"
   ]
  },
  {
   "cell_type": "code",
   "execution_count": null,
   "metadata": {},
   "outputs": [],
   "source": []
  }
 ],
 "metadata": {
  "kernelspec": {
   "display_name": "Python 3",
   "language": "python",
   "name": "python3"
  },
  "language_info": {
   "codemirror_mode": {
    "name": "ipython",
    "version": 3
   },
   "file_extension": ".py",
   "mimetype": "text/x-python",
   "name": "python",
   "nbconvert_exporter": "python",
   "pygments_lexer": "ipython3",
   "version": "3.6.8"
  }
 },
 "nbformat": 4,
 "nbformat_minor": 2
}
