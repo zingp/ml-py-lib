{
 "cells": [
  {
   "cell_type": "code",
   "execution_count": 1,
   "metadata": {},
   "outputs": [],
   "source": [
    "import numpy as np\n",
    "import torch\n",
    "from torch import optim\n",
    "from torch import nn\n",
    "import torchvision\n",
    "import matplotlib.pyplot as plt\n",
    "%matplotlib inline"
   ]
  },
  {
   "cell_type": "code",
   "execution_count": 2,
   "metadata": {},
   "outputs": [],
   "source": [
    "np.random.seed(2019)"
   ]
  },
  {
   "cell_type": "code",
   "execution_count": 3,
   "metadata": {},
   "outputs": [],
   "source": [
    "def make_features(x):\n",
    "    x = x.unsqueeze(1)\n",
    "    return torch.cat([x**i for i in range(1, 4)], 1)"
   ]
  },
  {
   "cell_type": "code",
   "execution_count": 4,
   "metadata": {},
   "outputs": [],
   "source": [
    "## 定义真实的函数"
   ]
  },
  {
   "cell_type": "code",
   "execution_count": 5,
   "metadata": {},
   "outputs": [],
   "source": [
    "W = torch.FloatTensor([0.5, 3, 2.4]).unsqueeze(1)\n",
    "b = torch.FloatTensor([0.9])"
   ]
  },
  {
   "cell_type": "code",
   "execution_count": 6,
   "metadata": {},
   "outputs": [],
   "source": [
    "def f(x):\n",
    "    return x.mm(W) + b[0]"
   ]
  },
  {
   "cell_type": "code",
   "execution_count": 7,
   "metadata": {},
   "outputs": [],
   "source": [
    "def get_batch(batch_size=32):\n",
    "    rand_x = torch.randn(batch_size)\n",
    "    x = make_features(rand_x)\n",
    "    y = f(x)\n",
    "    if torch.cuda.is_available():\n",
    "        return x.cuda(), y.cuda()\n",
    "    else:\n",
    "        return x, y"
   ]
  },
  {
   "cell_type": "code",
   "execution_count": 8,
   "metadata": {},
   "outputs": [],
   "source": [
    "X_train, y_train = get_batch()"
   ]
  },
  {
   "cell_type": "code",
   "execution_count": 9,
   "metadata": {},
   "outputs": [
    {
     "data": {
      "text/plain": [
       "tensor([[ 1.6740e-01,  2.8023e-02,  4.6910e-03],\n",
       "        [-1.2028e+00,  1.4468e+00, -1.7403e+00],\n",
       "        [-1.6046e+00,  2.5747e+00, -4.1314e+00],\n",
       "        [-5.9781e-02,  3.5737e-03, -2.1364e-04],\n",
       "        [ 1.3473e+00,  1.8151e+00,  2.4454e+00],\n",
       "        [ 1.1147e+00,  1.2427e+00,  1.3853e+00],\n",
       "        [ 1.1389e+00,  1.2972e+00,  1.4774e+00],\n",
       "        [ 3.4834e+00,  1.2134e+01,  4.2270e+01],\n",
       "        [-5.4576e-01,  2.9785e-01, -1.6256e-01],\n",
       "        [-7.3320e-01,  5.3758e-01, -3.9416e-01],\n",
       "        [ 1.2821e-01,  1.6439e-02,  2.1077e-03],\n",
       "        [ 1.6743e+00,  2.8032e+00,  4.6934e+00],\n",
       "        [-2.3979e-03,  5.7500e-06, -1.3788e-08],\n",
       "        [ 4.2726e-01,  1.8255e-01,  7.7997e-02],\n",
       "        [-7.7218e-01,  5.9626e-01, -4.6042e-01],\n",
       "        [ 6.1649e-01,  3.8006e-01,  2.3430e-01],\n",
       "        [-8.5537e-01,  7.3165e-01, -6.2583e-01],\n",
       "        [ 2.3902e-02,  5.7131e-04,  1.3655e-05],\n",
       "        [ 3.1464e-01,  9.9000e-02,  3.1150e-02],\n",
       "        [ 5.2901e-01,  2.7985e-01,  1.4804e-01],\n",
       "        [-1.2240e+00,  1.4981e+00, -1.8336e+00],\n",
       "        [-9.5252e-02,  9.0730e-03, -8.6422e-04],\n",
       "        [-1.4264e-01,  2.0346e-02, -2.9022e-03],\n",
       "        [-3.0711e-01,  9.4315e-02, -2.8965e-02],\n",
       "        [-8.0821e-01,  6.5320e-01, -5.2792e-01],\n",
       "        [ 2.3570e+00,  5.5555e+00,  1.3094e+01],\n",
       "        [-6.4737e-01,  4.1909e-01, -2.7130e-01],\n",
       "        [-1.1720e+00,  1.3736e+00, -1.6098e+00],\n",
       "        [-8.7490e-01,  7.6545e-01, -6.6969e-01],\n",
       "        [-6.5110e-01,  4.2393e-01, -2.7602e-01],\n",
       "        [ 1.6491e+00,  2.7195e+00,  4.4847e+00],\n",
       "        [ 1.7864e+00,  3.1913e+00,  5.7009e+00]], device='cuda:0')"
      ]
     },
     "execution_count": 9,
     "metadata": {},
     "output_type": "execute_result"
    }
   ],
   "source": [
    "X_train"
   ]
  },
  {
   "cell_type": "code",
   "execution_count": 10,
   "metadata": {},
   "outputs": [
    {
     "data": {
      "text/plain": [
       "tensor([[  1.0790],\n",
       "        [  0.4623],\n",
       "        [ -2.0935],\n",
       "        [  0.8803],\n",
       "        [ 12.8878],\n",
       "        [  8.5100],\n",
       "        [  8.9068],\n",
       "        [140.4922],\n",
       "        [  1.1305],\n",
       "        [  1.2002],\n",
       "        [  1.0185],\n",
       "        [ 21.4110],\n",
       "        [  0.8988],\n",
       "        [  1.8485],\n",
       "        [  1.1977],\n",
       "        [  2.9107],\n",
       "        [  1.1653],\n",
       "        [  0.9137],\n",
       "        [  1.4291],\n",
       "        [  2.3594],\n",
       "        [  0.3817],\n",
       "        [  0.8775],\n",
       "        [  0.8828],\n",
       "        [  0.9599],\n",
       "        [  1.1885],\n",
       "        [ 50.1711],\n",
       "        [  1.1824],\n",
       "        [  0.5712],\n",
       "        [  1.1516],\n",
       "        [  1.1838],\n",
       "        [ 20.6462],\n",
       "        [ 25.0491]], device='cuda:0')"
      ]
     },
     "execution_count": 10,
     "metadata": {},
     "output_type": "execute_result"
    }
   ],
   "source": [
    "y_train"
   ]
  },
  {
   "cell_type": "code",
   "execution_count": 11,
   "metadata": {},
   "outputs": [],
   "source": [
    "class PloyRegression(nn.Module):\n",
    "    def __init__(self):\n",
    "        super(PloyRegression, self).__init__()\n",
    "        self.ploy = nn.Linear(3, 1)\n",
    "    \n",
    "    def forward(self, x):\n",
    "        out = self.ploy(x)\n",
    "        return out"
   ]
  },
  {
   "cell_type": "code",
   "execution_count": 12,
   "metadata": {},
   "outputs": [],
   "source": [
    "if torch.cuda.is_available():\n",
    "    model = PloyRegression().cuda()\n",
    "else:\n",
    "    model = PloyRegression()"
   ]
  },
  {
   "cell_type": "code",
   "execution_count": 13,
   "metadata": {},
   "outputs": [],
   "source": [
    "criterion = nn.MSELoss()\n",
    "optimizer = optim.SGD(model.parameters(), lr=1e-3)"
   ]
  },
  {
   "cell_type": "code",
   "execution_count": 14,
   "metadata": {},
   "outputs": [],
   "source": [
    "def train(model, X_train, y_train, criterion, optimizer):\n",
    "    epoch = 0\n",
    "    while True:\n",
    "        inputs = X_train.cuda()\n",
    "        target = y_train.cuda()\n",
    "        out = model(inputs)\n",
    "        \n",
    "        loss = criterion(out, target)\n",
    "        curr_loss = loss.data.cpu().numpy()\n",
    "        optimizer.zero_grad()\n",
    "        loss.backward()\n",
    "        optimizer.step()\n",
    "        if (epoch+1) % 100 == 0:\n",
    "            print(\"Epoch {} Loss: {:0.6}\".format(epoch+1, curr_loss))\n",
    "        if curr_loss <= 1e-3:\n",
    "            print(\"Epoch {} Loss: {:0.6}\".format(epoch+1, curr_loss))\n",
    "            break\n",
    "        epoch += 1"
   ]
  },
  {
   "cell_type": "code",
   "execution_count": 15,
   "metadata": {},
   "outputs": [
    {
     "name": "stdout",
     "output_type": "stream",
     "text": [
      "Epoch 100 Loss: 6.4274\n",
      "Epoch 200 Loss: 3.16808\n",
      "Epoch 300 Loss: 1.5856\n",
      "Epoch 400 Loss: 0.814147\n",
      "Epoch 500 Loss: 0.435351\n",
      "Epoch 600 Loss: 0.247019\n",
      "Epoch 700 Loss: 0.151384\n",
      "Epoch 800 Loss: 0.101127\n",
      "Epoch 900 Loss: 0.0733133\n",
      "Epoch 1000 Loss: 0.0567955\n",
      "Epoch 1100 Loss: 0.0461282\n",
      "Epoch 1200 Loss: 0.0386305\n",
      "Epoch 1300 Loss: 0.0329621\n",
      "Epoch 1400 Loss: 0.028437\n",
      "Epoch 1500 Loss: 0.0246899\n",
      "Epoch 1600 Loss: 0.0215155\n",
      "Epoch 1700 Loss: 0.0187894\n",
      "Epoch 1800 Loss: 0.0164297\n",
      "Epoch 1900 Loss: 0.0143776\n",
      "Epoch 2000 Loss: 0.0125881\n",
      "Epoch 2100 Loss: 0.0110251\n",
      "Epoch 2200 Loss: 0.00965858\n",
      "Epoch 2300 Loss: 0.00846292\n",
      "Epoch 2400 Loss: 0.0074164\n",
      "Epoch 2500 Loss: 0.00650018\n",
      "Epoch 2600 Loss: 0.00569784\n",
      "Epoch 2700 Loss: 0.00499493\n",
      "Epoch 2800 Loss: 0.00437918\n",
      "Epoch 2900 Loss: 0.00383962\n",
      "Epoch 3000 Loss: 0.00336676\n",
      "Epoch 3100 Loss: 0.00295233\n",
      "Epoch 3200 Loss: 0.00258909\n",
      "Epoch 3300 Loss: 0.00227062\n",
      "Epoch 3400 Loss: 0.00199143\n",
      "Epoch 3500 Loss: 0.00174667\n",
      "Epoch 3600 Loss: 0.00153208\n",
      "Epoch 3700 Loss: 0.00134385\n",
      "Epoch 3800 Loss: 0.00117881\n",
      "Epoch 3900 Loss: 0.00103407\n",
      "Epoch 3926 Loss: 0.000999451\n"
     ]
    }
   ],
   "source": [
    "train(model, X_train, y_train, criterion, optimizer)"
   ]
  },
  {
   "cell_type": "code",
   "execution_count": 16,
   "metadata": {},
   "outputs": [],
   "source": [
    "def sort_x_y(npx, npy):\n",
    "    x = npx.tolist()\n",
    "    y = npy.tolist()\n",
    "    x_y = [[x[i], y[i]] for i in range(len(x))]\n",
    "    x_y = np.sort(np.array(x_y), axis=0)\n",
    "    x_new, y_new = [], []\n",
    "    for item in x_y:\n",
    "        x_new.append(item[0])\n",
    "        y_new.append(item[1])\n",
    "    return np.array(x_new), np.array(y_new)"
   ]
  },
  {
   "cell_type": "code",
   "execution_count": 17,
   "metadata": {},
   "outputs": [
    {
     "data": {
      "text/plain": [
       "[<matplotlib.lines.Line2D at 0x7f7056a11e80>]"
      ]
     },
     "execution_count": 17,
     "metadata": {},
     "output_type": "execute_result"
    },
    {
     "data": {
      "image/png": "[encoded data removed]",
      "text/plain": [
       "<Figure size 432x288 with 1 Axes>"
      ]
     },
     "metadata": {
      "needs_background": "light"
     },
     "output_type": "display_data"
    }
   ],
   "source": [
    "model.eval()\n",
    "\n",
    "x = torch.FloatTensor(np.sort(np.linspace(-8, 8, 32)))\n",
    "x_ = make_features(x)\n",
    "y = f(x_)\n",
    "\n",
    "pred = model(x_.cuda())\n",
    "\n",
    "plt.plot(x.numpy(), y.numpy(), 'ro')\n",
    "plt.plot(x.numpy(), pred.data.cpu().numpy())"
   ]
  },
  {
   "cell_type": "code",
   "execution_count": 18,
   "metadata": {},
   "outputs": [
    {
     "data": {
      "text/plain": [
       "OrderedDict([('ploy.weight',\n",
       "              tensor([[0.4934, 2.9658, 2.4097]], device='cuda:0')),\n",
       "             ('ploy.bias', tensor([0.9418], device='cuda:0'))])"
      ]
     },
     "execution_count": 18,
     "metadata": {},
     "output_type": "execute_result"
    }
   ],
   "source": [
    "model.state_dict()"
   ]
  },
  {
   "cell_type": "code",
   "execution_count": 19,
   "metadata": {},
   "outputs": [],
   "source": [
    "# torch  默认floattensor\n",
    "# 多项式回归的时候同一个x, 最高次如果是n，则需要把一个样本变成n列。\n",
    "# x.squeeze(0)    # squeeze中的参数0、1分别代表第一、第二维度，squeeze(0)表示如果第一维度值为1，则去掉，否则不变。\n",
    "# 故b的维度(1,3),可去掉1成(3),但不可去掉3。"
   ]
  },
  {
   "cell_type": "code",
   "execution_count": null,
   "metadata": {},
   "outputs": [],
   "source": []
  }
 ],
 "metadata": {
  "kernelspec": {
   "display_name": "Python 3",
   "language": "python",
   "name": "python3"
  },
  "language_info": {
   "codemirror_mode": {
    "name": "ipython",
    "version": 3
   },
   "file_extension": ".py",
   "mimetype": "text/x-python",
   "name": "python",
   "nbconvert_exporter": "python",
   "pygments_lexer": "ipython3",
   "version": "3.6.8"
  }
 },
 "nbformat": 4,
 "nbformat_minor": 2
}
