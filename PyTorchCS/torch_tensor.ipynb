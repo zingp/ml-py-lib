{
 "cells": [
  {
   "cell_type": "code",
   "execution_count": 2,
   "metadata": {},
   "outputs": [],
   "source": [
    "import torch"
   ]
  },
  {
   "cell_type": "markdown",
   "metadata": {},
   "source": [
    "# torch tensor常用操作"
   ]
  },
  {
   "cell_type": "code",
   "execution_count": 3,
   "metadata": {},
   "outputs": [
    {
     "data": {
      "text/plain": [
       "tensor([[1., 2., 3., 4.],\n",
       "        [4., 3., 2., 1.]])"
      ]
     },
     "execution_count": 3,
     "metadata": {},
     "output_type": "execute_result"
    }
   ],
   "source": [
    "x = torch.tensor([[1,2,3,4],\n",
    "                  [4,3,2,1]], \n",
    "                 dtype=torch.float32)\n",
    "x"
   ]
  },
  {
   "cell_type": "markdown",
   "metadata": {},
   "source": [
    "## x.argmax(dim=n) \n",
    "- 按照维度，取最大值的索引"
   ]
  },
  {
   "cell_type": "code",
   "execution_count": 4,
   "metadata": {},
   "outputs": [
    {
     "data": {
      "text/plain": [
       "tensor([3, 0])"
      ]
     },
     "execution_count": 4,
     "metadata": {},
     "output_type": "execute_result"
    }
   ],
   "source": [
    "x.argmax(dim=1)  # 按照列，实际上就是行"
   ]
  },
  {
   "cell_type": "markdown",
   "metadata": {},
   "source": [
    "## x.softmax(dim=n)\n",
    "- 相加得1的概率分布"
   ]
  },
  {
   "cell_type": "code",
   "execution_count": 5,
   "metadata": {},
   "outputs": [
    {
     "data": {
      "text/plain": [
       "tensor([[0.0321, 0.0871, 0.2369, 0.6439],\n",
       "        [0.6439, 0.2369, 0.0871, 0.0321]])"
      ]
     },
     "execution_count": 5,
     "metadata": {},
     "output_type": "execute_result"
    }
   ],
   "source": [
    "x.softmax(dim=1)"
   ]
  },
  {
   "cell_type": "code",
   "execution_count": 6,
   "metadata": {},
   "outputs": [
    {
     "data": {
      "text/plain": [
       "tensor([[ 0.2823,  0.0590,  0.5251, -0.8787]])"
      ]
     },
     "execution_count": 6,
     "metadata": {},
     "output_type": "execute_result"
    }
   ],
   "source": [
    "y = torch.randn(1,4)\n",
    "y"
   ]
  },
  {
   "cell_type": "markdown",
   "metadata": {},
   "source": [
    "## torch.cat((x, y), dim=0)\n",
    "- 对数据沿着某一维度进行拼接。\n",
    "- cat后数据的总维数不变。\n",
    "- 比如下面代码对两个2维tensor（分别为2*4,1*4）进行拼接，拼接完后变为3*4还是2维的tensor。"
   ]
  },
  {
   "cell_type": "code",
   "execution_count": 7,
   "metadata": {},
   "outputs": [
    {
     "data": {
      "text/plain": [
       "tensor([[ 1.0000,  2.0000,  3.0000,  4.0000],\n",
       "        [ 4.0000,  3.0000,  2.0000,  1.0000],\n",
       "        [ 0.2823,  0.0590,  0.5251, -0.8787]])"
      ]
     },
     "execution_count": 7,
     "metadata": {},
     "output_type": "execute_result"
    }
   ],
   "source": [
    "torch.cat((x, y), dim=0)  # 合并，其余维度相同"
   ]
  },
  {
   "cell_type": "markdown",
   "metadata": {},
   "source": [
    "## torch.stack() 增加新的维度进行堆叠\n",
    "- stack则会增加新的维度。\n",
    "- 如对两个1*2维的tensor在第0个维度上stack，则会变为2*1*2的tensor；在第1个维度上stack，则会变为1*2*2的tensor。"
   ]
  },
  {
   "cell_type": "code",
   "execution_count": 8,
   "metadata": {},
   "outputs": [
    {
     "data": {
      "text/plain": [
       "tensor([[1.8498, 0.7072]])"
      ]
     },
     "execution_count": 8,
     "metadata": {},
     "output_type": "execute_result"
    }
   ],
   "source": [
    "a = torch.randn(1,2)\n",
    "a"
   ]
  },
  {
   "cell_type": "code",
   "execution_count": 9,
   "metadata": {},
   "outputs": [
    {
     "data": {
      "text/plain": [
       "tensor([[-0.1119,  0.3021]])"
      ]
     },
     "execution_count": 9,
     "metadata": {},
     "output_type": "execute_result"
    }
   ],
   "source": [
    "b = torch.randn(1,2)\n",
    "b"
   ]
  },
  {
   "cell_type": "code",
   "execution_count": 10,
   "metadata": {},
   "outputs": [
    {
     "data": {
      "text/plain": [
       "tensor([[[ 1.8498,  0.7072]],\n",
       "\n",
       "        [[-0.1119,  0.3021]]])"
      ]
     },
     "execution_count": 10,
     "metadata": {},
     "output_type": "execute_result"
    }
   ],
   "source": [
    "c = torch.stack((a, b), dim=0)\n",
    "c"
   ]
  },
  {
   "cell_type": "code",
   "execution_count": 11,
   "metadata": {},
   "outputs": [
    {
     "data": {
      "text/plain": [
       "torch.Size([2, 1, 2])"
      ]
     },
     "execution_count": 11,
     "metadata": {},
     "output_type": "execute_result"
    }
   ],
   "source": [
    "c.size()"
   ]
  },
  {
   "cell_type": "code",
   "execution_count": 12,
   "metadata": {},
   "outputs": [
    {
     "data": {
      "text/plain": [
       "tensor([[[ 1.8498,  0.7072],\n",
       "         [-0.1119,  0.3021]]])"
      ]
     },
     "execution_count": 12,
     "metadata": {},
     "output_type": "execute_result"
    }
   ],
   "source": [
    "d = torch.stack((a, b), dim=1)\n",
    "d"
   ]
  },
  {
   "cell_type": "markdown",
   "metadata": {},
   "source": [
    "## transpose 交换维度\n",
    "- 维度互换，只能两个维度"
   ]
  },
  {
   "cell_type": "code",
   "execution_count": 13,
   "metadata": {},
   "outputs": [
    {
     "data": {
      "text/plain": [
       "tensor([[1., 2., 3., 4.],\n",
       "        [4., 3., 2., 1.]])"
      ]
     },
     "execution_count": 13,
     "metadata": {},
     "output_type": "execute_result"
    }
   ],
   "source": [
    "x"
   ]
  },
  {
   "cell_type": "code",
   "execution_count": 14,
   "metadata": {},
   "outputs": [
    {
     "data": {
      "text/plain": [
       "tensor([[1., 4.],\n",
       "        [2., 3.],\n",
       "        [3., 2.],\n",
       "        [4., 1.]])"
      ]
     },
     "execution_count": 14,
     "metadata": {},
     "output_type": "execute_result"
    }
   ],
   "source": [
    "x.transpose(0,1)"
   ]
  },
  {
   "cell_type": "code",
   "execution_count": 15,
   "metadata": {},
   "outputs": [
    {
     "data": {
      "text/plain": [
       "tensor([[1., 4.],\n",
       "        [2., 3.],\n",
       "        [3., 2.],\n",
       "        [4., 1.]])"
      ]
     },
     "execution_count": 15,
     "metadata": {},
     "output_type": "execute_result"
    }
   ],
   "source": [
    "x.transpose(1,0)"
   ]
  },
  {
   "cell_type": "code",
   "execution_count": 16,
   "metadata": {},
   "outputs": [
    {
     "data": {
      "text/plain": [
       "tensor([[[ 0.4872,  0.5975, -0.8057,  0.3031, -1.0987],\n",
       "         [-1.0421,  0.6513, -0.7745,  0.1754,  0.0581],\n",
       "         [-0.2965,  0.4918,  2.1815, -0.9391, -1.8107]],\n",
       "\n",
       "        [[-0.3925, -0.4663, -0.6166,  0.7119,  1.1318],\n",
       "         [ 0.0022,  0.2829,  0.1346, -0.1836, -0.9966],\n",
       "         [ 0.8951, -0.8710,  0.9616, -0.0181, -0.4105]]])"
      ]
     },
     "execution_count": 16,
     "metadata": {},
     "output_type": "execute_result"
    }
   ],
   "source": [
    "x = torch.randn(2,3,5)\n",
    "x"
   ]
  },
  {
   "cell_type": "code",
   "execution_count": 17,
   "metadata": {},
   "outputs": [
    {
     "data": {
      "text/plain": [
       "tensor([[[ 0.4872, -1.0421, -0.2965],\n",
       "         [ 0.5975,  0.6513,  0.4918],\n",
       "         [-0.8057, -0.7745,  2.1815],\n",
       "         [ 0.3031,  0.1754, -0.9391],\n",
       "         [-1.0987,  0.0581, -1.8107]],\n",
       "\n",
       "        [[-0.3925,  0.0022,  0.8951],\n",
       "         [-0.4663,  0.2829, -0.8710],\n",
       "         [-0.6166,  0.1346,  0.9616],\n",
       "         [ 0.7119, -0.1836, -0.0181],\n",
       "         [ 1.1318, -0.9966, -0.4105]]])"
      ]
     },
     "execution_count": 17,
     "metadata": {},
     "output_type": "execute_result"
    }
   ],
   "source": [
    "x.transpose(1,2)"
   ]
  },
  {
   "cell_type": "code",
   "execution_count": 18,
   "metadata": {},
   "outputs": [
    {
     "data": {
      "text/plain": [
       "torch.Size([2, 5, 3])"
      ]
     },
     "execution_count": 18,
     "metadata": {},
     "output_type": "execute_result"
    }
   ],
   "source": [
    "x.transpose(1,2).size()"
   ]
  },
  {
   "cell_type": "markdown",
   "metadata": {},
   "source": [
    "## x.permute()\n",
    "- 适合多维数据，更灵活的transpose\n",
    "- permute是更灵活的transpose，可以灵活的对原数据的维度进行调换，而数据本身不变。"
   ]
  },
  {
   "cell_type": "code",
   "execution_count": 19,
   "metadata": {},
   "outputs": [
    {
     "data": {
      "text/plain": [
       "tensor([[[ 1.8330, -1.4699,  0.2724, -1.3835,  1.7805],\n",
       "         [ 0.9402, -0.5081,  1.7123,  0.4500,  1.5685],\n",
       "         [ 0.2564, -0.5939, -0.4169,  0.1397,  1.5533]],\n",
       "\n",
       "        [[ 0.3046, -0.6120,  1.9476,  1.0779, -0.2214],\n",
       "         [ 2.3662, -0.1200,  0.5632,  2.2650, -0.0854],\n",
       "         [-0.4841,  0.6712,  0.8351, -0.8841,  1.8521]]])"
      ]
     },
     "execution_count": 19,
     "metadata": {},
     "output_type": "execute_result"
    }
   ],
   "source": [
    "x = torch.randn(2,3,5)\n",
    "x"
   ]
  },
  {
   "cell_type": "code",
   "execution_count": 20,
   "metadata": {},
   "outputs": [
    {
     "data": {
      "text/plain": [
       "torch.Size([3, 5, 2])"
      ]
     },
     "execution_count": 20,
     "metadata": {},
     "output_type": "execute_result"
    }
   ],
   "source": [
    "y = x.permute(1,2,0)\n",
    "y.size()"
   ]
  },
  {
   "cell_type": "code",
   "execution_count": 21,
   "metadata": {},
   "outputs": [
    {
     "data": {
      "text/plain": [
       "tensor([[[ 1.8330,  0.3046],\n",
       "         [-1.4699, -0.6120],\n",
       "         [ 0.2724,  1.9476],\n",
       "         [-1.3835,  1.0779],\n",
       "         [ 1.7805, -0.2214]],\n",
       "\n",
       "        [[ 0.9402,  2.3662],\n",
       "         [-0.5081, -0.1200],\n",
       "         [ 1.7123,  0.5632],\n",
       "         [ 0.4500,  2.2650],\n",
       "         [ 1.5685, -0.0854]],\n",
       "\n",
       "        [[ 0.2564, -0.4841],\n",
       "         [-0.5939,  0.6712],\n",
       "         [-0.4169,  0.8351],\n",
       "         [ 0.1397, -0.8841],\n",
       "         [ 1.5533,  1.8521]]])"
      ]
     },
     "execution_count": 21,
     "metadata": {},
     "output_type": "execute_result"
    }
   ],
   "source": [
    "y"
   ]
  },
  {
   "cell_type": "markdown",
   "metadata": {},
   "source": [
    "## x.reshape()\n",
    "- 数据不变，改变tensor的形状"
   ]
  },
  {
   "cell_type": "code",
   "execution_count": 22,
   "metadata": {},
   "outputs": [
    {
     "data": {
      "text/plain": [
       "torch.Size([2, 3, 5])"
      ]
     },
     "execution_count": 22,
     "metadata": {},
     "output_type": "execute_result"
    }
   ],
   "source": [
    "x.shape"
   ]
  },
  {
   "cell_type": "code",
   "execution_count": 23,
   "metadata": {},
   "outputs": [
    {
     "data": {
      "text/plain": [
       "tensor([[[ 1.8330, -1.4699,  0.2724, -1.3835,  1.7805,  0.9402, -0.5081,\n",
       "           1.7123,  0.4500,  1.5685]],\n",
       "\n",
       "        [[ 0.2564, -0.5939, -0.4169,  0.1397,  1.5533,  0.3046, -0.6120,\n",
       "           1.9476,  1.0779, -0.2214]],\n",
       "\n",
       "        [[ 2.3662, -0.1200,  0.5632,  2.2650, -0.0854, -0.4841,  0.6712,\n",
       "           0.8351, -0.8841,  1.8521]]])"
      ]
     },
     "execution_count": 23,
     "metadata": {},
     "output_type": "execute_result"
    }
   ],
   "source": [
    "x.reshape(3,1,10)"
   ]
  },
  {
   "cell_type": "code",
   "execution_count": 24,
   "metadata": {},
   "outputs": [
    {
     "data": {
      "text/plain": [
       "tensor([[ 1.8330, -1.4699,  0.2724, -1.3835,  1.7805,  0.9402],\n",
       "        [-0.5081,  1.7123,  0.4500,  1.5685,  0.2564, -0.5939],\n",
       "        [-0.4169,  0.1397,  1.5533,  0.3046, -0.6120,  1.9476],\n",
       "        [ 1.0779, -0.2214,  2.3662, -0.1200,  0.5632,  2.2650],\n",
       "        [-0.0854, -0.4841,  0.6712,  0.8351, -0.8841,  1.8521]])"
      ]
     },
     "execution_count": 24,
     "metadata": {},
     "output_type": "execute_result"
    }
   ],
   "source": [
    "x.reshape(5,6)"
   ]
  },
  {
   "cell_type": "markdown",
   "metadata": {},
   "source": [
    "## x.view()\n",
    "- 改变形状"
   ]
  },
  {
   "cell_type": "code",
   "execution_count": 25,
   "metadata": {},
   "outputs": [
    {
     "data": {
      "text/plain": [
       "tensor([[[ 1.8330, -1.4699,  0.2724],\n",
       "         [-1.3835,  1.7805,  0.9402]],\n",
       "\n",
       "        [[-0.5081,  1.7123,  0.4500],\n",
       "         [ 1.5685,  0.2564, -0.5939]],\n",
       "\n",
       "        [[-0.4169,  0.1397,  1.5533],\n",
       "         [ 0.3046, -0.6120,  1.9476]],\n",
       "\n",
       "        [[ 1.0779, -0.2214,  2.3662],\n",
       "         [-0.1200,  0.5632,  2.2650]],\n",
       "\n",
       "        [[-0.0854, -0.4841,  0.6712],\n",
       "         [ 0.8351, -0.8841,  1.8521]]])"
      ]
     },
     "execution_count": 25,
     "metadata": {},
     "output_type": "execute_result"
    }
   ],
   "source": [
    "x.view(-1, 2, 3)"
   ]
  },
  {
   "cell_type": "code",
   "execution_count": 26,
   "metadata": {},
   "outputs": [
    {
     "data": {
      "text/plain": [
       "tensor([[ 1.8330, -1.4699,  0.2724, -1.3835,  1.7805,  0.9402, -0.5081,  1.7123,\n",
       "          0.4500,  1.5685,  0.2564, -0.5939, -0.4169,  0.1397,  1.5533],\n",
       "        [ 0.3046, -0.6120,  1.9476,  1.0779, -0.2214,  2.3662, -0.1200,  0.5632,\n",
       "          2.2650, -0.0854, -0.4841,  0.6712,  0.8351, -0.8841,  1.8521]])"
      ]
     },
     "execution_count": 26,
     "metadata": {},
     "output_type": "execute_result"
    }
   ],
   "source": [
    "x.view(-1, 15)"
   ]
  },
  {
   "cell_type": "code",
   "execution_count": 27,
   "metadata": {},
   "outputs": [
    {
     "data": {
      "text/plain": [
       "tensor([[[ 1.8330, -1.4699,  0.2724, -1.3835,  1.7805],\n",
       "         [ 0.9402, -0.5081,  1.7123,  0.4500,  1.5685],\n",
       "         [ 0.2564, -0.5939, -0.4169,  0.1397,  1.5533]],\n",
       "\n",
       "        [[ 0.3046, -0.6120,  1.9476,  1.0779, -0.2214],\n",
       "         [ 2.3662, -0.1200,  0.5632,  2.2650, -0.0854],\n",
       "         [-0.4841,  0.6712,  0.8351, -0.8841,  1.8521]]])"
      ]
     },
     "execution_count": 27,
     "metadata": {},
     "output_type": "execute_result"
    }
   ],
   "source": [
    "x"
   ]
  },
  {
   "cell_type": "markdown",
   "metadata": {},
   "source": [
    "## x.unsqueeze/squeeze\n",
    "- squeeze(dim_n)压缩，即去掉元素数量为1的dim_n维度。\n",
    "- 同理unsqueeze(dim_n)，增加dim_n维度，元素数量为1。"
   ]
  },
  {
   "cell_type": "code",
   "execution_count": 28,
   "metadata": {},
   "outputs": [
    {
     "data": {
      "text/plain": [
       "torch.Size([5, 1, 3])"
      ]
     },
     "execution_count": 28,
     "metadata": {},
     "output_type": "execute_result"
    }
   ],
   "source": [
    "x = torch.randn(5,1,3)\n",
    "x.size()"
   ]
  },
  {
   "cell_type": "code",
   "execution_count": 29,
   "metadata": {},
   "outputs": [
    {
     "data": {
      "text/plain": [
       "torch.Size([5, 3])"
      ]
     },
     "execution_count": 29,
     "metadata": {},
     "output_type": "execute_result"
    }
   ],
   "source": [
    "x.squeeze(dim=1).size()"
   ]
  },
  {
   "cell_type": "code",
   "execution_count": 30,
   "metadata": {},
   "outputs": [
    {
     "data": {
      "text/plain": [
       "torch.Size([1, 5, 1, 3])"
      ]
     },
     "execution_count": 30,
     "metadata": {},
     "output_type": "execute_result"
    }
   ],
   "source": [
    "# squeeze 挤压\n",
    "x.unsqueeze(dim=0).size()"
   ]
  },
  {
   "cell_type": "code",
   "execution_count": null,
   "metadata": {},
   "outputs": [],
   "source": []
  }
 ],
 "metadata": {
  "kernelspec": {
   "display_name": "Python 3",
   "language": "python",
   "name": "python3"
  },
  "language_info": {
   "codemirror_mode": {
    "name": "ipython",
    "version": 3
   },
   "file_extension": ".py",
   "mimetype": "text/x-python",
   "name": "python",
   "nbconvert_exporter": "python",
   "pygments_lexer": "ipython3",
   "version": "3.6.9"
  }
 },
 "nbformat": 4,
 "nbformat_minor": 2
}
