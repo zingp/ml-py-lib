{
 "cells": [
  {
   "cell_type": "code",
   "execution_count": 1,
   "metadata": {},
   "outputs": [],
   "source": [
    "import numpy as np"
   ]
  },
  {
   "cell_type": "code",
   "execution_count": 2,
   "metadata": {},
   "outputs": [],
   "source": [
    "p = 0.5"
   ]
  },
  {
   "cell_type": "code",
   "execution_count": 3,
   "metadata": {},
   "outputs": [
    {
     "data": {
      "text/plain": [
       "array([[-0.1527091 , -1.48465321, -0.81871301, -0.21595529,  0.07761352],\n",
       "       [ 0.52384147,  0.54482058, -0.11061767,  0.47315143,  0.38518605],\n",
       "       [ 0.82399297, -0.26839995, -1.77223741,  0.27055547,  0.32859292],\n",
       "       [-0.8757897 ,  1.19174568, -0.21235382,  0.49061418,  1.55863396]])"
      ]
     },
     "execution_count": 3,
     "metadata": {},
     "output_type": "execute_result"
    }
   ],
   "source": [
    "X = np.random.randn(4,5)\n",
    "X "
   ]
  },
  {
   "cell_type": "code",
   "execution_count": 4,
   "metadata": {},
   "outputs": [
    {
     "data": {
      "text/plain": [
       "array([[ 1.66505474, -0.21536391, -0.59714192, -0.2025333 ],\n",
       "       [-2.084639  ,  0.49138969,  2.17601159, -1.11766097],\n",
       "       [ 0.5598689 , -0.93375321,  0.6060111 ,  0.96968898],\n",
       "       [ 0.6201963 ,  0.63180377,  0.54716499, -0.8969039 ],\n",
       "       [-0.78136411,  1.26312214, -0.22784386, -1.14488839],\n",
       "       [ 0.56132686, -0.69573653,  0.36827275, -1.1377372 ],\n",
       "       [-0.35862874,  0.30966537,  1.03198642,  0.66531483],\n",
       "       [ 1.83092648,  0.62747046,  0.34122951,  0.9328817 ],\n",
       "       [ 0.71389179,  0.71534773,  0.16125895,  0.64998715],\n",
       "       [ 0.01399478, -1.42493915,  0.1818278 , -0.7690498 ]])"
      ]
     },
     "execution_count": 4,
     "metadata": {},
     "output_type": "execute_result"
    }
   ],
   "source": [
    "W1 = np.random.randn(10,4)\n",
    "W1"
   ]
  },
  {
   "cell_type": "code",
   "execution_count": 5,
   "metadata": {},
   "outputs": [
    {
     "data": {
      "text/plain": [
       "array([[-0.68174973, -2.67045887, -0.23809294, -0.72240284, -0.4656163 ],\n",
       "       [ 3.34760786,  1.44667617, -1.96670488,  0.72308207, -0.99952205],\n",
       "       [-0.92453046, -0.34696981, -1.63499507,  0.07698947,  1.39430582],\n",
       "       [ 1.4726147 , -1.79229714, -1.35689674, -0.12699111, -0.92665272],\n",
       "       [ 1.59593689,  0.54496715,  1.14690418,  0.14304488, -1.43343719],\n",
       "       [ 0.84969731, -2.66716508, -0.79366876, -0.90896204, -1.87672547],\n",
       "       [ 0.48465511,  1.21705234, -1.71084754,  0.82958885,  1.46753006],\n",
       "       [-0.48674155, -1.3562603 , -2.37125334,  0.45149679,  1.9499442 ],\n",
       "       [-0.17066478,  0.06119191, -1.08741898,  0.5468215 ,  1.39703021],\n",
       "       [ 0.07477137, -1.76242791, -0.01276563, -1.00534648, -1.6867003 ]])"
      ]
     },
     "execution_count": 5,
     "metadata": {},
     "output_type": "execute_result"
    }
   ],
   "source": [
    "x = np.dot(W1, X)\n",
    "x"
   ]
  },
  {
   "cell_type": "code",
   "execution_count": 6,
   "metadata": {},
   "outputs": [
    {
     "data": {
      "text/plain": [
       "(10, 5)"
      ]
     },
     "execution_count": 6,
     "metadata": {},
     "output_type": "execute_result"
    }
   ],
   "source": [
    "x.shape"
   ]
  },
  {
   "cell_type": "code",
   "execution_count": 7,
   "metadata": {},
   "outputs": [
    {
     "data": {
      "text/plain": [
       "array([[0.        , 0.        , 0.        , 0.        , 0.        ],\n",
       "       [3.34760786, 1.44667617, 0.        , 0.72308207, 0.        ],\n",
       "       [0.        , 0.        , 0.        , 0.07698947, 1.39430582],\n",
       "       [1.4726147 , 0.        , 0.        , 0.        , 0.        ],\n",
       "       [1.59593689, 0.54496715, 1.14690418, 0.14304488, 0.        ],\n",
       "       [0.84969731, 0.        , 0.        , 0.        , 0.        ],\n",
       "       [0.48465511, 1.21705234, 0.        , 0.82958885, 1.46753006],\n",
       "       [0.        , 0.        , 0.        , 0.45149679, 1.9499442 ],\n",
       "       [0.        , 0.06119191, 0.        , 0.5468215 , 1.39703021],\n",
       "       [0.07477137, 0.        , 0.        , 0.        , 0.        ]])"
      ]
     },
     "execution_count": 7,
     "metadata": {},
     "output_type": "execute_result"
    }
   ],
   "source": [
    "z = np.maximum(0, x)\n",
    "z"
   ]
  },
  {
   "cell_type": "code",
   "execution_count": 8,
   "metadata": {},
   "outputs": [
    {
     "data": {
      "text/plain": [
       "array([[False,  True,  True, False,  True],\n",
       "       [ True,  True,  True,  True, False],\n",
       "       [ True, False, False,  True,  True],\n",
       "       [ True,  True,  True,  True,  True],\n",
       "       [ True,  True, False, False,  True],\n",
       "       [False, False,  True, False, False],\n",
       "       [ True,  True,  True, False, False],\n",
       "       [False, False,  True,  True, False],\n",
       "       [ True,  True,  True, False, False],\n",
       "       [False, False, False,  True,  True]])"
      ]
     },
     "execution_count": 8,
     "metadata": {},
     "output_type": "execute_result"
    }
   ],
   "source": [
    "u1 = np.random.rand(*z.shape)\n",
    "drop = u1 < p\n",
    "drop"
   ]
  },
  {
   "cell_type": "code",
   "execution_count": 9,
   "metadata": {},
   "outputs": [
    {
     "data": {
      "text/plain": [
       "array([[0.        , 0.        , 0.        , 0.        , 0.        ],\n",
       "       [3.34760786, 1.44667617, 0.        , 0.72308207, 0.        ],\n",
       "       [0.        , 0.        , 0.        , 0.07698947, 1.39430582],\n",
       "       [1.4726147 , 0.        , 0.        , 0.        , 0.        ],\n",
       "       [1.59593689, 0.54496715, 0.        , 0.        , 0.        ],\n",
       "       [0.        , 0.        , 0.        , 0.        , 0.        ],\n",
       "       [0.48465511, 1.21705234, 0.        , 0.        , 0.        ],\n",
       "       [0.        , 0.        , 0.        , 0.45149679, 0.        ],\n",
       "       [0.        , 0.06119191, 0.        , 0.        , 0.        ],\n",
       "       [0.        , 0.        , 0.        , 0.        , 0.        ]])"
      ]
     },
     "execution_count": 9,
     "metadata": {},
     "output_type": "execute_result"
    }
   ],
   "source": [
    "z*drop"
   ]
  },
  {
   "cell_type": "code",
   "execution_count": 10,
   "metadata": {},
   "outputs": [],
   "source": [
    "def train_step(X):\n",
    "    \"\"\" X contains the data \"\"\"\n",
    "  \n",
    "    # 三层神经网络前向传播为例\n",
    "    H1 = np.maximum(0, np.dot(W1, X) + b1)\n",
    "    U1 = np.random.rand(*H1.shape) < p   # 随机隐藏p\n",
    "    H1 *= U1 # drop!\n",
    "    H2 = np.maximum(0, np.dot(W2, H1) + b2)\n",
    "    U2 = np.random.rand(*H2.shape) < p # second dropout mask\n",
    "    H2 *= U2 # drop!\n",
    "    out = np.dot(W3, H2) + b3\n",
    "    \n",
    "def predict(X):\n",
    "    # ensembled forward pass\n",
    "    H1 = np.maximum(0, np.dot(W1, X) + b1) * p    # NOTE: scale the activations\n",
    "    H2 = np.maximum(0, np.dot(W2, H1) + b2) * p   # NOTE: scale the activations\n",
    "    out = np.dot(W3, H2) + b3"
   ]
  },
  {
   "cell_type": "code",
   "execution_count": null,
   "metadata": {},
   "outputs": [],
   "source": []
  }
 ],
 "metadata": {
  "kernelspec": {
   "display_name": "Python 3",
   "language": "python",
   "name": "python3"
  },
  "language_info": {
   "codemirror_mode": {
    "name": "ipython",
    "version": 3
   },
   "file_extension": ".py",
   "mimetype": "text/x-python",
   "name": "python",
   "nbconvert_exporter": "python",
   "pygments_lexer": "ipython3",
   "version": "3.6.8"
  }
 },
 "nbformat": 4,
 "nbformat_minor": 2
}
