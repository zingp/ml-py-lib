{
 "cells": [
  {
   "cell_type": "code",
   "execution_count": 1,
   "metadata": {},
   "outputs": [],
   "source": [
    "import tensorflow as tf\n",
    "import random"
   ]
  },
  {
   "cell_type": "code",
   "execution_count": 2,
   "metadata": {},
   "outputs": [
    {
     "data": {
      "text/plain": [
       "'1.12.0'"
      ]
     },
     "execution_count": 2,
     "metadata": {},
     "output_type": "execute_result"
    }
   ],
   "source": [
    "tf.__version__"
   ]
  },
  {
   "cell_type": "code",
   "execution_count": 3,
   "metadata": {},
   "outputs": [],
   "source": [
    "summary_writer = tf.summary.FileWriter('./log')  # 指定一个文件用来保存图。\n",
    "# 格式：tf.summary.FileWritter(path,sess.graph)\n",
    "# 可以调用其add_summary（）方法将训练过程数据保存在filewriter指定的文件中"
   ]
  },
  {
   "cell_type": "code",
   "execution_count": 4,
   "metadata": {},
   "outputs": [],
   "source": [
    "for step in range(10000):\n",
    "    loss = 10000 - step / 2 + random.randint(1,30)\n",
    "    loss_sum = tf.Summary()\n",
    "    tag_name = 'running_avg_loss/decay=%s' % (\"test2\")\n",
    "    loss_sum.value.add(tag=tag_name, simple_value=loss)\n",
    "    summary_writer.add_summary(loss_sum, step)  # 第一个参数必须是`tf.Session.run` or`tf.Tensor.eval`或者`tf.Summary` \n",
    "    if step % 100 == 0:\n",
    "        summary_writer.flush()"
   ]
  }
 ],
 "metadata": {
  "kernelspec": {
   "display_name": "Python 3",
   "language": "python",
   "name": "python3"
  },
  "language_info": {
   "codemirror_mode": {
    "name": "ipython",
    "version": 3
   },
   "file_extension": ".py",
   "mimetype": "text/x-python",
   "name": "python",
   "nbconvert_exporter": "python",
   "pygments_lexer": "ipython3",
   "version": "3.6.8"
  }
 },
 "nbformat": 4,
 "nbformat_minor": 2
}
