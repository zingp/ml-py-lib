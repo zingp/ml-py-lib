{
 "cells": [
  {
   "cell_type": "markdown",
   "metadata": {},
   "source": [
    "## 拟合一个线性模型"
   ]
  },
  {
   "cell_type": "code",
   "execution_count": 1,
   "metadata": {},
   "outputs": [],
   "source": [
    "import tensorflow as tf\n",
    "import numpy as np"
   ]
  },
  {
   "cell_type": "code",
   "execution_count": 2,
   "metadata": {},
   "outputs": [
    {
     "data": {
      "text/plain": [
       "'1.12.0'"
      ]
     },
     "execution_count": 2,
     "metadata": {},
     "output_type": "execute_result"
    }
   ],
   "source": [
    "tf.__version__"
   ]
  },
  {
   "cell_type": "code",
   "execution_count": 3,
   "metadata": {},
   "outputs": [
    {
     "name": "stdout",
     "output_type": "stream",
     "text": [
      "[[0.57971233 0.6922096  0.1862811  0.08015992 0.35493222 0.4533392\n",
      "  0.30138177 0.86929256 0.24062529 0.73986554 0.12306147 0.4170585\n",
      "  0.458017   0.18537052 0.43813488 0.32337582 0.13075176 0.99533564\n",
      "  0.2485816  0.21569179 0.8824464  0.7476094  0.19890445 0.58330977\n",
      "  0.2845167  0.33731416 0.805028   0.2911561  0.772349   0.21166809\n",
      "  0.6303933  0.43204618 0.2580785  0.10473256 0.11568049 0.51444876\n",
      "  0.04711734 0.2218198  0.47130364 0.20331097 0.8370063  0.87278444\n",
      "  0.5159315  0.6894737  0.65955335 0.7849121  0.71792483 0.88950175\n",
      "  0.79269344 0.05527392 0.17011935 0.09333815 0.80044436 0.4726555\n",
      "  0.17023045 0.496394   0.88364995 0.494009   0.95980906 0.03053826\n",
      "  0.8335576  0.94249684 0.2912182  0.17577913 0.27101573 0.12830995\n",
      "  0.36021486 0.5309375  0.7657706  0.8277268  0.1120047  0.73388976\n",
      "  0.7685977  0.05426965 0.06542509 0.6277729  0.4110911  0.07423472\n",
      "  0.6961466  0.6614386  0.35282713 0.21275187 0.81180084 0.87481844\n",
      "  0.66012114 0.1100129  0.15025774 0.49090236 0.9453715  0.03649108\n",
      "  0.43479195 0.39904022 0.12281513 0.9334692  0.8062863  0.47346932\n",
      "  0.4156892  0.5842758  0.94463074 0.77556044]\n",
      " [0.57223463 0.09566136 0.83538705 0.87434876 0.44191328 0.4178005\n",
      "  0.01704082 0.08375887 0.2520028  0.131799   0.9687782  0.39689404\n",
      "  0.1836245  0.7713386  0.20820509 0.85978174 0.50340694 0.09737775\n",
      "  0.98739636 0.9677738  0.9550379  0.7547027  0.19895695 0.40732574\n",
      "  0.7285809  0.781999   0.85900086 0.3333077  0.395374   0.91590136\n",
      "  0.6502971  0.12183846 0.06356859 0.8719387  0.9023916  0.22138298\n",
      "  0.6391168  0.9965461  0.39151442 0.08659366 0.36500087 0.06104954\n",
      "  0.28203744 0.3231834  0.15172905 0.5796654  0.3552577  0.00883677\n",
      "  0.74011576 0.12045926 0.53366894 0.44988197 0.85477847 0.48267937\n",
      "  0.7686129  0.56010234 0.44896525 0.99491465 0.46753356 0.5357212\n",
      "  0.08189426 0.8343932  0.28937504 0.550517   0.5125579  0.25029576\n",
      "  0.2892775  0.29429343 0.25306314 0.66804796 0.6665587  0.49148113\n",
      "  0.26198328 0.36480057 0.32181957 0.34514818 0.06761269 0.64130867\n",
      "  0.6335783  0.9561397  0.9397878  0.5067972  0.841534   0.9848221\n",
      "  0.5199106  0.73184496 0.98994887 0.69583374 0.7006388  0.06889603\n",
      "  0.31669548 0.88158697 0.03296018 0.16320994 0.33711505 0.30010295\n",
      "  0.25862962 0.8611638  0.5639423  0.2463284 ]]\n"
     ]
    }
   ],
   "source": [
    "# 使用 NumPy 生成假数据(phony data), 总共 100 个点.\n",
    "x_data = np.float32(np.random.rand(2, 100)) # 随机输入\n",
    "y_data = np.dot([0.100, 0.200], x_data) + 0.300\n",
    "print(x_data)"
   ]
  },
  {
   "cell_type": "code",
   "execution_count": 4,
   "metadata": {},
   "outputs": [],
   "source": [
    "# 构造一个线性模型 \n",
    "with tf.device(\"/gpu:0\"):\n",
    "    b = tf.Variable(tf.zeros([1]))\n",
    "    W = tf.Variable(tf.random_uniform([1, 2], -1.0, 1.0))\n",
    "    y = tf.matmul(W, x_data) + b\n",
    "\n",
    "    # 最小化方差\n",
    "    loss = tf.reduce_mean(tf.square(y - y_data))\n",
    "    optimizer = tf.train.GradientDescentOptimizer(0.5)\n",
    "    train = optimizer.minimize(loss)\n",
    "\n",
    "    # 初始化变量\n",
    "    # init = tf.initialize_all_variables()\n",
    "    init = tf.global_variables_initializer()"
   ]
  },
  {
   "cell_type": "markdown",
   "metadata": {},
   "source": [
    "## 运行会话的第一种方式，用上下文管理（推荐）"
   ]
  },
  {
   "cell_type": "code",
   "execution_count": 5,
   "metadata": {},
   "outputs": [
    {
     "name": "stdout",
     "output_type": "stream",
     "text": [
      "Step:0 | W:[[0.2649486  0.05522385]] b:[0.60009617]| Loss:0.09838163107633591\n",
      "Step:20 | W:[[0.08773954 0.14677931]] b:[0.33402646]| Loss:0.00024953047977760434\n",
      "Step:40 | W:[[0.09083804 0.18582936]] b:[0.31199697]| Loss:2.220932401542086e-05\n",
      "Step:60 | W:[[0.09607617 0.19558087]] b:[0.3042725]| Loss:2.6739771783468314e-06\n",
      "Step:80 | W:[[0.09850787 0.19850503]] b:[0.30152738]| Loss:3.401148660486797e-07\n",
      "Step:100 | W:[[0.09945375 0.19947621]] b:[0.30054682]| Loss:4.361079319892269e-08\n"
     ]
    }
   ],
   "source": [
    "# allow_soft_placement=True 没有GPU的话在CPU上运行\n",
    "# tf 默认会一次性占用所有内存\n",
    "# 动态分配内存的方法\n",
    "config = tf.ConfigProto(allow_soft_placement=True, log_device_placement=True)\n",
    "# config.gpu_options.allow_growth = True #  按需分配显存\n",
    "## 按照固定的比例分配。\n",
    "## 以下代码会占用所有可使用的GPU的40%显存\n",
    "config.gpu_options.per_process_gpu_memory_fraction = 0.4\n",
    "\n",
    "with tf.Session(config=config) as sess:\n",
    "    init_op = tf.global_variables_initializer()\n",
    "    sess.run(init_op)\n",
    "    for step in range(0, 101):\n",
    "        sess.run(train)\n",
    "        if step % 20 == 0:\n",
    "            print(\"Step:{} | W:{} b:{}| Loss:{}\".format(step, sess.run(W), sess.run(b), sess.run(loss)))      "
   ]
  },
  {
   "cell_type": "markdown",
   "metadata": {},
   "source": [
    "## 我的设备上的GPU占用果然按需分配\n",
    "```\n",
    "gz_6237_gpu             Sat Feb 15 22:56:50 2020  418.87.00\n",
    "[0] GeForce RTX 2080 Ti | 46'C,   0 % |   295 / 10989 MB | dc:python/944(285M)\n",
    "```\n",
    "\n",
    "## 0.4 验证\n",
    "```\n",
    "gz_6237_gpu             Sat Feb 15 23:01:56 2020  418.87.00\n",
    "[0] GeForce RTX 2080 Ti | 43'C,   0 % |  4691 / 10989 MB | dc:python/1641(4681M)\n",
    "```"
   ]
  },
  {
   "cell_type": "code",
   "execution_count": 6,
   "metadata": {},
   "outputs": [],
   "source": [
    "## 按照固定的比例分配。\n",
    "## 以下代码会占用所有可使用的GPU的40%显存\n",
    "#config.gpu_optionsu.pre_process_gpu_memery_fraction = 0.4"
   ]
  },
  {
   "cell_type": "markdown",
   "metadata": {},
   "source": [
    "## 运行会话的第二种方式（不推荐）"
   ]
  },
  {
   "cell_type": "code",
   "execution_count": 7,
   "metadata": {},
   "outputs": [
    {
     "name": "stdout",
     "output_type": "stream",
     "text": [
      "Step:0 | W:[[ 0.865156   -0.54459083]] b:[0.6344692]| Loss:0.215562641620636\n",
      "Step:20 | W:[[0.16806549 0.0657469 ]] b:[0.33653265]| Loss:0.0021513639949262142\n",
      "Step:40 | W:[[0.10180449 0.17509796]] b:[0.3121652]| Loss:5.5768032325431705e-05\n",
      "Step:60 | W:[[0.09761121 0.19419566]] b:[0.3042347]| Loss:3.178116458002478e-06\n",
      "Step:80 | W:[[0.09873608 0.19833933]] b:[0.30150068]| Loss:3.361149651937012e-07\n",
      "Step:100 | W:[[0.09949227 0.19946127]] b:[0.30053547]| Loss:4.185685753554935e-08\n",
      "Step:120 | W:[[0.0998107 0.1998145]] b:[0.3001916]| Loss:5.352108534140143e-09\n",
      "Step:140 | W:[[0.09993116 0.19993453]] b:[0.30006862]| Loss:6.871650470863244e-10\n",
      "Step:160 | W:[[0.09997521 0.19997668]] b:[0.30002457]| Loss:8.807348600425868e-11\n",
      "Step:180 | W:[[0.09999108 0.19999166]] b:[0.30000883]| Loss:1.1372743025095389e-11\n",
      "Step:200 | W:[[0.09999678 0.19999701]] b:[0.30000317]| Loss:1.4702194539931157e-12\n"
     ]
    }
   ],
   "source": [
    "# 启动图 (graph)\n",
    "sess = tf.Session(config = tf.ConfigProto(log_device_placement=True))\n",
    "sess.run(init)\n",
    "\n",
    "# 拟合平面\n",
    "for step in range(0, 201):\n",
    "    sess.run(train)\n",
    "    if step % 20 == 0:\n",
    "        print(\"Step:{} | W:{} b:{}| Loss:{}\".format(step, sess.run(W), sess.run(b), sess.run(loss)))\n",
    "sess.close() # 必须关闭"
   ]
  },
  {
   "cell_type": "code",
   "execution_count": 11,
   "metadata": {},
   "outputs": [],
   "source": [
    "import os"
   ]
  },
  {
   "cell_type": "code",
   "execution_count": 12,
   "metadata": {},
   "outputs": [],
   "source": [
    "os.environ[\"CUDA_VISIBLE_DEVICES\"] = \"2\"  # 指定只是用第三块GPU"
   ]
  },
  {
   "cell_type": "code",
   "execution_count": null,
   "metadata": {},
   "outputs": [],
   "source": []
  }
 ],
 "metadata": {
  "kernelspec": {
   "display_name": "Python 3",
   "language": "python",
   "name": "python3"
  },
  "language_info": {
   "codemirror_mode": {
    "name": "ipython",
    "version": 3
   },
   "file_extension": ".py",
   "mimetype": "text/x-python",
   "name": "python",
   "nbconvert_exporter": "python",
   "pygments_lexer": "ipython3",
   "version": "3.6.9"
  }
 },
 "nbformat": 4,
 "nbformat_minor": 2
}
