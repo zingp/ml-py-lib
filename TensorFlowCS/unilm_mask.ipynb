{
 "cells": [
  {
   "cell_type": "code",
   "execution_count": 2,
   "metadata": {},
   "outputs": [
    {
     "name": "stderr",
     "output_type": "stream",
     "text": [
      "Using TensorFlow backend.\n"
     ]
    }
   ],
   "source": [
    "import tensorflow as tf\n",
    "import keras\n",
    "import keras.backend as K"
   ]
  },
  {
   "cell_type": "code",
   "execution_count": 3,
   "metadata": {},
   "outputs": [],
   "source": [
    "def seq2seq_attention_mask(s):\n",
    "    # 序列长度\n",
    "    seq_len = K.shape(s)[1]\n",
    "    # [1,n_head,seq_len,seq_len]\n",
    "    ones = K.ones((1, self.num_attention_heads, seq_len, seq_len))\n",
    "    # 下三角矩阵\n",
    "    a_mask = tf.matrix_band_part(ones, -1, 0)\n",
    "    # [batch_size, seq_len] -> [batch_size, 1, 1, seq_len]\n",
    "    s_ex12 = K.expand_dims(K.expand_dims(s, 1), 2)\n",
    "    # [batch_size, seq_len] -> [batch_size, 1, seq_len, 1]\n",
    "    s_ex13 = K.expand_dims(K.expand_dims(s, 1), 3)\n",
    "    a_mask = (1 - s_ex13) * (1 - s_ex12) + s_ex13 * a_mask\n",
    "    a_mask = K.reshape(a_mask, (-1, seq_len, seq_len))\n",
    "    return a_mask"
   ]
  },
  {
   "cell_type": "code",
   "execution_count": null,
   "metadata": {},
   "outputs": [],
   "source": [
    "self.attention_mask = Lambda(seq2seq_attention_mask,\n",
    "                                         name='Attention-Mask')(segment_ids)"
   ]
  }
 ],
 "metadata": {
  "kernelspec": {
   "display_name": "Python 3",
   "language": "python",
   "name": "python3"
  },
  "language_info": {
   "codemirror_mode": {
    "name": "ipython",
    "version": 3
   },
   "file_extension": ".py",
   "mimetype": "text/x-python",
   "name": "python",
   "nbconvert_exporter": "python",
   "pygments_lexer": "ipython3",
   "version": "3.6.8"
  }
 },
 "nbformat": 4,
 "nbformat_minor": 2
}
